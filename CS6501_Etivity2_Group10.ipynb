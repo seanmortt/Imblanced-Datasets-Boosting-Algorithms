{
  "nbformat": 4,
  "nbformat_minor": 0,
  "metadata": {
    "colab": {
      "name": "CS6501_Etivity2_Group10.ipynb",
      "provenance": [],
      "collapsed_sections": [
        "FucX2-42_23s",
        "UDJKUBI3u8Ho",
        "QrjMM61wwevf",
        "wh6PjB54YtPo",
        "Dhr5ZQVMDAPD"
      ]
    },
    "kernelspec": {
      "display_name": "Python 3",
      "name": "python3"
    },
    "language_info": {
      "name": "python"
    }
  },
  "cells": [
    {
      "cell_type": "markdown",
      "metadata": {
        "id": "hr1lxwdGXFCO"
      },
      "source": [
        "<div>\n",
        "<img src=\"https://drive.google.com/uc?export=view&id=1vK33e_EqaHgBHcbRV_m38hx6IkG0blK_\" width=\"350\"/>\n",
        "</div> \n",
        "\n",
        "#**Artificial Intelligence - MSc**\n",
        "##CS6501 - MACHINE LEARNING APPLICATIONS \n",
        "\n",
        "###Instructor: Enrique Naredo\n",
        "###CS6501_Assignment_2"
      ]
    },
    {
      "cell_type": "code",
      "metadata": {
        "cellView": "form",
        "id": "LqXD_IwUQuBF"
      },
      "source": [
        "#@title Current Date\n",
        "Today = '2021-10-17' #@param {type:\"date\"}\n"
      ],
      "execution_count": null,
      "outputs": []
    },
    {
      "cell_type": "code",
      "metadata": {
        "cellView": "form",
        "id": "sZNAm_1DHSP7"
      },
      "source": [
        "#@markdown ---\n",
        "#@markdown ### Enter your details here:\n",
        "Student_1 = \"17230004   |   Eoin Halpin\" #@param {type:\"string\"}\n",
        "Student_2 = \"17246067   |   James Larkin\" #@param {type:\"string\"}\n",
        "Student_3 = \"17238889   |   Karl Mullane\" #@param {type:\"string\"}\n",
        "Student_4 = \"17236444   |   Sean Mortimer\" #@param {type:\"string\"}\n",
        "Student_5 = \"16170571   |   Gerard Holian\" #@param {type:\"string\"}\n",
        "#@markdown ---"
      ],
      "execution_count": null,
      "outputs": []
    },
    {
      "cell_type": "code",
      "metadata": {
        "cellView": "form",
        "id": "r39xGZckTpKx"
      },
      "source": [
        "#@title Notebook information\n",
        "Notebook_type = 'Etivity' #@param [\"Example\", \"Lab\", \"Practice\", \"Etivity\", \"Assignment\", \"Exam\"]\n",
        "Version = 'Final' #@param [\"Draft\", \"Final\"] {type:\"raw\"}\n",
        "Submission = True #@param {type:\"boolean\"}"
      ],
      "execution_count": null,
      "outputs": []
    },
    {
      "cell_type": "code",
      "metadata": {
        "colab": {
          "base_uri": "https://localhost:8080/"
        },
        "id": "w9fYfRy6Bk7q",
        "outputId": "10e08e06-135a-4199-a86f-76ddc0ece1e0"
      },
      "source": [
        "#Mounting Drive\n",
        "from google.colab import drive\n",
        "drive.mount('/content/drive')"
      ],
      "execution_count": null,
      "outputs": [
        {
          "output_type": "stream",
          "name": "stdout",
          "text": [
            "Drive already mounted at /content/drive; to attempt to forcibly remount, call drive.mount(\"/content/drive\", force_remount=True).\n"
          ]
        }
      ]
    },
    {
      "cell_type": "markdown",
      "metadata": {
        "id": "xWThN4SNq4-v"
      },
      "source": [
        "# **1. Introduction**"
      ]
    },
    {
      "cell_type": "markdown",
      "metadata": {
        "id": "I9TfhXdfqqTO"
      },
      "source": [
        "## **1.1 Background**"
      ]
    },
    {
      "cell_type": "markdown",
      "metadata": {
        "id": "tgoS1IhoR72v"
      },
      "source": [
        "The aim of this report is to address imbalanced datasets and classification problems. Within the report, one synthetic dataset and two 'real-world' datasets (iris and creditcard) will be utilised. The synthetic data will be created with an inbalance, while the creditcard data is already imbalaced. The iris data will be altered to create an inbalance. \n",
        "\n",
        "Undersampling, Oversampling and Penalise Algorithm techniques will be deployed to alter the data. A state-of-the-art machine learning method called XGBoost will be applied as the baseline classifier model, and compared against other successful methods discussed in the previous assignments.\n"
      ]
    },
    {
      "cell_type": "markdown",
      "metadata": {
        "id": "qQ4xLDdgr3Ux"
      },
      "source": [
        "## **1.2 Methodology**"
      ]
    },
    {
      "cell_type": "markdown",
      "metadata": {
        "id": "_v5Dq1HjV9gl"
      },
      "source": [
        "###1.2.1 Imbalanced Datasets"
      ]
    },
    {
      "cell_type": "markdown",
      "metadata": {
        "id": "PuSSh3KdNHJP"
      },
      "source": [
        "An imbalanced dataset is a dataset within which one class is much more frequent than the other. In real - life scenarios, imbalanced data is the norm. It would be extremely rare \"that the events of interest have equal or even similar frequency in the data\" (Muller and Guido, 2016). When doing machine learning in the real world, imbalanced classes/datasets are a common problem that, if left unaddressed, would reduce the performance of a model. (Albon, 2018). "
      ]
    },
    {
      "cell_type": "markdown",
      "metadata": {
        "id": "B7Ka3aCEN4mb"
      },
      "source": [
        "Undersampling can be used to balance the class distribution of a dataset that is imbalanced. Undersampling itself refers to a set of techniques used to balance imbalanced datasets (Brownlee, 2021). The approach we have taken is The Near Miss algorithm. The Near Miss algorithm balances the data by \"looking at the class distribution and randomly eliminating samples from the larger class\" (Madhukar, 2020). \n",
        "\n",
        "To address the problem of an imbalanced dataset, oversampling can also be used. Oversampling \"duplicates examples from the minority class in the training dataset\" (Brownlee, 2021). Sometimes this can result in overfitting which happens when a model is fit too closely to the nuances of the training set. While this model works very well on the training set, it may have difficulty when it comes to new data (Muller and Guido, 2016). \n",
        "\n",
        "Resampling methods such as undersampling and oversampling are both focused on balancing the dataset. Undersampling and oversampling both seek to achieve the same goal, they just do it in different ways. \"Oversampling methods duplicate or create new synthetic examples in the minority class, whereas undersampling methods delete or merge examples in the majority class\" (Brownlee, 2021). In this assignment we are going to use both the Near Miss undersampling method in an attempt to balance the dataset and an oversample strategy."
      ]
    },
    {
      "cell_type": "markdown",
      "metadata": {
        "id": "8-lmARUd_fI9"
      },
      "source": [
        "![Under and Oversampling.PNG](data:image/png;base64,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)"
      ]
    },
    {
      "cell_type": "markdown",
      "metadata": {
        "id": "j9zfiqUE0-48"
      },
      "source": [
        "XGBoost is a Python package and is useful if you want to apply gradient boosting to a large scale problem. XGBoost is similar to the Random Forest Classifier in that it is a tree - based model. It is a powerful model and is widely used for supervised learning. However, there are some drawbacks associated with it such as it sometimes it requires \"careful tuning of the parameters and may take a long time to train\" (Muller and Guido, 2016). \n",
        "\n",
        "In this assignment we are going to compare the results of the XGBClassifier against the results of the methods learnt in previous weeks such as Logistic Regression, Support Vector Machine (SVM), Gaussian Naive Bayes (GNB), Random Forest Classifier and a Penalise Algorithm.\n",
        "\n",
        "As XGBoost is an ensemble technique, an initial model (base learner) must be defined to predict the target variable $y$. Further models can then be derived from here through combinations of weak learners. The purpose of boosting is to create new base learners while reducing residuals in the process. These base learners are the regression trees in the ensemble model. Tianqi Chen, who co-created the library XGBoost used the following ensemble tree as an example of the process (Chen and Guestrin, 2016)."
      ]
    },
    {
      "cell_type": "markdown",
      "metadata": {
        "id": "2XL3rA6X_YYq"
      },
      "source": [
        "![XGBoost.PNG](data:image/png;base64,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)"
      ]
    },
    {
      "cell_type": "markdown",
      "metadata": {
        "id": "pfsGUUdk_BjK"
      },
      "source": [
        "The final prediction for a given example is the sum of predictions from each tree (Chen and Guestrin, 2016).  \n",
        "The first model is initialised by minimising the mean squared error (MSE) (Sundaram, 2021).  \n",
        "\n",
        "$$f_{0}(x) = \\textrm{arg min}_{\\gamma} \\sum \\limits _{i=1} ^{N} L(y_{i}, \\gamma)$$\n",
        "\n",
        "$$r_{im} = - \\displaystyle \\Bigg[\\frac{\\partial L(y_{i}, f(x_{i}))}{\\partial f(x_{i})}\\Bigg]_{f=f_{m−1}}$$\n",
        "\n",
        "The MSE is then differentiated with respect to $y$ to minimise the residuals. This gives us the following result and is used as a starting point $F_0(x)$ for boosting.\n",
        "\n",
        "$$f_0(x) = \\frac{\\sum\\limits_{i=1} ^{n}y_i}{n}$$\n",
        "\n",
        "Intuitively, $y_i – f_0(x)$ gives us the new residual errors for our observations and we can now use this information to find $h_1(x)$. This computes the mean of the residuals found from our initial model and our new model (tree) can be derived by summing $h_1(x)$ and $f_0(x)$ to give us $f_1(x)$.\n",
        "\n",
        "$$f_1(x) \\leftarrow f_0(x) + h_1(x)$$  \n",
        "$$f_2(x) \\leftarrow f_1(x) + h_2(x)$$  \n",
        "$$f_m(x) = F_{m-1} (x) + h_m(x)$$\n",
        "\n",
        "This process is iterated $m$ times until the residuals have been minimised as much as possible. Each step of the process combines the weaker learners to create a stronger learner. This improves the accuracy of predictions within the model. The number of iterations in this boosting method can be important to prevent the issue of overfitting. Therefore, validation techniques such a k-fold cross validation can be employed to find an optimal cut off point (Sundaram, 2021). The default in the XGBoost library is set to 100 trees which we have deemed to be an appropriate stopping criteria for our three datasets (n.d.).  \n",
        "Now that XGBoosting has been explained, it will be applied to three datasets synthetic, Iris and credit card fraud. The results will also be compared to those from alternative predictive algorithms as previously mentioned.\n",
        "\n"
      ]
    },
    {
      "cell_type": "markdown",
      "metadata": {
        "id": "SNO70Pe7UAo4"
      },
      "source": [
        "##Libraries"
      ]
    },
    {
      "cell_type": "code",
      "metadata": {
        "id": "zhwwFVnaYLoH"
      },
      "source": [
        "!pip install -U imbalanced-learn"
      ],
      "execution_count": null,
      "outputs": []
    },
    {
      "cell_type": "code",
      "metadata": {
        "id": "4FZrmR3n7h3B"
      },
      "source": [
        "#Imports\n",
        "import numpy as np\n",
        "import pandas as pd\n",
        "import seaborn as sns\n",
        "import matplotlib.pyplot as plt\n",
        "import warnings\n",
        "from collections import Counter\n",
        "from sklearn.datasets import make_classification\n",
        "from matplotlib import pyplot\n",
        "from numpy import where\n",
        "from sklearn import datasets\n",
        "from sklearn.model_selection import train_test_split\n",
        "from xgboost import XGBClassifier\n",
        "from sklearn.linear_model import LogisticRegression\n",
        "from sklearn.svm import SVC\n",
        "from sklearn.naive_bayes import GaussianNB\n",
        "from sklearn.ensemble import RandomForestClassifier\n",
        "from sklearn.metrics import accuracy_score\n",
        "from sklearn.metrics import precision_score\n",
        "from sklearn.metrics import recall_score\n",
        "from sklearn.metrics import f1_score\n",
        "from imblearn.datasets import make_imbalance\n",
        "from imblearn.under_sampling import RandomUnderSampler\n",
        "from imblearn.combine import SMOTEENN\n",
        "from sklearn.preprocessing import StandardScaler, RobustScaler\n",
        "from sklearn.model_selection import StratifiedShuffleSplit\n",
        "from sklearn.model_selection import StratifiedKFold\n"
      ],
      "execution_count": null,
      "outputs": []
    },
    {
      "cell_type": "markdown",
      "metadata": {
        "id": "Zt3RzJlvYJ29"
      },
      "source": [
        "# **2. Imbalanced Synthetic Dataset**"
      ]
    },
    {
      "cell_type": "markdown",
      "metadata": {
        "id": "jx-zGKRwYJ2-"
      },
      "source": [
        "## **2.1 Data Preparation**\n",
        "No data preparation required as it is a synthetic dataset and no real world dataset had to be loaded in. See section 2.2 for the creation of the synthtetic imbalanced dataset."
      ]
    },
    {
      "cell_type": "markdown",
      "metadata": {
        "id": "FucX2-42_23s"
      },
      "source": [
        "## **2.2 Imbalanced**"
      ]
    },
    {
      "cell_type": "code",
      "metadata": {
        "id": "xn647KdT_rlo"
      },
      "source": [
        "## synthetic imbalanced classification problem\n",
        "\n",
        "# number of samples\n",
        "N = 1000\n",
        "# number of classes\n",
        "C = 2\n",
        "# number of features\n",
        "M = 2\n",
        "# weights\n",
        "w1 = 0.90\n",
        "w2 = 1 - w1\n",
        "# Generate a random n-class classification problem\n",
        "X, y = make_classification(n_samples=N, n_features=M, n_redundant=0, n_clusters_per_class=1, weights=[w1, w2], flip_y=0)\n"
      ],
      "execution_count": null,
      "outputs": []
    },
    {
      "cell_type": "code",
      "metadata": {
        "colab": {
          "base_uri": "https://localhost:8080/"
        },
        "id": "_bY-UmuvAiMq",
        "outputId": "e95275d7-7d8c-4f97-db71-6bddc22c962a"
      },
      "source": [
        "#count classes and its samples \n",
        "count_class = Counter(y)\n",
        "print(count_class)\n"
      ],
      "execution_count": null,
      "outputs": [
        {
          "output_type": "stream",
          "name": "stdout",
          "text": [
            "Counter({0: 901, 1: 99})\n"
          ]
        }
      ]
    },
    {
      "cell_type": "code",
      "metadata": {
        "colab": {
          "base_uri": "https://localhost:8080/",
          "height": 268
        },
        "id": "hTRpORm_tFxw",
        "outputId": "099de831-79f8-4ebf-fa23-182dc446adf4"
      },
      "source": [
        "#scatter plot\n",
        "for label, _ in count_class.items():\n",
        "  row = where(y == label)[0]\n",
        "  pyplot.scatter(X[row, 0], X[row, 1], label=str(label))\n",
        "\n",
        "pyplot.legend()\n",
        "pyplot.show()"
      ],
      "execution_count": null,
      "outputs": [
        {
          "output_type": "display_data",
          "data": {
            "image/png": "[encoded data removed]",
            "text/plain": [
              "<Figure size 432x288 with 1 Axes>"
            ]
          },
          "metadata": {
            "needs_background": "light"
          }
        }
      ]
    },
    {
      "cell_type": "code",
      "metadata": {
        "colab": {
          "base_uri": "https://localhost:8080/",
          "height": 336
        },
        "id": "W6Bw49e9tOhX",
        "outputId": "2f3f4715-7ba5-4143-cf08-2ec1959ee64e"
      },
      "source": [
        "#histogram\n",
        "sns.countplot(y)\n",
        "\n",
        "\n",
        "\n",
        "\n",
        "\n",
        "\n",
        "\n",
        "\n",
        "\n"
      ],
      "execution_count": null,
      "outputs": [
        {
          "output_type": "stream",
          "name": "stderr",
          "text": [
            "/usr/local/lib/python3.7/dist-packages/seaborn/_decorators.py:43: FutureWarning: Pass the following variable as a keyword arg: x. From version 0.12, the only valid positional argument will be `data`, and passing other arguments without an explicit keyword will result in an error or misinterpretation.\n",
            "  FutureWarning\n"
          ]
        },
        {
          "output_type": "execute_result",
          "data": {
            "text/plain": [
              "<matplotlib.axes._subplots.AxesSubplot at 0x7f6c71ef85d0>"
            ]
          },
          "metadata": {},
          "execution_count": 9
        },
        {
          "output_type": "display_data",
          "data": {
            "image/png": "[encoded data removed]",
            "text/plain": [
              "<Figure size 432x288 with 1 Axes>"
            ]
          },
          "metadata": {
            "needs_background": "light"
          }
        }
      ]
    },
    {
      "cell_type": "markdown",
      "metadata": {
        "id": "8wwUX_T8tS7O"
      },
      "source": [
        "###2.2.1 XGBClassifier - Imbalanced Dataset"
      ]
    },
    {
      "cell_type": "code",
      "metadata": {
        "id": "hyQ7RUistRyF"
      },
      "source": [
        "#train and test sets\n",
        "#test size factor\n",
        "TS = 0.50\n",
        "X_train, X_test, y_train, y_test = train_test_split(X, y, test_size=TS, stratify=y)"
      ],
      "execution_count": null,
      "outputs": []
    },
    {
      "cell_type": "code",
      "metadata": {
        "id": "ZEBWkxqtT76b"
      },
      "source": [
        "# compare XGBClassifier against the previous methods\n",
        "\n",
        "#imports\n",
        "from numpy import loadtxt\n",
        "from xgboost import XGBClassifier\n",
        "from sklearn.model_selection import train_test_split\n",
        "from sklearn.metrics import accuracy_score"
      ],
      "execution_count": null,
      "outputs": []
    },
    {
      "cell_type": "code",
      "metadata": {
        "colab": {
          "base_uri": "https://localhost:8080/"
        },
        "id": "KFGTesAKT8t3",
        "outputId": "95dc1f99-2d5a-42e6-c890-c321171b5ec8"
      },
      "source": [
        "#create model\n",
        "from xgboost import XGBClassifier\n",
        "\n",
        "#fit the model\n",
        "XGBC = XGBClassifier()\n",
        "XGBC.fit(X_train, y_train)"
      ],
      "execution_count": null,
      "outputs": [
        {
          "output_type": "execute_result",
          "data": {
            "text/plain": [
              "XGBClassifier(base_score=0.5, booster='gbtree', colsample_bylevel=1,\n",
              "              colsample_bynode=1, colsample_bytree=1, gamma=0,\n",
              "              learning_rate=0.1, max_delta_step=0, max_depth=3,\n",
              "              min_child_weight=1, missing=None, n_estimators=100, n_jobs=1,\n",
              "              nthread=None, objective='binary:logistic', random_state=0,\n",
              "              reg_alpha=0, reg_lambda=1, scale_pos_weight=1, seed=None,\n",
              "              silent=None, subsample=1, verbosity=1)"
            ]
          },
          "metadata": {},
          "execution_count": 12
        }
      ]
    },
    {
      "cell_type": "code",
      "metadata": {
        "colab": {
          "base_uri": "https://localhost:8080/"
        },
        "id": "OHeM8v6WUCI_",
        "outputId": "4b6ecadb-59aa-45a6-c3ee-4a8a74413b22"
      },
      "source": [
        "# Predictions\n",
        "y_pred = XGBC.predict(X_test)\n",
        "#evaulate predictions\n",
        "print('Accuracy: %.3f' % accuracy_score(y_test, y_pred))\n",
        "print('Precision: %.3f' % precision_score(y_test, y_pred))\n",
        "print('Recall: %.3f' % recall_score(y_test, y_pred))\n",
        "print('F-measure: %.3f' % f1_score(y_test, y_pred))"
      ],
      "execution_count": null,
      "outputs": [
        {
          "output_type": "stream",
          "name": "stdout",
          "text": [
            "Accuracy: 0.954\n",
            "Precision: 0.846\n",
            "Recall: 0.660\n",
            "F-measure: 0.742\n"
          ]
        }
      ]
    },
    {
      "cell_type": "markdown",
      "metadata": {
        "id": "dXoEMgzXTeHn"
      },
      "source": [
        "### 2.2.2 Logistic Regression - Imbalanced Dataset"
      ]
    },
    {
      "cell_type": "code",
      "metadata": {
        "colab": {
          "base_uri": "https://localhost:8080/"
        },
        "id": "CiZg4BCttRvD",
        "outputId": "4e6d33b6-8f64-43bf-d297-fd50aba22410"
      },
      "source": [
        "#create model\n",
        "LR = LogisticRegression(solver='liblinear')\n",
        "#fit the model\n",
        "LR.fit(X_train, y_train)"
      ],
      "execution_count": null,
      "outputs": [
        {
          "output_type": "execute_result",
          "data": {
            "text/plain": [
              "LogisticRegression(C=1.0, class_weight=None, dual=False, fit_intercept=True,\n",
              "                   intercept_scaling=1, l1_ratio=None, max_iter=100,\n",
              "                   multi_class='auto', n_jobs=None, penalty='l2',\n",
              "                   random_state=None, solver='liblinear', tol=0.0001, verbose=0,\n",
              "                   warm_start=False)"
            ]
          },
          "metadata": {},
          "execution_count": 14
        }
      ]
    },
    {
      "cell_type": "code",
      "metadata": {
        "colab": {
          "base_uri": "https://localhost:8080/"
        },
        "id": "WkICSbxmtRsA",
        "outputId": "57031f02-e485-4b1d-bc80-816f8fbde494"
      },
      "source": [
        "#predictions\n",
        "y_pred = LR.predict(X_test)\n",
        "#evaulate predictions\n",
        "print('Accuracy: %.3f' % accuracy_score(y_test, y_pred))\n",
        "print('Precision: %.3f' % precision_score(y_test, y_pred))\n",
        "print('Recall: %.3f' % recall_score(y_test, y_pred))\n",
        "print('F-measure: %.3f' % f1_score(y_test, y_pred))"
      ],
      "execution_count": null,
      "outputs": [
        {
          "output_type": "stream",
          "name": "stdout",
          "text": [
            "Accuracy: 0.956\n",
            "Precision: 0.868\n",
            "Recall: 0.660\n",
            "F-measure: 0.750\n"
          ]
        }
      ]
    },
    {
      "cell_type": "markdown",
      "metadata": {
        "id": "wWCQi5XRt6Wj"
      },
      "source": [
        "### 2.2.3 Support Vector Machine - Imbalanced Dataset"
      ]
    },
    {
      "cell_type": "code",
      "metadata": {
        "colab": {
          "base_uri": "https://localhost:8080/"
        },
        "id": "vDJv7Fg0tRoU",
        "outputId": "b675628e-491b-4b7c-bd1d-6b1da5688bd7"
      },
      "source": [
        "from sklearn.svm import SVC\n",
        "\n",
        "svm = SVC(C=0.5, kernel='linear')\n",
        "#fit the model \n",
        "svm.fit(X_train, y_train)"
      ],
      "execution_count": null,
      "outputs": [
        {
          "output_type": "execute_result",
          "data": {
            "text/plain": [
              "SVC(C=0.5, break_ties=False, cache_size=200, class_weight=None, coef0=0.0,\n",
              "    decision_function_shape='ovr', degree=3, gamma='scale', kernel='linear',\n",
              "    max_iter=-1, probability=False, random_state=None, shrinking=True,\n",
              "    tol=0.001, verbose=False)"
            ]
          },
          "metadata": {},
          "execution_count": 16
        }
      ]
    },
    {
      "cell_type": "code",
      "metadata": {
        "colab": {
          "base_uri": "https://localhost:8080/"
        },
        "id": "DnK0_iwstRgc",
        "outputId": "558ff887-b295-4201-9a5f-838e4ebf34a4"
      },
      "source": [
        "#predictions\n",
        "y_pred = svm.predict(X_test)\n",
        "#evaluate predictions\n",
        "print('Accuracy: %.3f' % accuracy_score(y_test, y_pred))\n",
        "print('Precision: %.3f' % precision_score(y_test, y_pred))\n",
        "print('Recall: %.3f' % recall_score(y_test, y_pred))\n",
        "print('F-measure: %.3f' % f1_score(y_test, y_pred))"
      ],
      "execution_count": null,
      "outputs": [
        {
          "name": "stdout",
          "output_type": "stream",
          "text": [
            "Accuracy: 0.956\n",
            "Precision: 0.868\n",
            "Recall: 0.660\n",
            "F-measure: 0.750\n"
          ]
        }
      ]
    },
    {
      "cell_type": "markdown",
      "metadata": {
        "id": "WUV450HtuGrA"
      },
      "source": [
        "### 2.2.4 Gaussian Naive Bayes - Imbalanced Dataset"
      ]
    },
    {
      "cell_type": "code",
      "metadata": {
        "colab": {
          "base_uri": "https://localhost:8080/"
        },
        "id": "w2TRwGQLuGbG",
        "outputId": "d0fca850-137c-4b02-f796-57cb29f964b9"
      },
      "source": [
        "from sklearn.naive_bayes import GaussianNB\n",
        "\n",
        "GNB = GaussianNB()\n",
        "#fit the model\n",
        "GNB.fit(X_train, y_train)"
      ],
      "execution_count": null,
      "outputs": [
        {
          "output_type": "execute_result",
          "data": {
            "text/plain": [
              "GaussianNB(priors=None, var_smoothing=1e-09)"
            ]
          },
          "metadata": {},
          "execution_count": 17
        }
      ]
    },
    {
      "cell_type": "code",
      "metadata": {
        "colab": {
          "base_uri": "https://localhost:8080/"
        },
        "id": "JdtN3JZDuGZC",
        "outputId": "264513ec-0116-4932-d5ed-650b89fca19a"
      },
      "source": [
        "#predictions\n",
        "y_pred = GNB.predict(X_test)\n",
        "#evaluate predictions\n",
        "print('Accuracy: %.3f' % accuracy_score(y_test, y_pred))\n",
        "print('Precision: %.3f' % precision_score(y_test, y_pred))\n",
        "print('Recall: %.3f' % recall_score(y_test, y_pred))\n",
        "print('F-measure: %.3f' % f1_score(y_test, y_pred))"
      ],
      "execution_count": null,
      "outputs": [
        {
          "output_type": "stream",
          "name": "stdout",
          "text": [
            "Accuracy: 0.960\n",
            "Precision: 0.800\n",
            "Recall: 0.800\n",
            "F-measure: 0.800\n"
          ]
        }
      ]
    },
    {
      "cell_type": "markdown",
      "metadata": {
        "id": "WM31QBpnuYHz"
      },
      "source": [
        "### 2.2.5 Random Forest - Imbalanced Dataset"
      ]
    },
    {
      "cell_type": "code",
      "metadata": {
        "colab": {
          "base_uri": "https://localhost:8080/"
        },
        "id": "cqlPUE80uGVY",
        "outputId": "5d655854-e09a-41f7-a512-6d640a6bdfb3"
      },
      "source": [
        "from sklearn.ensemble import RandomForestClassifier\n",
        "\n",
        "RF = RandomForestClassifier(random_state=1, n_estimators=100)\n",
        "#fit the model\n",
        "RF.fit(X_train, y_train)"
      ],
      "execution_count": null,
      "outputs": [
        {
          "output_type": "execute_result",
          "data": {
            "text/plain": [
              "RandomForestClassifier(bootstrap=True, ccp_alpha=0.0, class_weight=None,\n",
              "                       criterion='gini', max_depth=None, max_features='auto',\n",
              "                       max_leaf_nodes=None, max_samples=None,\n",
              "                       min_impurity_decrease=0.0, min_impurity_split=None,\n",
              "                       min_samples_leaf=1, min_samples_split=2,\n",
              "                       min_weight_fraction_leaf=0.0, n_estimators=100,\n",
              "                       n_jobs=None, oob_score=False, random_state=1, verbose=0,\n",
              "                       warm_start=False)"
            ]
          },
          "metadata": {},
          "execution_count": 18
        }
      ]
    },
    {
      "cell_type": "code",
      "metadata": {
        "colab": {
          "base_uri": "https://localhost:8080/"
        },
        "id": "8Pq3taf8uGSE",
        "outputId": "eb846c88-3012-43f9-98c2-63c5a7d7bafc"
      },
      "source": [
        "#predictions\n",
        "y_pred = RF.predict(X_test)\n",
        "#evaluate predictions\n",
        "print('Accuracy: %.3f' % accuracy_score(y_test, y_pred))\n",
        "print('Precision: %.3f' % precision_score(y_test, y_pred))\n",
        "print('Recall: %.3f' % recall_score(y_test, y_pred))\n",
        "print('F-measure: %.3f' % f1_score(y_test, y_pred))"
      ],
      "execution_count": null,
      "outputs": [
        {
          "output_type": "stream",
          "name": "stdout",
          "text": [
            "Accuracy: 0.956\n",
            "Precision: 0.833\n",
            "Recall: 0.700\n",
            "F-measure: 0.761\n"
          ]
        }
      ]
    },
    {
      "cell_type": "markdown",
      "metadata": {
        "id": "rxM9kxeGwUhU"
      },
      "source": [
        "## **2.3 Undersampling**"
      ]
    },
    {
      "cell_type": "markdown",
      "metadata": {
        "id": "UDJKUBI3u8Ho"
      },
      "source": [
        "##Undersample Strategy - Near Miss\n",
        "\n"
      ]
    },
    {
      "cell_type": "code",
      "metadata": {
        "colab": {
          "base_uri": "https://localhost:8080/"
        },
        "id": "9J0JN_nTu7gG",
        "outputId": "b2ce3ed5-de07-42f9-ca8c-228767c049f4"
      },
      "source": [
        "from imblearn.under_sampling import NearMiss\n",
        "# https://imbalanced-learn.org/dev/references/generated/imblearn.under_sampling.NearMiss.html\n",
        "\n",
        "nm = NearMiss()\n",
        "\n",
        "X_nm, y_nm = nm.fit_resample(X, y)\n",
        "\n",
        "print('Original dataset shape:', Counter(y))\n",
        "print('Resample dataset shape:', Counter(y_nm))"
      ],
      "execution_count": null,
      "outputs": [
        {
          "output_type": "stream",
          "name": "stdout",
          "text": [
            "Original dataset shape: Counter({0: 901, 1: 99})\n",
            "Resample dataset shape: Counter({0: 99, 1: 99})\n"
          ]
        },
        {
          "output_type": "stream",
          "name": "stderr",
          "text": [
            "/usr/local/lib/python3.7/dist-packages/sklearn/utils/deprecation.py:87: FutureWarning: Function safe_indexing is deprecated; safe_indexing is deprecated in version 0.22 and will be removed in version 0.24.\n",
            "  warnings.warn(msg, category=FutureWarning)\n",
            "/usr/local/lib/python3.7/dist-packages/sklearn/utils/deprecation.py:87: FutureWarning: Function safe_indexing is deprecated; safe_indexing is deprecated in version 0.22 and will be removed in version 0.24.\n",
            "  warnings.warn(msg, category=FutureWarning)\n",
            "/usr/local/lib/python3.7/dist-packages/sklearn/utils/deprecation.py:87: FutureWarning: Function safe_indexing is deprecated; safe_indexing is deprecated in version 0.22 and will be removed in version 0.24.\n",
            "  warnings.warn(msg, category=FutureWarning)\n"
          ]
        }
      ]
    },
    {
      "cell_type": "code",
      "metadata": {
        "colab": {
          "base_uri": "https://localhost:8080/",
          "height": 336
        },
        "id": "yfrHwozeuGBm",
        "outputId": "dee60b4b-d39e-49ae-b84b-ea809c4258b9"
      },
      "source": [
        "# histogram\n",
        "sns.countplot(y_nm)"
      ],
      "execution_count": null,
      "outputs": [
        {
          "output_type": "stream",
          "name": "stderr",
          "text": [
            "/usr/local/lib/python3.7/dist-packages/seaborn/_decorators.py:43: FutureWarning: Pass the following variable as a keyword arg: x. From version 0.12, the only valid positional argument will be `data`, and passing other arguments without an explicit keyword will result in an error or misinterpretation.\n",
            "  FutureWarning\n"
          ]
        },
        {
          "output_type": "execute_result",
          "data": {
            "text/plain": [
              "<matplotlib.axes._subplots.AxesSubplot at 0x7f6c719d5c10>"
            ]
          },
          "metadata": {},
          "execution_count": 22
        },
        {
          "output_type": "display_data",
          "data": {
            "image/png": "[encoded data removed]",
            "text/plain": [
              "<Figure size 432x288 with 1 Axes>"
            ]
          },
          "metadata": {
            "needs_background": "light"
          }
        }
      ]
    },
    {
      "cell_type": "markdown",
      "metadata": {
        "id": "WegS69UTvTQK"
      },
      "source": [
        "### 2.3.1 XGBClassifier - Undersampling - Near Miss"
      ]
    },
    {
      "cell_type": "code",
      "metadata": {
        "id": "j8wwLGwDu7T5"
      },
      "source": [
        "# train and test sets\n",
        "# test size factor\n",
        "TS = 0.50\n",
        "X_nmtrain, X_nmtest, y_nmtrain, y_nmtest = train_test_split(X_nm, y_nm, test_size=TS, stratify=y_nm)"
      ],
      "execution_count": null,
      "outputs": []
    },
    {
      "cell_type": "code",
      "metadata": {
        "colab": {
          "base_uri": "https://localhost:8080/"
        },
        "id": "fww3HBWtWn2r",
        "outputId": "6df24b60-90b3-4bcd-ea0b-1b2e326df7b4"
      },
      "source": [
        "#create model\n",
        "from xgboost import XGBClassifier\n",
        "\n",
        "#fit the model\n",
        "XGBC = XGBClassifier()\n",
        "XGBC.fit(X_nmtrain, y_nmtrain)"
      ],
      "execution_count": null,
      "outputs": [
        {
          "output_type": "execute_result",
          "data": {
            "text/plain": [
              "XGBClassifier(base_score=0.5, booster='gbtree', colsample_bylevel=1,\n",
              "              colsample_bynode=1, colsample_bytree=1, gamma=0,\n",
              "              learning_rate=0.1, max_delta_step=0, max_depth=3,\n",
              "              min_child_weight=1, missing=None, n_estimators=100, n_jobs=1,\n",
              "              nthread=None, objective='binary:logistic', random_state=0,\n",
              "              reg_alpha=0, reg_lambda=1, scale_pos_weight=1, seed=None,\n",
              "              silent=None, subsample=1, verbosity=1)"
            ]
          },
          "metadata": {},
          "execution_count": 24
        }
      ]
    },
    {
      "cell_type": "code",
      "metadata": {
        "colab": {
          "base_uri": "https://localhost:8080/"
        },
        "id": "DumepAfCWtP4",
        "outputId": "1a19da81-064c-40df-848d-1658ba3703ba"
      },
      "source": [
        "y_nmpred = XGBC.predict(X_nmtest)\n",
        "# evaluate predictions\n",
        "print('Accuracy: %.3f' % accuracy_score(y_nmtest, y_nmpred))\n",
        "print('Precision: %.3f' % precision_score(y_nmtest, y_nmpred))\n",
        "print('Recall: %.3f' % recall_score(y_nmtest, y_nmpred))\n",
        "print('F-measure: %.3f' % f1_score(y_nmtest, y_nmpred))"
      ],
      "execution_count": null,
      "outputs": [
        {
          "output_type": "stream",
          "name": "stdout",
          "text": [
            "Accuracy: 0.747\n",
            "Precision: 0.766\n",
            "Recall: 0.720\n",
            "F-measure: 0.742\n"
          ]
        }
      ]
    },
    {
      "cell_type": "markdown",
      "metadata": {
        "id": "_bo92hbcV6H2"
      },
      "source": [
        "### 2.3.2 Logistic Regression - Undersampling - Near Miss"
      ]
    },
    {
      "cell_type": "code",
      "metadata": {
        "colab": {
          "base_uri": "https://localhost:8080/"
        },
        "id": "cT58pFg2u7SD",
        "outputId": "f36a1f62-9dd6-4f49-875e-5d89fd61fc1b"
      },
      "source": [
        "# create model\n",
        "LR = LogisticRegression(solver='liblinear')\n",
        "# fit model\n",
        "LR.fit(X_nmtrain, y_nmtrain)"
      ],
      "execution_count": null,
      "outputs": [
        {
          "output_type": "execute_result",
          "data": {
            "text/plain": [
              "LogisticRegression(C=1.0, class_weight=None, dual=False, fit_intercept=True,\n",
              "                   intercept_scaling=1, l1_ratio=None, max_iter=100,\n",
              "                   multi_class='auto', n_jobs=None, penalty='l2',\n",
              "                   random_state=None, solver='liblinear', tol=0.0001, verbose=0,\n",
              "                   warm_start=False)"
            ]
          },
          "metadata": {},
          "execution_count": 26
        }
      ]
    },
    {
      "cell_type": "code",
      "metadata": {
        "colab": {
          "base_uri": "https://localhost:8080/"
        },
        "id": "jvUZMLzJu7N_",
        "outputId": "08a73892-b86f-469d-d723-626827f1cd31"
      },
      "source": [
        "# predictions\n",
        "y_nmpred = LR.predict(X_nmtest)\n",
        "# evaluate predictions\n",
        "print('Accuracy: %.3f' % accuracy_score(y_nmtest, y_nmpred))\n",
        "print('Precision: %.3f' % precision_score(y_nmtest, y_nmpred))\n",
        "print('Recall: %.3f' % recall_score(y_nmtest, y_nmpred))\n",
        "print('F-measure: %.3f' % f1_score(y_nmtest, y_nmpred))"
      ],
      "execution_count": null,
      "outputs": [
        {
          "output_type": "stream",
          "name": "stdout",
          "text": [
            "Accuracy: 0.778\n",
            "Precision: 0.833\n",
            "Recall: 0.700\n",
            "F-measure: 0.761\n"
          ]
        }
      ]
    },
    {
      "cell_type": "markdown",
      "metadata": {
        "id": "zo_XidC8vx_f"
      },
      "source": [
        "### 2.3.3 Support Vector Machine - Undersampling - Near Miss"
      ]
    },
    {
      "cell_type": "code",
      "metadata": {
        "colab": {
          "base_uri": "https://localhost:8080/"
        },
        "id": "7XEx4RHJu7L1",
        "outputId": "f0667375-73be-469e-c7d5-9901fa376d31"
      },
      "source": [
        "#create model\n",
        "from sklearn.svm import SVC\n",
        "\n",
        "svm = SVC(C=0.5, kernel='linear')\n",
        "#fit the model \n",
        "svm.fit(X_nmtrain, y_nmtrain)"
      ],
      "execution_count": null,
      "outputs": [
        {
          "output_type": "execute_result",
          "data": {
            "text/plain": [
              "SVC(C=0.5, break_ties=False, cache_size=200, class_weight=None, coef0=0.0,\n",
              "    decision_function_shape='ovr', degree=3, gamma='scale', kernel='linear',\n",
              "    max_iter=-1, probability=False, random_state=None, shrinking=True,\n",
              "    tol=0.001, verbose=False)"
            ]
          },
          "metadata": {},
          "execution_count": 28
        }
      ]
    },
    {
      "cell_type": "code",
      "metadata": {
        "colab": {
          "base_uri": "https://localhost:8080/"
        },
        "id": "ksqzL9vBu7JN",
        "outputId": "57531082-a53f-4ce4-e275-12485d7f4cdf"
      },
      "source": [
        "#predictions\n",
        "y_nmpred = svm.predict(X_nmtest)\n",
        "# evaluate predictions\n",
        "print('Accuracy: %.3f' % accuracy_score(y_nmtest, y_nmpred))\n",
        "print('Precision: %.3f' % precision_score(y_nmtest, y_nmpred))\n",
        "print('Recall: %.3f' % recall_score(y_nmtest, y_nmpred))\n",
        "print('F-measure: %.3f' % f1_score(y_nmtest, y_nmpred))"
      ],
      "execution_count": null,
      "outputs": [
        {
          "output_type": "stream",
          "name": "stdout",
          "text": [
            "Accuracy: 0.758\n",
            "Precision: 0.810\n",
            "Recall: 0.680\n",
            "F-measure: 0.739\n"
          ]
        }
      ]
    },
    {
      "cell_type": "markdown",
      "metadata": {
        "id": "cTmCUU5EwErj"
      },
      "source": [
        "### 2.3.4 Gaussain Naive Bayes - Undersampling - Near Miss"
      ]
    },
    {
      "cell_type": "code",
      "metadata": {
        "colab": {
          "base_uri": "https://localhost:8080/"
        },
        "id": "sylsTBvwu7F1",
        "outputId": "cc751a57-0cd1-4738-b356-2c9b1ab0c4ea"
      },
      "source": [
        "#create model \n",
        "from sklearn.naive_bayes import GaussianNB\n",
        "\n",
        "GNB = GaussianNB()\n",
        "#fit the model\n",
        "GNB.fit(X_nmtrain, y_nmtrain)"
      ],
      "execution_count": null,
      "outputs": [
        {
          "output_type": "execute_result",
          "data": {
            "text/plain": [
              "GaussianNB(priors=None, var_smoothing=1e-09)"
            ]
          },
          "metadata": {},
          "execution_count": 30
        }
      ]
    },
    {
      "cell_type": "code",
      "metadata": {
        "colab": {
          "base_uri": "https://localhost:8080/"
        },
        "id": "hUx7zuVgu7DI",
        "outputId": "386c2999-6aca-4ad2-b7db-8b89760f9be2"
      },
      "source": [
        "#predictions\n",
        "y_nmpred = GNB.predict(X_nmtest)\n",
        "# evaluate predictions\n",
        "print('Accuracy: %.3f' % accuracy_score(y_nmtest, y_nmpred))\n",
        "print('Precision: %.3f' % precision_score(y_nmtest, y_nmpred))\n",
        "print('Recall: %.3f' % recall_score(y_nmtest, y_nmpred))\n",
        "print('F-measure: %.3f' % f1_score(y_nmtest, y_nmpred))"
      ],
      "execution_count": null,
      "outputs": [
        {
          "output_type": "stream",
          "name": "stdout",
          "text": [
            "Accuracy: 0.798\n",
            "Precision: 0.857\n",
            "Recall: 0.720\n",
            "F-measure: 0.783\n"
          ]
        }
      ]
    },
    {
      "cell_type": "markdown",
      "metadata": {
        "id": "14tcybFFwRPn"
      },
      "source": [
        "### 2.3.5 Random Forest - Undersampling - Near Miss"
      ]
    },
    {
      "cell_type": "code",
      "metadata": {
        "colab": {
          "base_uri": "https://localhost:8080/"
        },
        "id": "9VlKZ__fwQ5G",
        "outputId": "022af8b7-d610-45fc-c581-dbad19e84057"
      },
      "source": [
        "#create model \n",
        "from sklearn.ensemble import RandomForestClassifier\n",
        "\n",
        "RF = RandomForestClassifier(random_state=1, n_estimators=100)\n",
        "#fit the model\n",
        "RF.fit(X_nmtrain, y_nmtrain)"
      ],
      "execution_count": null,
      "outputs": [
        {
          "output_type": "execute_result",
          "data": {
            "text/plain": [
              "RandomForestClassifier(bootstrap=True, ccp_alpha=0.0, class_weight=None,\n",
              "                       criterion='gini', max_depth=None, max_features='auto',\n",
              "                       max_leaf_nodes=None, max_samples=None,\n",
              "                       min_impurity_decrease=0.0, min_impurity_split=None,\n",
              "                       min_samples_leaf=1, min_samples_split=2,\n",
              "                       min_weight_fraction_leaf=0.0, n_estimators=100,\n",
              "                       n_jobs=None, oob_score=False, random_state=1, verbose=0,\n",
              "                       warm_start=False)"
            ]
          },
          "metadata": {},
          "execution_count": 32
        }
      ]
    },
    {
      "cell_type": "code",
      "metadata": {
        "colab": {
          "base_uri": "https://localhost:8080/"
        },
        "id": "c9lRpAqouF-5",
        "outputId": "7b2f1c30-a9ec-45e7-c0b4-a6dc94e3f883"
      },
      "source": [
        "#predictions\n",
        "y_nmpred = RF.predict(X_nmtest)\n",
        "# evaluate predictions\n",
        "print('Accuracy: %.3f' % accuracy_score(y_nmtest, y_nmpred))\n",
        "print('Precision: %.3f' % precision_score(y_nmtest, y_nmpred))\n",
        "print('Recall: %.3f' % recall_score(y_nmtest, y_nmpred))\n",
        "print('F-measure: %.3f' % f1_score(y_nmtest, y_nmpred))"
      ],
      "execution_count": null,
      "outputs": [
        {
          "output_type": "stream",
          "name": "stdout",
          "text": [
            "Accuracy: 0.758\n",
            "Precision: 0.771\n",
            "Recall: 0.740\n",
            "F-measure: 0.755\n"
          ]
        }
      ]
    },
    {
      "cell_type": "markdown",
      "metadata": {
        "id": "QrjMM61wwevf"
      },
      "source": [
        "## **2.4 Oversampling**"
      ]
    },
    {
      "cell_type": "code",
      "metadata": {
        "colab": {
          "base_uri": "https://localhost:8080/"
        },
        "id": "0MMmfI3Ewu9I",
        "outputId": "76534cc2-80a8-4426-e5c3-2d6b967eed78"
      },
      "source": [
        "## oversample strategy\n",
        "\n",
        "# oversample shorter class\n",
        "factor2 = 0.5\n",
        "oversample = SMOTE(sampling_strategy=factor2)\n",
        "\n",
        "# fit and apply the transform\n",
        "X_over, y_over = oversample.fit_resample(X, y)\n",
        "\n",
        "# verify class distribution\n",
        "print(Counter(y_over))"
      ],
      "execution_count": null,
      "outputs": [
        {
          "output_type": "stream",
          "name": "stdout",
          "text": [
            "Counter({0: 901, 1: 450})\n"
          ]
        }
      ]
    },
    {
      "cell_type": "code",
      "metadata": {
        "colab": {
          "base_uri": "https://localhost:8080/",
          "height": 336
        },
        "id": "ATzGZdMawu7J",
        "outputId": "44daf7ca-4456-4e04-a80a-1e6a9d8cec06"
      },
      "source": [
        "# histogram\n",
        "sns.countplot(y_over)"
      ],
      "execution_count": null,
      "outputs": [
        {
          "name": "stderr",
          "output_type": "stream",
          "text": [
            "/usr/local/lib/python3.7/dist-packages/seaborn/_decorators.py:43: FutureWarning: Pass the following variable as a keyword arg: x. From version 0.12, the only valid positional argument will be `data`, and passing other arguments without an explicit keyword will result in an error or misinterpretation.\n",
            "  FutureWarning\n"
          ]
        },
        {
          "data": {
            "text/plain": [
              "<matplotlib.axes._subplots.AxesSubplot at 0x7f7718dcae50>"
            ]
          },
          "execution_count": 53,
          "metadata": {},
          "output_type": "execute_result"
        },
        {
          "data": {
            "image/png": "[encoded data removed]",
            "text/plain": [
              "<Figure size 432x288 with 1 Axes>"
            ]
          },
          "metadata": {},
          "output_type": "display_data"
        }
      ]
    },
    {
      "cell_type": "markdown",
      "metadata": {
        "id": "Tkn-jDAHyBrx"
      },
      "source": [
        "### 2.4.1 XGBClassifier - Oversample Strategy"
      ]
    },
    {
      "cell_type": "code",
      "metadata": {
        "id": "isg0uxS7wu5H"
      },
      "source": [
        "# train and test sets\n",
        "# test size factor\n",
        "TS = 0.50\n",
        "X_Otrain, X_Otest, y_Otrain, y_Otest = train_test_split(X_over, y_over, test_size=TS, stratify=y_over)"
      ],
      "execution_count": null,
      "outputs": []
    },
    {
      "cell_type": "code",
      "metadata": {
        "colab": {
          "base_uri": "https://localhost:8080/"
        },
        "id": "xbEqb0NaXxvA",
        "outputId": "2d2b896e-551d-4c88-befc-79749d76c37b"
      },
      "source": [
        "#create model\n",
        "from xgboost import XGBClassifier\n",
        "\n",
        "#fit the model\n",
        "XGBC = XGBClassifier()\n",
        "XGBC.fit(X_Otrain, y_Otrain)"
      ],
      "execution_count": null,
      "outputs": [
        {
          "data": {
            "text/plain": [
              "XGBClassifier(base_score=0.5, booster='gbtree', colsample_bylevel=1,\n",
              "              colsample_bynode=1, colsample_bytree=1, gamma=0,\n",
              "              learning_rate=0.1, max_delta_step=0, max_depth=3,\n",
              "              min_child_weight=1, missing=None, n_estimators=100, n_jobs=1,\n",
              "              nthread=None, objective='binary:logistic', random_state=0,\n",
              "              reg_alpha=0, reg_lambda=1, scale_pos_weight=1, seed=None,\n",
              "              silent=None, subsample=1, verbosity=1)"
            ]
          },
          "execution_count": 55,
          "metadata": {},
          "output_type": "execute_result"
        }
      ]
    },
    {
      "cell_type": "code",
      "metadata": {
        "colab": {
          "base_uri": "https://localhost:8080/"
        },
        "id": "0cPjRE1aX3Go",
        "outputId": "d6c873c7-83c7-4a4f-a45c-13e8242d141c"
      },
      "source": [
        "#predictions\n",
        "y_pred = XGBC.predict(X_Otest)\n",
        "# evaluate predictions\n",
        "print('Accuracy: %.3f' % accuracy_score(y_Otest, y_pred))\n",
        "print('Precision: %.3f' % precision_score(y_Otest, y_pred))\n",
        "print('Recall: %.3f' % recall_score(y_Otest, y_pred))\n",
        "print('F-measure: %.3f' % f1_score(y_Otest, y_pred))"
      ],
      "execution_count": null,
      "outputs": [
        {
          "name": "stdout",
          "output_type": "stream",
          "text": [
            "Accuracy: 0.944\n",
            "Precision: 0.931\n",
            "Recall: 0.898\n",
            "F-measure: 0.914\n"
          ]
        }
      ]
    },
    {
      "cell_type": "markdown",
      "metadata": {
        "id": "ZiejHJkxXXur"
      },
      "source": [
        "### 2.4.2 Logistic Regression - Oversample Strategy "
      ]
    },
    {
      "cell_type": "code",
      "metadata": {
        "colab": {
          "base_uri": "https://localhost:8080/"
        },
        "id": "x_cGImW7wu0h",
        "outputId": "22e7b1d2-007e-4f6b-aade-c075d960fcc8"
      },
      "source": [
        "# create model\n",
        "LR = LogisticRegression(solver='liblinear')\n",
        "# fit model\n",
        "LR.fit(X_Otrain, y_Otrain)"
      ],
      "execution_count": null,
      "outputs": [
        {
          "data": {
            "text/plain": [
              "LogisticRegression(C=1.0, class_weight=None, dual=False, fit_intercept=True,\n",
              "                   intercept_scaling=1, l1_ratio=None, max_iter=100,\n",
              "                   multi_class='auto', n_jobs=None, penalty='l2',\n",
              "                   random_state=None, solver='liblinear', tol=0.0001, verbose=0,\n",
              "                   warm_start=False)"
            ]
          },
          "execution_count": 57,
          "metadata": {},
          "output_type": "execute_result"
        }
      ]
    },
    {
      "cell_type": "code",
      "metadata": {
        "colab": {
          "base_uri": "https://localhost:8080/"
        },
        "id": "5CtYIHCCwuvc",
        "outputId": "ebea6e20-fb29-4c8a-ddc3-27982068fad6"
      },
      "source": [
        "#predictions\n",
        "y_pred = LR.predict(X_Otest)\n",
        "# evaluate predictions\n",
        "print('Accuracy: %.3f' % accuracy_score(y_Otest, y_pred))\n",
        "print('Precision: %.3f' % precision_score(y_Otest, y_pred))\n",
        "print('Recall: %.3f' % recall_score(y_Otest, y_pred))\n",
        "print('F-measure: %.3f' % f1_score(y_Otest, y_pred))"
      ],
      "execution_count": null,
      "outputs": [
        {
          "name": "stdout",
          "output_type": "stream",
          "text": [
            "Accuracy: 0.929\n",
            "Precision: 0.919\n",
            "Recall: 0.862\n",
            "F-measure: 0.890\n"
          ]
        }
      ]
    },
    {
      "cell_type": "markdown",
      "metadata": {
        "id": "zXs5smrvybCd"
      },
      "source": [
        "### 2.4.3 Support Vector Machine - Oversample Strategy "
      ]
    },
    {
      "cell_type": "code",
      "metadata": {
        "colab": {
          "base_uri": "https://localhost:8080/"
        },
        "id": "4tiUQepKwugX",
        "outputId": "afebc2d8-3fbb-4649-8fc4-6c1aa25a3373"
      },
      "source": [
        "#create model\n",
        "from sklearn.svm import SVC\n",
        "\n",
        "svm = SVC(C=0.5, kernel='linear')\n",
        "#fit the model \n",
        "svm.fit(X_Otrain, y_Otrain)"
      ],
      "execution_count": null,
      "outputs": [
        {
          "data": {
            "text/plain": [
              "SVC(C=0.5, break_ties=False, cache_size=200, class_weight=None, coef0=0.0,\n",
              "    decision_function_shape='ovr', degree=3, gamma='scale', kernel='linear',\n",
              "    max_iter=-1, probability=False, random_state=None, shrinking=True,\n",
              "    tol=0.001, verbose=False)"
            ]
          },
          "execution_count": 59,
          "metadata": {},
          "output_type": "execute_result"
        }
      ]
    },
    {
      "cell_type": "code",
      "metadata": {
        "colab": {
          "base_uri": "https://localhost:8080/"
        },
        "id": "9EehR3mjwuep",
        "outputId": "9073dacd-4e16-4688-aa2e-6ce4b5e60d7a"
      },
      "source": [
        "#predictions\n",
        "y_pred = svm.predict(X_Otest)\n",
        "# evaluate predictions\n",
        "print('Accuracy: %.3f' % accuracy_score(y_Otest, y_pred))\n",
        "print('Precision: %.3f' % precision_score(y_Otest, y_pred))\n",
        "print('Recall: %.3f' % recall_score(y_Otest, y_pred))\n",
        "print('F-measure: %.3f' % f1_score(y_Otest, y_pred))"
      ],
      "execution_count": null,
      "outputs": [
        {
          "name": "stdout",
          "output_type": "stream",
          "text": [
            "Accuracy: 0.928\n",
            "Precision: 0.915\n",
            "Recall: 0.862\n",
            "F-measure: 0.888\n"
          ]
        }
      ]
    },
    {
      "cell_type": "markdown",
      "metadata": {
        "id": "g8yhZMreyumU"
      },
      "source": [
        "### 2.4.4 Gaussian Naive Bayes - Oversample Strategy"
      ]
    },
    {
      "cell_type": "code",
      "metadata": {
        "colab": {
          "base_uri": "https://localhost:8080/"
        },
        "id": "9Ow8-9wYwuay",
        "outputId": "7ebbf5c9-e1de-4e8d-b6b1-c12e667d50f2"
      },
      "source": [
        "#create model\n",
        "from sklearn.naive_bayes import GaussianNB\n",
        "\n",
        "GNB = GaussianNB()\n",
        "#fit the model\n",
        "GNB.fit(X_Otrain, y_Otrain)"
      ],
      "execution_count": null,
      "outputs": [
        {
          "data": {
            "text/plain": [
              "GaussianNB(priors=None, var_smoothing=1e-09)"
            ]
          },
          "execution_count": 61,
          "metadata": {},
          "output_type": "execute_result"
        }
      ]
    },
    {
      "cell_type": "code",
      "metadata": {
        "colab": {
          "base_uri": "https://localhost:8080/"
        },
        "id": "b4nblGHJwuX1",
        "outputId": "7d6416bf-d76f-46df-d5a3-776d61c74344"
      },
      "source": [
        "#predictions\n",
        "y_pred = GNB.predict(X_Otest)\n",
        "# evaluate predictions\n",
        "print('Accuracy: %.3f' % accuracy_score(y_Otest, y_pred))\n",
        "print('Precision: %.3f' % precision_score(y_Otest, y_pred))\n",
        "print('Recall: %.3f' % recall_score(y_Otest, y_pred))\n",
        "print('F-measure: %.3f' % f1_score(y_Otest, y_pred))"
      ],
      "execution_count": null,
      "outputs": [
        {
          "name": "stdout",
          "output_type": "stream",
          "text": [
            "Accuracy: 0.936\n",
            "Precision: 0.899\n",
            "Recall: 0.911\n",
            "F-measure: 0.905\n"
          ]
        }
      ]
    },
    {
      "cell_type": "markdown",
      "metadata": {
        "id": "ZY1FJ2aWzfpv"
      },
      "source": [
        "### 2.4.5 Random Forest - Oversample Strategy"
      ]
    },
    {
      "cell_type": "code",
      "metadata": {
        "colab": {
          "base_uri": "https://localhost:8080/"
        },
        "id": "h1zfnr9KwuU4",
        "outputId": "fb6c60f6-db84-43c0-b3f2-024fe41ba541"
      },
      "source": [
        "#create model\n",
        "from sklearn.ensemble import RandomForestClassifier\n",
        "\n",
        "RF = RandomForestClassifier()\n",
        "#fit the model\n",
        "RF.fit(X_Otrain, y_Otrain)"
      ],
      "execution_count": null,
      "outputs": [
        {
          "data": {
            "text/plain": [
              "RandomForestClassifier(bootstrap=True, ccp_alpha=0.0, class_weight=None,\n",
              "                       criterion='gini', max_depth=None, max_features='auto',\n",
              "                       max_leaf_nodes=None, max_samples=None,\n",
              "                       min_impurity_decrease=0.0, min_impurity_split=None,\n",
              "                       min_samples_leaf=1, min_samples_split=2,\n",
              "                       min_weight_fraction_leaf=0.0, n_estimators=100,\n",
              "                       n_jobs=None, oob_score=False, random_state=None,\n",
              "                       verbose=0, warm_start=False)"
            ]
          },
          "execution_count": 63,
          "metadata": {},
          "output_type": "execute_result"
        }
      ]
    },
    {
      "cell_type": "code",
      "metadata": {
        "colab": {
          "base_uri": "https://localhost:8080/"
        },
        "id": "zhJoQU8vzfAT",
        "outputId": "accc5836-e3a5-4794-cafa-14ab46855523"
      },
      "source": [
        "#predictions\n",
        "y_pred = RF.predict(X_Otest)\n",
        "# evaluate predictions\n",
        "print('Accuracy: %.3f' % accuracy_score(y_Otest, y_pred))\n",
        "print('Precision: %.3f' % precision_score(y_Otest, y_pred))\n",
        "print('Recall: %.3f' % recall_score(y_Otest, y_pred))\n",
        "print('F-measure: %.3f' % f1_score(y_Otest, y_pred))"
      ],
      "execution_count": null,
      "outputs": [
        {
          "name": "stdout",
          "output_type": "stream",
          "text": [
            "Accuracy: 0.941\n",
            "Precision: 0.911\n",
            "Recall: 0.911\n",
            "F-measure: 0.911\n"
          ]
        }
      ]
    },
    {
      "cell_type": "markdown",
      "metadata": {
        "id": "wh6PjB54YtPo"
      },
      "source": [
        "## **2.5 Penalise Algorithm**"
      ]
    },
    {
      "cell_type": "markdown",
      "metadata": {
        "id": "O6xvuSBuZApJ"
      },
      "source": [
        "###2.5.1 Logistic Regression Penalise Algorithm"
      ]
    },
    {
      "cell_type": "code",
      "metadata": {
        "colab": {
          "base_uri": "https://localhost:8080/"
        },
        "id": "-2ojLcFcY7ai",
        "outputId": "08b08b4b-f4ca-4002-905d-6871d5199211"
      },
      "source": [
        "# define model\n",
        "\n",
        "modelSD = LogisticRegression(solver='lbfgs', class_weight='balanced')\n",
        "\n",
        "modelSD.fit(X_train, y_train)"
      ],
      "execution_count": null,
      "outputs": [
        {
          "output_type": "execute_result",
          "data": {
            "text/plain": [
              "LogisticRegression(C=1.0, class_weight='balanced', dual=False,\n",
              "                   fit_intercept=True, intercept_scaling=1, l1_ratio=None,\n",
              "                   max_iter=100, multi_class='auto', n_jobs=None, penalty='l2',\n",
              "                   random_state=None, solver='lbfgs', tol=0.0001, verbose=0,\n",
              "                   warm_start=False)"
            ]
          },
          "metadata": {},
          "execution_count": 51
        }
      ]
    },
    {
      "cell_type": "code",
      "metadata": {
        "colab": {
          "base_uri": "https://localhost:8080/"
        },
        "id": "umDMeZGiZjJm",
        "outputId": "d75916fd-dec5-4b9d-873a-78405da70c5d"
      },
      "source": [
        "# predictions\n",
        "y_pred = modelSD.predict(X_test)\n",
        "# evaluate predictions\n",
        "print('Accuracy: %.3f' % accuracy_score(y_test, y_pred))\n",
        "print('Precision: %.3f' % precision_score(y_test, y_pred))\n",
        "print('Recall: %.3f' % recall_score(y_test, y_pred))\n",
        "print('F-measure: %.3f' % f1_score(y_test, y_pred))"
      ],
      "execution_count": null,
      "outputs": [
        {
          "output_type": "stream",
          "name": "stdout",
          "text": [
            "Accuracy: 0.936\n",
            "Precision: 0.618\n",
            "Recall: 0.940\n",
            "F-measure: 0.746\n"
          ]
        }
      ]
    },
    {
      "cell_type": "markdown",
      "metadata": {
        "id": "rnIId12xagS1"
      },
      "source": [
        "### 2.5.2 Support Vector Machine Penalise Algorithm"
      ]
    },
    {
      "cell_type": "code",
      "metadata": {
        "colab": {
          "base_uri": "https://localhost:8080/"
        },
        "id": "ao1AMTt6axRt",
        "outputId": "6d28998e-ffe6-44eb-f259-fb69f416eec0"
      },
      "source": [
        "# Train model\n",
        "svmSD = SVC(class_weight='balanced', probability=True)\n",
        " \n",
        "svmSD.fit(X_train, y_train)"
      ],
      "execution_count": null,
      "outputs": [
        {
          "output_type": "execute_result",
          "data": {
            "text/plain": [
              "SVC(C=1.0, break_ties=False, cache_size=200, class_weight='balanced', coef0=0.0,\n",
              "    decision_function_shape='ovr', degree=3, gamma='scale', kernel='rbf',\n",
              "    max_iter=-1, probability=True, random_state=None, shrinking=True, tol=0.001,\n",
              "    verbose=False)"
            ]
          },
          "metadata": {},
          "execution_count": 53
        }
      ]
    },
    {
      "cell_type": "code",
      "metadata": {
        "colab": {
          "base_uri": "https://localhost:8080/"
        },
        "id": "fMrQhWqCa7aS",
        "outputId": "b43e636b-eebf-47c4-83c0-9142623a4c76"
      },
      "source": [
        "#predictions\n",
        "y_pred = svmSD.predict(X_test)\n",
        "#evaluate predictions\n",
        "print('Accuracy: %.3f' % accuracy_score(y_test, y_pred))\n",
        "print('Precision: %.3f' % precision_score(y_test, y_pred))\n",
        "print('Recall: %.3f' % recall_score(y_test, y_pred))\n",
        "print('F-measure: %.3f' % f1_score(y_test, y_pred))"
      ],
      "execution_count": null,
      "outputs": [
        {
          "output_type": "stream",
          "name": "stdout",
          "text": [
            "Accuracy: 0.944\n",
            "Precision: 0.641\n",
            "Recall: 1.000\n",
            "F-measure: 0.781\n"
          ]
        }
      ]
    },
    {
      "cell_type": "markdown",
      "metadata": {
        "id": "s4kHOt5UbN1W"
      },
      "source": [
        "###2.5.3 Random Forest Penalise Algorithm"
      ]
    },
    {
      "cell_type": "code",
      "metadata": {
        "colab": {
          "base_uri": "https://localhost:8080/"
        },
        "id": "2x7VPOgEbUDY",
        "outputId": "dc05dc24-917c-40d7-9d1c-2b1ca8181181"
      },
      "source": [
        "RFSD = RandomForestClassifier(random_state=1, n_estimators=100, class_weight='balanced')\n",
        "#fit the model\n",
        "RFSD.fit(X_train, y_train)"
      ],
      "execution_count": null,
      "outputs": [
        {
          "output_type": "execute_result",
          "data": {
            "text/plain": [
              "RandomForestClassifier(bootstrap=True, ccp_alpha=0.0, class_weight='balanced',\n",
              "                       criterion='gini', max_depth=None, max_features='auto',\n",
              "                       max_leaf_nodes=None, max_samples=None,\n",
              "                       min_impurity_decrease=0.0, min_impurity_split=None,\n",
              "                       min_samples_leaf=1, min_samples_split=2,\n",
              "                       min_weight_fraction_leaf=0.0, n_estimators=100,\n",
              "                       n_jobs=None, oob_score=False, random_state=1, verbose=0,\n",
              "                       warm_start=False)"
            ]
          },
          "metadata": {},
          "execution_count": 55
        }
      ]
    },
    {
      "cell_type": "code",
      "metadata": {
        "colab": {
          "base_uri": "https://localhost:8080/"
        },
        "id": "3hlsMBVKblYf",
        "outputId": "c790daba-3637-47e3-d71f-fd3b4a1dac11"
      },
      "source": [
        "#predictions\n",
        "y_pred = RFSD.predict(X_test)\n",
        "#evaluate predictions\n",
        "print('Accuracy: %.3f' % accuracy_score(y_test, y_pred))\n",
        "print('Precision: %.3f' % precision_score(y_test, y_pred))\n",
        "print('Recall: %.3f' % recall_score(y_test, y_pred))\n",
        "print('F-measure: %.3f' % f1_score(y_test, y_pred))"
      ],
      "execution_count": null,
      "outputs": [
        {
          "output_type": "stream",
          "name": "stdout",
          "text": [
            "Accuracy: 0.956\n",
            "Precision: 0.912\n",
            "Recall: 0.620\n",
            "F-measure: 0.738\n"
          ]
        }
      ]
    },
    {
      "cell_type": "markdown",
      "metadata": {
        "id": "Dhr5ZQVMDAPD"
      },
      "source": [
        "## **2.6 Summary - Tables of Results from Different Classifiers**"
      ]
    },
    {
      "cell_type": "markdown",
      "metadata": {
        "id": "2nMiLJlEhz2j"
      },
      "source": [
        "###2.6.1 Imbalanced Dataset"
      ]
    },
    {
      "cell_type": "code",
      "metadata": {
        "colab": {
          "base_uri": "https://localhost:8080/",
          "height": 221
        },
        "id": "sEXhGXQih52G",
        "outputId": "07cb8799-7917-4eb6-df3c-ddb0a802176f"
      },
      "source": [
        "model_names = ['XGBoost', 'LogReg', 'SVM', 'GNB', 'RF']\n",
        "\n",
        "acci= [0.954,0.956,0.956,0.960,0.956]\n",
        "preci=[0.846,0.868,0.868,0.800,0.833]\n",
        "reci=[0.660,0.660,0.660,0.800,0.700]\n",
        "fi=[0.742,0.750,0.750,0.800,0.761]\n",
        "\n",
        "dSDi = {'Model_Names': model_names, 'accuracy': acci, 'precision' : preci, 'recall' : reci, 'f_score' : fi}\n",
        "dfSDit = pd.DataFrame(data=dSDi)\n",
        "print('The table for the imbalanced data is:')\n",
        "dfSDit"
      ],
      "execution_count": null,
      "outputs": [
        {
          "output_type": "stream",
          "name": "stdout",
          "text": [
            "The table for the imbalanced data is:\n"
          ]
        },
        {
          "output_type": "execute_result",
          "data": {
            "text/html": [
              "<div>\n",
              "<style scoped>\n",
              "    .dataframe tbody tr th:only-of-type {\n",
              "        vertical-align: middle;\n",
              "    }\n",
              "\n",
              "    .dataframe tbody tr th {\n",
              "        vertical-align: top;\n",
              "    }\n",
              "\n",
              "    .dataframe thead th {\n",
              "        text-align: right;\n",
              "    }\n",
              "</style>\n",
              "<table border=\"1\" class=\"dataframe\">\n",
              "  <thead>\n",
              "    <tr style=\"text-align: right;\">\n",
              "      <th></th>\n",
              "      <th>Model_Names</th>\n",
              "      <th>accuracy</th>\n",
              "      <th>precision</th>\n",
              "      <th>recall</th>\n",
              "      <th>f_score</th>\n",
              "    </tr>\n",
              "  </thead>\n",
              "  <tbody>\n",
              "    <tr>\n",
              "      <th>0</th>\n",
              "      <td>XGBoost</td>\n",
              "      <td>0.954</td>\n",
              "      <td>0.846</td>\n",
              "      <td>0.66</td>\n",
              "      <td>0.742</td>\n",
              "    </tr>\n",
              "    <tr>\n",
              "      <th>1</th>\n",
              "      <td>LogReg</td>\n",
              "      <td>0.956</td>\n",
              "      <td>0.868</td>\n",
              "      <td>0.66</td>\n",
              "      <td>0.750</td>\n",
              "    </tr>\n",
              "    <tr>\n",
              "      <th>2</th>\n",
              "      <td>SVM</td>\n",
              "      <td>0.956</td>\n",
              "      <td>0.868</td>\n",
              "      <td>0.66</td>\n",
              "      <td>0.750</td>\n",
              "    </tr>\n",
              "    <tr>\n",
              "      <th>3</th>\n",
              "      <td>GNB</td>\n",
              "      <td>0.960</td>\n",
              "      <td>0.800</td>\n",
              "      <td>0.80</td>\n",
              "      <td>0.800</td>\n",
              "    </tr>\n",
              "    <tr>\n",
              "      <th>4</th>\n",
              "      <td>RF</td>\n",
              "      <td>0.956</td>\n",
              "      <td>0.833</td>\n",
              "      <td>0.70</td>\n",
              "      <td>0.761</td>\n",
              "    </tr>\n",
              "  </tbody>\n",
              "</table>\n",
              "</div>"
            ],
            "text/plain": [
              "  Model_Names  accuracy  precision  recall  f_score\n",
              "0     XGBoost     0.954      0.846    0.66    0.742\n",
              "1      LogReg     0.956      0.868    0.66    0.750\n",
              "2         SVM     0.956      0.868    0.66    0.750\n",
              "3         GNB     0.960      0.800    0.80    0.800\n",
              "4          RF     0.956      0.833    0.70    0.761"
            ]
          },
          "metadata": {},
          "execution_count": 60
        }
      ]
    },
    {
      "cell_type": "markdown",
      "metadata": {
        "id": "WORVdPh7h8Vh"
      },
      "source": [
        "### 2.6.2 Undersampling"
      ]
    },
    {
      "cell_type": "code",
      "metadata": {
        "colab": {
          "base_uri": "https://localhost:8080/",
          "height": 221
        },
        "id": "JS4DeCzhiC_-",
        "outputId": "d4556a0a-167c-4cfb-c01e-777a1de07934"
      },
      "source": [
        "accu= [0.747,0.778,0.758,0.798,0.758]\n",
        "precu=[0.766,0.833,0.810,0.857,0.771]\n",
        "recu=[0.720,0.700,0.680,0.720,0.740]\n",
        "fu=[0.742,0.761,0.739,0.783,0.755]\n",
        "\n",
        "dSDu = {'Model_Names': model_names, 'accuracy': accu, 'precision' : precu, 'recall' : recu, 'f_score' : fu}\n",
        "dfSDut = pd.DataFrame(data=dSDu)\n",
        "print('The table for the undersample data is:')\n",
        "dfSDut"
      ],
      "execution_count": null,
      "outputs": [
        {
          "output_type": "stream",
          "name": "stdout",
          "text": [
            "The table for the undersample data is:\n"
          ]
        },
        {
          "output_type": "execute_result",
          "data": {
            "text/html": [
              "<div>\n",
              "<style scoped>\n",
              "    .dataframe tbody tr th:only-of-type {\n",
              "        vertical-align: middle;\n",
              "    }\n",
              "\n",
              "    .dataframe tbody tr th {\n",
              "        vertical-align: top;\n",
              "    }\n",
              "\n",
              "    .dataframe thead th {\n",
              "        text-align: right;\n",
              "    }\n",
              "</style>\n",
              "<table border=\"1\" class=\"dataframe\">\n",
              "  <thead>\n",
              "    <tr style=\"text-align: right;\">\n",
              "      <th></th>\n",
              "      <th>Model_Names</th>\n",
              "      <th>accuracy</th>\n",
              "      <th>precision</th>\n",
              "      <th>recall</th>\n",
              "      <th>f_score</th>\n",
              "    </tr>\n",
              "  </thead>\n",
              "  <tbody>\n",
              "    <tr>\n",
              "      <th>0</th>\n",
              "      <td>XGBoost</td>\n",
              "      <td>0.747</td>\n",
              "      <td>0.766</td>\n",
              "      <td>0.72</td>\n",
              "      <td>0.742</td>\n",
              "    </tr>\n",
              "    <tr>\n",
              "      <th>1</th>\n",
              "      <td>LogReg</td>\n",
              "      <td>0.778</td>\n",
              "      <td>0.833</td>\n",
              "      <td>0.70</td>\n",
              "      <td>0.761</td>\n",
              "    </tr>\n",
              "    <tr>\n",
              "      <th>2</th>\n",
              "      <td>SVM</td>\n",
              "      <td>0.758</td>\n",
              "      <td>0.810</td>\n",
              "      <td>0.68</td>\n",
              "      <td>0.739</td>\n",
              "    </tr>\n",
              "    <tr>\n",
              "      <th>3</th>\n",
              "      <td>GNB</td>\n",
              "      <td>0.798</td>\n",
              "      <td>0.857</td>\n",
              "      <td>0.72</td>\n",
              "      <td>0.783</td>\n",
              "    </tr>\n",
              "    <tr>\n",
              "      <th>4</th>\n",
              "      <td>RF</td>\n",
              "      <td>0.758</td>\n",
              "      <td>0.771</td>\n",
              "      <td>0.74</td>\n",
              "      <td>0.755</td>\n",
              "    </tr>\n",
              "  </tbody>\n",
              "</table>\n",
              "</div>"
            ],
            "text/plain": [
              "  Model_Names  accuracy  precision  recall  f_score\n",
              "0     XGBoost     0.747      0.766    0.72    0.742\n",
              "1      LogReg     0.778      0.833    0.70    0.761\n",
              "2         SVM     0.758      0.810    0.68    0.739\n",
              "3         GNB     0.798      0.857    0.72    0.783\n",
              "4          RF     0.758      0.771    0.74    0.755"
            ]
          },
          "metadata": {},
          "execution_count": 61
        }
      ]
    },
    {
      "cell_type": "markdown",
      "metadata": {
        "id": "CfTZwy6LitE0"
      },
      "source": [
        "###2.6.3 Oversampling"
      ]
    },
    {
      "cell_type": "code",
      "metadata": {
        "colab": {
          "base_uri": "https://localhost:8080/",
          "height": 221
        },
        "id": "4DXeRHr0ixDj",
        "outputId": "1315ba88-9149-4b6e-d869-9f262fa9c4e2"
      },
      "source": [
        "acco= [0.944,0.929,0.928,0.936,0.941]\n",
        "preco=[0.931,0.919,0.915,0.899,0.911]\n",
        "reco=[0.898,0.862,0.862,0.911,0.911]\n",
        "fo=[0.914,0.890,0.888,0.905,0.911]\n",
        "\n",
        "dSDo = {'Model_Names': model_names, 'accuracy': acco, 'precision' : preco, 'recall' : reco, 'f_score' : fo}\n",
        "dfSDot = pd.DataFrame(data=dSDo)\n",
        "print('The table for the oversample data is:')\n",
        "dfSDot"
      ],
      "execution_count": null,
      "outputs": [
        {
          "output_type": "stream",
          "name": "stdout",
          "text": [
            "The table for the oversample data is:\n"
          ]
        },
        {
          "output_type": "execute_result",
          "data": {
            "text/html": [
              "<div>\n",
              "<style scoped>\n",
              "    .dataframe tbody tr th:only-of-type {\n",
              "        vertical-align: middle;\n",
              "    }\n",
              "\n",
              "    .dataframe tbody tr th {\n",
              "        vertical-align: top;\n",
              "    }\n",
              "\n",
              "    .dataframe thead th {\n",
              "        text-align: right;\n",
              "    }\n",
              "</style>\n",
              "<table border=\"1\" class=\"dataframe\">\n",
              "  <thead>\n",
              "    <tr style=\"text-align: right;\">\n",
              "      <th></th>\n",
              "      <th>Model_Names</th>\n",
              "      <th>accuracy</th>\n",
              "      <th>precision</th>\n",
              "      <th>recall</th>\n",
              "      <th>f_score</th>\n",
              "    </tr>\n",
              "  </thead>\n",
              "  <tbody>\n",
              "    <tr>\n",
              "      <th>0</th>\n",
              "      <td>XGBoost</td>\n",
              "      <td>0.944</td>\n",
              "      <td>0.931</td>\n",
              "      <td>0.898</td>\n",
              "      <td>0.914</td>\n",
              "    </tr>\n",
              "    <tr>\n",
              "      <th>1</th>\n",
              "      <td>LogReg</td>\n",
              "      <td>0.929</td>\n",
              "      <td>0.919</td>\n",
              "      <td>0.862</td>\n",
              "      <td>0.890</td>\n",
              "    </tr>\n",
              "    <tr>\n",
              "      <th>2</th>\n",
              "      <td>SVM</td>\n",
              "      <td>0.928</td>\n",
              "      <td>0.915</td>\n",
              "      <td>0.862</td>\n",
              "      <td>0.888</td>\n",
              "    </tr>\n",
              "    <tr>\n",
              "      <th>3</th>\n",
              "      <td>GNB</td>\n",
              "      <td>0.936</td>\n",
              "      <td>0.899</td>\n",
              "      <td>0.911</td>\n",
              "      <td>0.905</td>\n",
              "    </tr>\n",
              "    <tr>\n",
              "      <th>4</th>\n",
              "      <td>RF</td>\n",
              "      <td>0.941</td>\n",
              "      <td>0.911</td>\n",
              "      <td>0.911</td>\n",
              "      <td>0.911</td>\n",
              "    </tr>\n",
              "  </tbody>\n",
              "</table>\n",
              "</div>"
            ],
            "text/plain": [
              "  Model_Names  accuracy  precision  recall  f_score\n",
              "0     XGBoost     0.944      0.931   0.898    0.914\n",
              "1      LogReg     0.929      0.919   0.862    0.890\n",
              "2         SVM     0.928      0.915   0.862    0.888\n",
              "3         GNB     0.936      0.899   0.911    0.905\n",
              "4          RF     0.941      0.911   0.911    0.911"
            ]
          },
          "metadata": {},
          "execution_count": 62
        }
      ]
    },
    {
      "cell_type": "markdown",
      "metadata": {
        "id": "hl0GTL37jcZE"
      },
      "source": [
        "###2.6.4 Penalise Algorithm"
      ]
    },
    {
      "cell_type": "code",
      "metadata": {
        "colab": {
          "base_uri": "https://localhost:8080/",
          "height": 159
        },
        "id": "yzDNgFFWkBB_",
        "outputId": "cff6e662-cd36-455f-ea24-9f56755ab514"
      },
      "source": [
        "model_names1 = [ 'LogReg', 'SVM',  'RF']\n",
        "accp= [0.936,0.944,0.956]\n",
        "precp=[0.618,0.641,0.912]\n",
        "recp=[0.940,1.000,0.620]\n",
        "fp=[0.746,0.781,0.738]\n",
        "\n",
        "dSDp = {'Model_Names': model_names1, 'accuracy': accp, 'precision' : precp, 'recall' : recp, 'f_score' : fp}\n",
        "dfSDpt = pd.DataFrame(data=dSDp)\n",
        "print('The table for the penalise algorithm is:')\n",
        "dfSDpt"
      ],
      "execution_count": null,
      "outputs": [
        {
          "output_type": "stream",
          "name": "stdout",
          "text": [
            "The table for the penalise algorithm is:\n"
          ]
        },
        {
          "output_type": "execute_result",
          "data": {
            "text/html": [
              "<div>\n",
              "<style scoped>\n",
              "    .dataframe tbody tr th:only-of-type {\n",
              "        vertical-align: middle;\n",
              "    }\n",
              "\n",
              "    .dataframe tbody tr th {\n",
              "        vertical-align: top;\n",
              "    }\n",
              "\n",
              "    .dataframe thead th {\n",
              "        text-align: right;\n",
              "    }\n",
              "</style>\n",
              "<table border=\"1\" class=\"dataframe\">\n",
              "  <thead>\n",
              "    <tr style=\"text-align: right;\">\n",
              "      <th></th>\n",
              "      <th>Model_Names</th>\n",
              "      <th>accuracy</th>\n",
              "      <th>precision</th>\n",
              "      <th>recall</th>\n",
              "      <th>f_score</th>\n",
              "    </tr>\n",
              "  </thead>\n",
              "  <tbody>\n",
              "    <tr>\n",
              "      <th>0</th>\n",
              "      <td>LogReg</td>\n",
              "      <td>0.936</td>\n",
              "      <td>0.618</td>\n",
              "      <td>0.94</td>\n",
              "      <td>0.746</td>\n",
              "    </tr>\n",
              "    <tr>\n",
              "      <th>1</th>\n",
              "      <td>SVM</td>\n",
              "      <td>0.944</td>\n",
              "      <td>0.641</td>\n",
              "      <td>1.00</td>\n",
              "      <td>0.781</td>\n",
              "    </tr>\n",
              "    <tr>\n",
              "      <th>2</th>\n",
              "      <td>RF</td>\n",
              "      <td>0.956</td>\n",
              "      <td>0.912</td>\n",
              "      <td>0.62</td>\n",
              "      <td>0.738</td>\n",
              "    </tr>\n",
              "  </tbody>\n",
              "</table>\n",
              "</div>"
            ],
            "text/plain": [
              "  Model_Names  accuracy  precision  recall  f_score\n",
              "0      LogReg     0.936      0.618    0.94    0.746\n",
              "1         SVM     0.944      0.641    1.00    0.781\n",
              "2          RF     0.956      0.912    0.62    0.738"
            ]
          },
          "metadata": {},
          "execution_count": 63
        }
      ]
    },
    {
      "cell_type": "markdown",
      "metadata": {
        "id": "VHjbLjxdZiLS"
      },
      "source": [
        "# **3. Imbalanced Iris Dataset**"
      ]
    },
    {
      "cell_type": "markdown",
      "metadata": {
        "id": "LalulbW4ZiLT"
      },
      "source": [
        "## **3.1 Data Preparation**"
      ]
    },
    {
      "cell_type": "code",
      "metadata": {
        "id": "niStePJ0IBou"
      },
      "source": [
        "# choose your lucky number\n",
        "RANDOM_STATE = 7"
      ],
      "execution_count": null,
      "outputs": []
    },
    {
      "cell_type": "code",
      "metadata": {
        "id": "3SuKKdw9IC-r"
      },
      "source": [
        "# load dataset\n",
        "iris = datasets.load_iris()"
      ],
      "execution_count": null,
      "outputs": []
    },
    {
      "cell_type": "code",
      "metadata": {
        "id": "w3PBjx5DIFwO",
        "colab": {
          "base_uri": "https://localhost:8080/"
        },
        "outputId": "ff4a86c7-0690-4995-d222-269fc343ceb7"
      },
      "source": [
        "iris.keys()"
      ],
      "execution_count": null,
      "outputs": [
        {
          "output_type": "execute_result",
          "data": {
            "text/plain": [
              "dict_keys(['data', 'target', 'frame', 'target_names', 'DESCR', 'feature_names', 'filename', 'data_module'])"
            ]
          },
          "metadata": {},
          "execution_count": 67
        }
      ]
    },
    {
      "cell_type": "code",
      "metadata": {
        "id": "cJmvZuchIphe",
        "colab": {
          "base_uri": "https://localhost:8080/"
        },
        "outputId": "4dc68a7f-6b9a-4aef-f4ec-b83bf8764031"
      },
      "source": [
        "# class labels\n",
        "iris.target_names"
      ],
      "execution_count": null,
      "outputs": [
        {
          "output_type": "execute_result",
          "data": {
            "text/plain": [
              "array(['setosa', 'versicolor', 'virginica'], dtype='<U10')"
            ]
          },
          "metadata": {},
          "execution_count": 68
        }
      ]
    },
    {
      "cell_type": "code",
      "metadata": {
        "id": "mZkK0a-lJDoY",
        "colab": {
          "base_uri": "https://localhost:8080/"
        },
        "outputId": "e6c227f6-a769-4ade-86c4-0fb2bc3a1a0e"
      },
      "source": [
        "# count classes and its samples\n",
        "count_class = Counter(iris.target)\n",
        "print(count_class)"
      ],
      "execution_count": null,
      "outputs": [
        {
          "output_type": "stream",
          "name": "stdout",
          "text": [
            "Counter({0: 50, 1: 50, 2: 50})\n"
          ]
        }
      ]
    },
    {
      "cell_type": "markdown",
      "metadata": {
        "id": "GfRIhb1GZiLT"
      },
      "source": [
        "## **3.2 Imbalanced Dataset**"
      ]
    },
    {
      "cell_type": "code",
      "metadata": {
        "id": "yBAQesKNIb1d"
      },
      "source": [
        "# turns a dataset into an imbalanced dataset \n",
        "# with a specific sampling strategy\n",
        "X3, y3 = make_imbalance(\n",
        "    iris.data,\n",
        "    iris.target,\n",
        "    # choose the class(es) to subsample\n",
        "    #sampling_strategy={0: 35, 1: 20, 2: 50},\n",
        "    sampling_strategy={0: 35, 1: 20},\n",
        "    random_state=RANDOM_STATE,\n",
        ")"
      ],
      "execution_count": null,
      "outputs": []
    },
    {
      "cell_type": "code",
      "metadata": {
        "id": "ve0muagsMH8N",
        "colab": {
          "base_uri": "https://localhost:8080/"
        },
        "outputId": "ddb7b02f-a96c-41d4-c8b5-8c92cafa7c5a"
      },
      "source": [
        "# count classes and its samples\n",
        "count_class2 = Counter(y3)\n",
        "print(sorted(count_class2.items()))"
      ],
      "execution_count": null,
      "outputs": [
        {
          "output_type": "stream",
          "name": "stdout",
          "text": [
            "[(0, 35), (1, 20), (2, 50)]\n"
          ]
        }
      ]
    },
    {
      "cell_type": "code",
      "metadata": {
        "id": "RFoJzw18Y4nL",
        "colab": {
          "base_uri": "https://localhost:8080/",
          "height": 318
        },
        "outputId": "502f6e7b-8b37-4ee4-93ec-567a2b46311f"
      },
      "source": [
        "# histogram\n",
        "irisplot1 = sns.countplot(y3)\n",
        "irisplot1.set_xticklabels(['setosa', 'versicolor', 'virginica'])\n",
        "plt.show()"
      ],
      "execution_count": null,
      "outputs": [
        {
          "output_type": "stream",
          "name": "stderr",
          "text": [
            "/usr/local/lib/python3.7/dist-packages/seaborn/_decorators.py:43: FutureWarning: Pass the following variable as a keyword arg: x. From version 0.12, the only valid positional argument will be `data`, and passing other arguments without an explicit keyword will result in an error or misinterpretation.\n",
            "  FutureWarning\n"
          ]
        },
        {
          "output_type": "display_data",
          "data": {
            "image/png": "[encoded data removed]",
            "text/plain": [
              "<Figure size 432x288 with 1 Axes>"
            ]
          },
          "metadata": {
            "needs_background": "light"
          }
        }
      ]
    },
    {
      "cell_type": "code",
      "metadata": {
        "id": "ZuqJmo1uZIXy",
        "colab": {
          "base_uri": "https://localhost:8080/",
          "height": 268
        },
        "outputId": "78abc74f-447c-4fed-9af7-1635ca65a87e"
      },
      "source": [
        "# scatter plot\n",
        "\n",
        "for label, _ in count_class.items():\n",
        "\trow = where(y3 == label)[0]\n",
        "\tpyplot.scatter(X3[row, 0], X3[row, 1], label=str(label))\n",
        " \n",
        "pyplot.legend()\n",
        "pyplot.show()"
      ],
      "execution_count": null,
      "outputs": [
        {
          "output_type": "display_data",
          "data": {
            "image/png": "[encoded data removed]",
            "text/plain": [
              "<Figure size 432x288 with 1 Axes>"
            ]
          },
          "metadata": {
            "needs_background": "light"
          }
        }
      ]
    },
    {
      "cell_type": "code",
      "metadata": {
        "id": "4O3rNWlxajIs"
      },
      "source": [
        "#train and test sets\n",
        "#test size factor\n",
        "TS = 0.50\n",
        "X3_train, X3_test, y3_train, y3_test = train_test_split(X3, y3, test_size=TS, stratify=y3)"
      ],
      "execution_count": null,
      "outputs": []
    },
    {
      "cell_type": "markdown",
      "metadata": {
        "id": "ywTk7z0kdF2e"
      },
      "source": [
        "###3.2.1 XGBClassifier - Imbalanced Dataset"
      ]
    },
    {
      "cell_type": "code",
      "metadata": {
        "id": "KFJDxOUEhj71",
        "colab": {
          "base_uri": "https://localhost:8080/"
        },
        "outputId": "6924f7d8-de11-40db-ac71-fe80a249cbcc"
      },
      "source": [
        "#create & fit the model\n",
        "XGBC = XGBClassifier()\n",
        "XGBC.fit(X3_train, y3_train)"
      ],
      "execution_count": null,
      "outputs": [
        {
          "output_type": "execute_result",
          "data": {
            "text/plain": [
              "XGBClassifier(objective='multi:softprob')"
            ]
          },
          "metadata": {},
          "execution_count": 192
        }
      ]
    },
    {
      "cell_type": "code",
      "metadata": {
        "id": "i_7-DWIUhj71",
        "colab": {
          "base_uri": "https://localhost:8080/"
        },
        "outputId": "d945233e-ae07-4156-abf1-83fafd126660"
      },
      "source": [
        "# Predictions\n",
        "y3_predA = XGBC.predict(X3_test)\n",
        "#evaulate predictions\n",
        "print('Accuracy: %.3f' % accuracy_score(y3_test, y3_pred,))\n",
        "print('Precision: %.3f' % precision_score(y3_test, y3_pred, average='macro'))\n",
        "print('Recall: %.3f' % recall_score(y3_test, y3_pred, average=\"macro\"))\n",
        "print('F-measure: %.3f' % f1_score(y3_test, y3_pred, average=\"macro\"))"
      ],
      "execution_count": null,
      "outputs": [
        {
          "output_type": "stream",
          "name": "stdout",
          "text": [
            "Accuracy: 0.981\n",
            "Precision: 0.987\n",
            "Recall: 0.967\n",
            "F-measure: 0.976\n"
          ]
        }
      ]
    },
    {
      "cell_type": "markdown",
      "metadata": {
        "id": "zAMsRGbfbpHX"
      },
      "source": [
        "###3.2.2 Logistic Regression - Imbalanced Dataset"
      ]
    },
    {
      "cell_type": "code",
      "metadata": {
        "id": "SMsy9IJ7hj7x",
        "colab": {
          "base_uri": "https://localhost:8080/"
        },
        "outputId": "fd55e7e1-d0c2-481f-d8cd-95d8f0c0f3b1"
      },
      "source": [
        "#create model\n",
        "LR = LogisticRegression(solver='liblinear')\n",
        "#fit the model\n",
        "LR.fit(X3_train, y3_train)"
      ],
      "execution_count": null,
      "outputs": [
        {
          "output_type": "execute_result",
          "data": {
            "text/plain": [
              "LogisticRegression(solver='liblinear')"
            ]
          },
          "metadata": {},
          "execution_count": 194
        }
      ]
    },
    {
      "cell_type": "code",
      "metadata": {
        "id": "rhUlrNBOhj7x",
        "colab": {
          "base_uri": "https://localhost:8080/"
        },
        "outputId": "8e65b92c-8229-40e9-b458-ba58cb91d90e"
      },
      "source": [
        "#predictions\n",
        "y3_predB = LR.predict(X3_test)\n",
        "#evaulate predictions\n",
        "print('Accuracy: %.3f' % accuracy_score(y3_test, y3_pred,))\n",
        "print('Precision: %.3f' % precision_score(y3_test, y3_pred, average='macro'))\n",
        "print('Recall: %.3f' % recall_score(y3_test, y3_pred, average='macro'))\n",
        "print('F-measure: %.3f' % f1_score(y3_test, y3_pred, average='macro'))"
      ],
      "execution_count": null,
      "outputs": [
        {
          "output_type": "stream",
          "name": "stdout",
          "text": [
            "Accuracy: 0.981\n",
            "Precision: 0.987\n",
            "Recall: 0.967\n",
            "F-measure: 0.976\n"
          ]
        }
      ]
    },
    {
      "cell_type": "markdown",
      "metadata": {
        "id": "b49ijWsjhj7x"
      },
      "source": [
        "###3.2.3 Support Vector Machine - Imbalanced Dataset"
      ]
    },
    {
      "cell_type": "code",
      "metadata": {
        "id": "k1Ei-UuMhj7x",
        "colab": {
          "base_uri": "https://localhost:8080/"
        },
        "outputId": "28041baf-877d-4b01-95ae-8623e950e550"
      },
      "source": [
        "svm = SVC(C=0.5, kernel='linear')\n",
        "#fit the model \n",
        "svm.fit(X3_train, y3_train)"
      ],
      "execution_count": null,
      "outputs": [
        {
          "output_type": "execute_result",
          "data": {
            "text/plain": [
              "SVC(C=0.5, kernel='linear')"
            ]
          },
          "metadata": {},
          "execution_count": 198
        }
      ]
    },
    {
      "cell_type": "code",
      "metadata": {
        "id": "BKJNZwEThj7y",
        "colab": {
          "base_uri": "https://localhost:8080/"
        },
        "outputId": "817d3bf9-780a-4eb3-e90b-8433f0572176"
      },
      "source": [
        "#predictions\n",
        "y3_predC = svm.predict(X3_test)\n",
        "#evaluate predictions\n",
        "print('Accuracy: %.3f' % accuracy_score(y3_test, y3_pred,))\n",
        "print('Precision: %.3f' % precision_score(y3_test, y3_pred, average='macro'))\n",
        "print('Recall: %.3f' % recall_score(y3_test, y3_pred, average=\"macro\"))\n",
        "print('F-measure: %.3f' % f1_score(y3_test, y3_pred, average=\"macro\"))"
      ],
      "execution_count": null,
      "outputs": [
        {
          "output_type": "stream",
          "name": "stdout",
          "text": [
            "Accuracy: 0.981\n",
            "Precision: 0.987\n",
            "Recall: 0.967\n",
            "F-measure: 0.976\n"
          ]
        }
      ]
    },
    {
      "cell_type": "markdown",
      "metadata": {
        "id": "aPRT8ltPhj7y"
      },
      "source": [
        "###3.2.4 Gaussian Naive Bayes - Imbalanced Dataset"
      ]
    },
    {
      "cell_type": "code",
      "metadata": {
        "id": "dBKkCyZAhj7y",
        "colab": {
          "base_uri": "https://localhost:8080/"
        },
        "outputId": "361fd467-d5da-452a-fab4-4feb04c44586"
      },
      "source": [
        "GNB = GaussianNB()\n",
        "#fit the model\n",
        "GNB.fit(X3_train, y3_train)"
      ],
      "execution_count": null,
      "outputs": [
        {
          "output_type": "execute_result",
          "data": {
            "text/plain": [
              "GaussianNB()"
            ]
          },
          "metadata": {},
          "execution_count": 200
        }
      ]
    },
    {
      "cell_type": "code",
      "metadata": {
        "id": "X_Et7q95hj7y",
        "colab": {
          "base_uri": "https://localhost:8080/"
        },
        "outputId": "690f820e-a98d-4c33-d4fd-18c8cde1557e"
      },
      "source": [
        "#predictions\n",
        "y3_predD = GNB.predict(X3_test)\n",
        "#evaluate predictions\n",
        "print('Accuracy: %.3f' % accuracy_score(y3_test, y3_pred,))\n",
        "print('Precision: %.3f' % precision_score(y3_test, y3_pred, average='macro'))\n",
        "print('Recall: %.3f' % recall_score(y3_test, y3_pred, average=\"macro\"))\n",
        "print('F-measure: %.3f' % f1_score(y3_test, y3_pred, average=\"macro\"))"
      ],
      "execution_count": null,
      "outputs": [
        {
          "output_type": "stream",
          "name": "stdout",
          "text": [
            "Accuracy: 0.981\n",
            "Precision: 0.987\n",
            "Recall: 0.967\n",
            "F-measure: 0.976\n"
          ]
        }
      ]
    },
    {
      "cell_type": "markdown",
      "metadata": {
        "id": "6UUGGUCChj7y"
      },
      "source": [
        "###3.2.5 Random Forest - Imbalanced Dataset"
      ]
    },
    {
      "cell_type": "code",
      "metadata": {
        "id": "sYEcsg3bhj7z",
        "colab": {
          "base_uri": "https://localhost:8080/"
        },
        "outputId": "20bb4afc-4df8-40e1-f461-adad64aaf25d"
      },
      "source": [
        "RF = RandomForestClassifier(random_state=1, n_estimators=100)\n",
        "#fit the model\n",
        "RF.fit(X3_train, y3_train)"
      ],
      "execution_count": null,
      "outputs": [
        {
          "output_type": "execute_result",
          "data": {
            "text/plain": [
              "RandomForestClassifier(random_state=1)"
            ]
          },
          "metadata": {},
          "execution_count": 211
        }
      ]
    },
    {
      "cell_type": "code",
      "metadata": {
        "id": "GkarGxRzhj70",
        "colab": {
          "base_uri": "https://localhost:8080/"
        },
        "outputId": "6e782faf-2557-4b72-ff39-f0bb19244100"
      },
      "source": [
        "#predictions\n",
        "y3_pred = RF.predict(X3_test)\n",
        "#evaluate predictions\n",
        "print('Accuracy: %.3f' % accuracy_score(y3_test, y3_pred,))\n",
        "print('Precision: %.3f' % precision_score(y3_test, y3_pred, average='macro'))\n",
        "print('Recall: %.3f' % recall_score(y3_test, y3_pred, average=\"macro\"))\n",
        "print('F-measure: %.3f' % f1_score(y3_test, y3_pred, average=\"macro\"))"
      ],
      "execution_count": null,
      "outputs": [
        {
          "output_type": "stream",
          "name": "stdout",
          "text": [
            "Accuracy: 0.981\n",
            "Precision: 0.987\n",
            "Recall: 0.967\n",
            "F-measure: 0.976\n"
          ]
        }
      ]
    },
    {
      "cell_type": "markdown",
      "metadata": {
        "id": "sCcQ5BsfZiLT"
      },
      "source": [
        "## **3.3 Undersample Strategy - Near Miss**"
      ]
    },
    {
      "cell_type": "code",
      "metadata": {
        "id": "WgtfYrtPippa",
        "colab": {
          "base_uri": "https://localhost:8080/"
        },
        "outputId": "d299df99-e9b6-44f5-850f-e572a79aa694"
      },
      "source": [
        "# define undersample strategy\n",
        "undersample = RandomUnderSampler(sampling_strategy='not minority')\n",
        "\n",
        "# fit and apply the transform\n",
        "X3_under, y3_under = undersample.fit_resample(X3, y3)\n",
        "\n",
        "# verify class distribution\n",
        "print(Counter(y3_under))"
      ],
      "execution_count": null,
      "outputs": [
        {
          "output_type": "stream",
          "name": "stdout",
          "text": [
            "Counter({0: 20, 1: 20, 2: 20})\n"
          ]
        }
      ]
    },
    {
      "cell_type": "code",
      "metadata": {
        "id": "-qZxAHhTippb",
        "colab": {
          "base_uri": "https://localhost:8080/",
          "height": 318
        },
        "outputId": "50c52998-c3ff-4c33-cf01-9c973427fc07"
      },
      "source": [
        "# histogram\n",
        "irisplot2 = sns.countplot(y3_under)\n",
        "irisplot2.set_xticklabels(['setosa', 'versicolor', 'virginica'])\n",
        "plt.show()"
      ],
      "execution_count": null,
      "outputs": [
        {
          "output_type": "stream",
          "name": "stderr",
          "text": [
            "/usr/local/lib/python3.7/dist-packages/seaborn/_decorators.py:43: FutureWarning: Pass the following variable as a keyword arg: x. From version 0.12, the only valid positional argument will be `data`, and passing other arguments without an explicit keyword will result in an error or misinterpretation.\n",
            "  FutureWarning\n"
          ]
        },
        {
          "output_type": "display_data",
          "data": {
            "image/png": "[encoded data removed]",
            "text/plain": [
              "<Figure size 432x288 with 1 Axes>"
            ]
          },
          "metadata": {
            "needs_background": "light"
          }
        }
      ]
    },
    {
      "cell_type": "markdown",
      "metadata": {
        "id": "a4VBTpjeippd"
      },
      "source": [
        "### 3.3.1 XGBClassifier - Undersampling Near Miss"
      ]
    },
    {
      "cell_type": "code",
      "metadata": {
        "id": "cAbWeaa4ippd",
        "colab": {
          "base_uri": "https://localhost:8080/"
        },
        "outputId": "ef504a4f-aa64-45dd-928b-9302e38bb08f"
      },
      "source": [
        "#fit the model\n",
        "XGB4u = XGBClassifier()\n",
        "XGB4u.fit(X3_Utrain, y3_Utrain)"
      ],
      "execution_count": null,
      "outputs": [
        {
          "output_type": "execute_result",
          "data": {
            "text/plain": [
              "XGBClassifier(objective='multi:softprob')"
            ]
          },
          "metadata": {},
          "execution_count": 142
        }
      ]
    },
    {
      "cell_type": "code",
      "metadata": {
        "id": "oYDWF6g7ippd",
        "colab": {
          "base_uri": "https://localhost:8080/"
        },
        "outputId": "acdf174b-5b25-4666-d15c-885fe40e25f3"
      },
      "source": [
        "# Predictions\n",
        "y3_predu5 = XGB4u.predict(X3_Utest)\n",
        "#evaulate predictions\n",
        "print('Accuracy: %.3f' % accuracy_score(y3_Utest, y3_predu5))\n",
        "print('Precision: %.3f' % precision_score(y3_Utest, y3_predu5, average=\"weighted\"))\n",
        "print('Recall: %.3f' % recall_score(y3_Utest, y3_predu5, average=\"weighted\"))\n",
        "print('F-measure: %.3f' % f1_score(y3_Utest, y3_predu5, average=\"weighted\"))"
      ],
      "execution_count": null,
      "outputs": [
        {
          "output_type": "stream",
          "name": "stdout",
          "text": [
            "Accuracy: 0.900\n",
            "Precision: 0.923\n",
            "Recall: 0.900\n",
            "F-measure: 0.898\n"
          ]
        }
      ]
    },
    {
      "cell_type": "markdown",
      "metadata": {
        "id": "9Hbwt1TofyXU"
      },
      "source": [
        "###3.3.2 Logistic Regression - Undersampling Near Miss"
      ]
    },
    {
      "cell_type": "code",
      "metadata": {
        "id": "lPJwggiiippb"
      },
      "source": [
        "# train and test sets\n",
        "# test size factor\n",
        "TS = 0.50\n",
        "X3_Utrain, X3_Utest, y3_Utrain, y3_Utest = train_test_split(X3_under, y3_under, test_size=TS, stratify=y3_under)"
      ],
      "execution_count": null,
      "outputs": []
    },
    {
      "cell_type": "code",
      "metadata": {
        "id": "kMgoPjPDippb",
        "colab": {
          "base_uri": "https://localhost:8080/"
        },
        "outputId": "04db811c-f1b6-40fa-cac3-ffb02b8a4720"
      },
      "source": [
        "# create model\n",
        "LRiu = LogisticRegression(solver='liblinear')\n",
        "# fit model\n",
        "LRiu.fit(X3_Utrain, y3_Utrain)"
      ],
      "execution_count": null,
      "outputs": [
        {
          "output_type": "execute_result",
          "data": {
            "text/plain": [
              "LogisticRegression(solver='liblinear')"
            ]
          },
          "metadata": {},
          "execution_count": 131
        }
      ]
    },
    {
      "cell_type": "code",
      "metadata": {
        "id": "5vpzJvvZippb",
        "colab": {
          "base_uri": "https://localhost:8080/"
        },
        "outputId": "2ba66d0c-5c47-4527-d8c4-fcc846622acf"
      },
      "source": [
        "# predictions\n",
        "y3_predu1= LRiu.predict(X3_Utest)\n",
        "# evaluate predictions\n",
        "print('Accuracy: %.3f' % accuracy_score(y3_Utest, y3_predu1))\n",
        "print('Precision: %.3f' % precision_score(y3_Utest, y3_predu1, average=\"weighted\"))\n",
        "print('Recall: %.3f' % recall_score(y3_Utest, y3_predu1, average=\"weighted\"))\n",
        "print('F-measure: %.3f' % f1_score(y3_Utest, y3_predu1, average=\"weighted\"))"
      ],
      "execution_count": null,
      "outputs": [
        {
          "output_type": "stream",
          "name": "stdout",
          "text": [
            "Accuracy: 0.933\n",
            "Precision: 0.944\n",
            "Recall: 0.933\n",
            "F-measure: 0.933\n"
          ]
        }
      ]
    },
    {
      "cell_type": "markdown",
      "metadata": {
        "id": "kx9zPge6ippb"
      },
      "source": [
        "### 3.3.3 Support Vector Machine - Undersampling Near Miss\n",
        "\n",
        "\n"
      ]
    },
    {
      "cell_type": "code",
      "metadata": {
        "id": "DPml310qippc",
        "colab": {
          "base_uri": "https://localhost:8080/"
        },
        "outputId": "6e885df2-2b61-4a92-f987-4e1f5d70f312"
      },
      "source": [
        "svmiu = SVC(C=0.5, kernel='linear')\n",
        "#fit the model \n",
        "svmiu.fit(X3_Utrain, y3_Utrain)"
      ],
      "execution_count": null,
      "outputs": [
        {
          "output_type": "execute_result",
          "data": {
            "text/plain": [
              "SVC(C=0.5, kernel='linear')"
            ]
          },
          "metadata": {},
          "execution_count": 133
        }
      ]
    },
    {
      "cell_type": "code",
      "metadata": {
        "id": "m18dZJN_ippc",
        "colab": {
          "base_uri": "https://localhost:8080/"
        },
        "outputId": "c65c1478-65be-4013-8c9d-796c84ef90b5"
      },
      "source": [
        "#predictions\n",
        "y3_predu2 = svmiu.predict(X3_Utest)\n",
        "#evaluate predictions\n",
        "print('Accuracy: %.3f' % accuracy_score(y3_Utest, y3_predu2))\n",
        "print('Precision: %.3f' % precision_score(y3_Utest, y3_predu2, average=\"weighted\"))\n",
        "print('Recall: %.3f' % recall_score(y3_Utest, y3_predu2, average=\"weighted\"))\n",
        "print('F-measure: %.3f' % f1_score(y3_Utest, y3_predu2, average=\"weighted\"))"
      ],
      "execution_count": null,
      "outputs": [
        {
          "output_type": "stream",
          "name": "stdout",
          "text": [
            "Accuracy: 1.000\n",
            "Precision: 1.000\n",
            "Recall: 1.000\n",
            "F-measure: 1.000\n"
          ]
        }
      ]
    },
    {
      "cell_type": "markdown",
      "metadata": {
        "id": "gr5EdVfdippc"
      },
      "source": [
        "### 3.3.4 Gaussian Naive Bayes - Undersampling Near Miss\n",
        "\n",
        "\n"
      ]
    },
    {
      "cell_type": "code",
      "metadata": {
        "id": "L4Ln6vKnippc",
        "colab": {
          "base_uri": "https://localhost:8080/"
        },
        "outputId": "d3af7c0a-d9ab-45cb-caec-01e9bab9a48b"
      },
      "source": [
        "GNBiu = GaussianNB()\n",
        "#fit the model\n",
        "GNBiu.fit(X3_Utrain, y3_Utrain)"
      ],
      "execution_count": null,
      "outputs": [
        {
          "output_type": "execute_result",
          "data": {
            "text/plain": [
              "GaussianNB()"
            ]
          },
          "metadata": {},
          "execution_count": 136
        }
      ]
    },
    {
      "cell_type": "code",
      "metadata": {
        "id": "2r3-tX6xippc",
        "colab": {
          "base_uri": "https://localhost:8080/"
        },
        "outputId": "aa61978b-d637-4668-b8af-8c505778273b"
      },
      "source": [
        "#predictions\n",
        "y3_predu3 = GNBiu.predict(X3_Utest)\n",
        "#evaluate predictions\n",
        "print('Accuracy: %.3f' % accuracy_score(y3_Utest, y3_predu3))\n",
        "print('Precision: %.3f' % precision_score(y3_Utest, y3_predu3, average=\"weighted\"))\n",
        "print('Recall: %.3f' % recall_score(y3_Utest, y3_predu3, average=\"weighted\"))\n",
        "print('F-measure: %.3f' % f1_score(y3_Utest, y3_predu3, average=\"weighted\"))"
      ],
      "execution_count": null,
      "outputs": [
        {
          "output_type": "stream",
          "name": "stdout",
          "text": [
            "Accuracy: 0.933\n",
            "Precision: 0.944\n",
            "Recall: 0.933\n",
            "F-measure: 0.933\n"
          ]
        }
      ]
    },
    {
      "cell_type": "markdown",
      "metadata": {
        "id": "Zg_INVb3ippc"
      },
      "source": [
        "### 3.3.5 Random Forest - Undersampling Near Miss\n"
      ]
    },
    {
      "cell_type": "code",
      "metadata": {
        "id": "nRrqsXv8ippd",
        "colab": {
          "base_uri": "https://localhost:8080/"
        },
        "outputId": "275f7b4f-934d-448e-c6bf-3d4e1b8d0df4"
      },
      "source": [
        "RFiu = RandomForestClassifier(random_state=1, n_estimators=100)\n",
        "#fit the model\n",
        "RFiu.fit(X3_Utrain, y3_Utrain)"
      ],
      "execution_count": null,
      "outputs": [
        {
          "output_type": "execute_result",
          "data": {
            "text/plain": [
              "RandomForestClassifier(random_state=1)"
            ]
          },
          "metadata": {},
          "execution_count": 139
        }
      ]
    },
    {
      "cell_type": "code",
      "metadata": {
        "id": "hjPZHI0nippd",
        "colab": {
          "base_uri": "https://localhost:8080/"
        },
        "outputId": "b4523d2a-e537-4f46-c149-bf5eb03500c3"
      },
      "source": [
        "#predictions\n",
        "y3_predu4 = RFiu.predict(X3_Utest)\n",
        "#evaluate predictions\n",
        "print('Accuracy: %.3f' % accuracy_score(y3_Utest, y3_predu4))\n",
        "print('Precision: %.3f' % precision_score(y3_Utest, y3_predu4, average=\"weighted\"))\n",
        "print('Recall: %.3f' % recall_score(y3_Utest, y3_predu4, average=\"weighted\"))\n",
        "print('F-measure: %.3f' % f1_score(y3_Utest, y3_predu4, average=\"weighted\"))"
      ],
      "execution_count": null,
      "outputs": [
        {
          "output_type": "stream",
          "name": "stdout",
          "text": [
            "Accuracy: 0.933\n",
            "Precision: 0.944\n",
            "Recall: 0.933\n",
            "F-measure: 0.933\n"
          ]
        }
      ]
    },
    {
      "cell_type": "markdown",
      "metadata": {
        "id": "Eff__TLhZiLU"
      },
      "source": [
        "## **3.4 Oversampling**"
      ]
    },
    {
      "cell_type": "code",
      "metadata": {
        "id": "VPlZmMz-yLi9"
      },
      "source": [
        "from imblearn.over_sampling import (RandomOverSampler, \n",
        "                                    SMOTE, \n",
        "                                    ADASYN)"
      ],
      "execution_count": null,
      "outputs": []
    },
    {
      "cell_type": "code",
      "metadata": {
        "id": "dHe4_6ILiw5L",
        "colab": {
          "base_uri": "https://localhost:8080/"
        },
        "outputId": "8c70dae9-045a-4d87-ade1-2ad90421ef20"
      },
      "source": [
        "# instantiating the random oversampler\n",
        "ros = RandomOverSampler(sampling_strategy='not majority') \n",
        "# resampling X, y\n",
        "X3_over, y3_over = ros.fit_resample(X3, y3)\n",
        "# new class distribution\n",
        "print(Counter(y3_over))\n"
      ],
      "execution_count": null,
      "outputs": [
        {
          "output_type": "stream",
          "name": "stdout",
          "text": [
            "Counter({0: 50, 1: 50, 2: 50})\n"
          ]
        }
      ]
    },
    {
      "cell_type": "code",
      "metadata": {
        "id": "T60XLLJQiw5L",
        "colab": {
          "base_uri": "https://localhost:8080/",
          "height": 318
        },
        "outputId": "21c296af-4a35-44a2-fbb5-955f05fc7fbc"
      },
      "source": [
        "# histogram\n",
        "irisplot3 = sns.countplot(y3_over)\n",
        "irisplot3.set_xticklabels(['setosa', 'versicolor', 'virginica'])\n",
        "plt.show()"
      ],
      "execution_count": null,
      "outputs": [
        {
          "output_type": "stream",
          "name": "stderr",
          "text": [
            "/usr/local/lib/python3.7/dist-packages/seaborn/_decorators.py:43: FutureWarning: Pass the following variable as a keyword arg: x. From version 0.12, the only valid positional argument will be `data`, and passing other arguments without an explicit keyword will result in an error or misinterpretation.\n",
            "  FutureWarning\n"
          ]
        },
        {
          "output_type": "display_data",
          "data": {
            "image/png": "[encoded data removed]",
            "text/plain": [
              "<Figure size 432x288 with 1 Axes>"
            ]
          },
          "metadata": {
            "needs_background": "light"
          }
        }
      ]
    },
    {
      "cell_type": "code",
      "metadata": {
        "id": "d6hvlxFviw5M"
      },
      "source": [
        "# train and test sets\n",
        "# test size factor\n",
        "TS = 0.50\n",
        "X3_Otrain, X3_Otest, y3_Otrain, y3_Otest = train_test_split(X3_over, y3_over, test_size=TS, stratify=y3_over)"
      ],
      "execution_count": null,
      "outputs": []
    },
    {
      "cell_type": "markdown",
      "metadata": {
        "id": "B4MQGNnqhc6y"
      },
      "source": [
        "###3.4.1 XGBClassifier - Oversample Strategy"
      ]
    },
    {
      "cell_type": "code",
      "metadata": {
        "id": "dcm9lvOkiw5O",
        "colab": {
          "base_uri": "https://localhost:8080/"
        },
        "outputId": "259f170a-a699-4440-f510-45bcbe2ea316"
      },
      "source": [
        "#fit the model\n",
        "XGB3o = XGBClassifier()\n",
        "XGB3o.fit(X3_Otrain, y3_Otrain)"
      ],
      "execution_count": null,
      "outputs": [
        {
          "output_type": "execute_result",
          "data": {
            "text/plain": [
              "XGBClassifier(objective='multi:softprob')"
            ]
          },
          "metadata": {},
          "execution_count": 162
        }
      ]
    },
    {
      "cell_type": "code",
      "metadata": {
        "id": "4wz5ZPSAiw5P",
        "colab": {
          "base_uri": "https://localhost:8080/"
        },
        "outputId": "9037fe95-70ac-4ee7-e7a4-241adc439ded"
      },
      "source": [
        "# Predictions\n",
        "y3_predo5 = XGB3o.predict(X3_Otest)\n",
        "#evaulate predictions\n",
        "print('Accuracy: %.3f' % accuracy_score(y3_Otest, y3_predo5))\n",
        "print('Precision: %.3f' % precision_score(y3_Otest, y3_predo5, average=\"weighted\"))\n",
        "print('Recall: %.3f' % recall_score(y3_Otest, y3_predo5, average=\"weighted\"))\n",
        "print('F-measure: %.3f' % f1_score(y3_Otest, y3_predo5, average=\"weighted\"))"
      ],
      "execution_count": null,
      "outputs": [
        {
          "output_type": "stream",
          "name": "stdout",
          "text": [
            "Accuracy: 0.987\n",
            "Precision: 0.987\n",
            "Recall: 0.987\n",
            "F-measure: 0.987\n"
          ]
        }
      ]
    },
    {
      "cell_type": "markdown",
      "metadata": {
        "id": "mlrHxaSFhruX"
      },
      "source": [
        "###3.4.2 Logistic Regression - Oversample Strategy"
      ]
    },
    {
      "cell_type": "code",
      "metadata": {
        "id": "6qkC_C48iw5M",
        "colab": {
          "base_uri": "https://localhost:8080/"
        },
        "outputId": "bb384c90-9754-48ae-9265-50861ed987a2"
      },
      "source": [
        "# create model\n",
        "LRio = LogisticRegression(solver='liblinear')\n",
        "# fit model\n",
        "LRio.fit(X3_Otrain, y3_Otrain)"
      ],
      "execution_count": null,
      "outputs": [
        {
          "output_type": "execute_result",
          "data": {
            "text/plain": [
              "LogisticRegression(solver='liblinear')"
            ]
          },
          "metadata": {},
          "execution_count": 151
        }
      ]
    },
    {
      "cell_type": "code",
      "metadata": {
        "id": "SjUnYYVTiw5M",
        "colab": {
          "base_uri": "https://localhost:8080/"
        },
        "outputId": "cab678b7-4020-4b6f-e1a8-14dfe627fcf4"
      },
      "source": [
        "# predictions\n",
        "y3_predo1 = LRcco.predict(X3_Otest)\n",
        "# evaluate predictions\n",
        "print('Accuracy: %.3f' % accuracy_score(y3_Otest, y3_predo1))\n",
        "print('Precision: %.3f' % precision_score(y3_Otest, y3_predo1, average=\"weighted\"))\n",
        "print('Recall: %.3f' % recall_score(y3_Otest, y3_predo1, average=\"weighted\"))\n",
        "print('F-measure: %.3f' % f1_score(y3_Otest, y3_predo1, average=\"weighted\"))"
      ],
      "execution_count": null,
      "outputs": [
        {
          "output_type": "stream",
          "name": "stdout",
          "text": [
            "Accuracy: 0.907\n",
            "Precision: 0.917\n",
            "Recall: 0.907\n",
            "F-measure: 0.906\n"
          ]
        }
      ]
    },
    {
      "cell_type": "markdown",
      "metadata": {
        "id": "v_tD_bRhiw5M"
      },
      "source": [
        "### 3.4.3 Support Vector Machine - Oversample Strategy"
      ]
    },
    {
      "cell_type": "code",
      "metadata": {
        "id": "Oyc_lMxDiw5M",
        "colab": {
          "base_uri": "https://localhost:8080/"
        },
        "outputId": "2fc826d6-f489-4f28-e038-cc61c5ffafa4"
      },
      "source": [
        "svmio = SVC(C=0.5, kernel='linear')\n",
        "#fit the model \n",
        "svmio.fit(X3_Otrain, y3_Otrain)"
      ],
      "execution_count": null,
      "outputs": [
        {
          "output_type": "execute_result",
          "data": {
            "text/plain": [
              "SVC(C=0.5, kernel='linear')"
            ]
          },
          "metadata": {},
          "execution_count": 154
        }
      ]
    },
    {
      "cell_type": "code",
      "metadata": {
        "id": "F_3jEdcyiw5N",
        "colab": {
          "base_uri": "https://localhost:8080/"
        },
        "outputId": "315bcb2f-3816-41f4-fe9e-33f48a1bc6fd"
      },
      "source": [
        "#predictions\n",
        "y3_predo2 = svmio.predict(X3_Otest)\n",
        "#evaluate predictions\n",
        "print('Accuracy: %.3f' % accuracy_score(y3_Otest, y3_predo2))\n",
        "print('Precision: %.3f' % precision_score(y3_Otest, y3_predo2, average=\"weighted\"))\n",
        "print('Recall: %.3f' % recall_score(y3_Otest, y3_predo2, average=\"weighted\"))\n",
        "print('F-measure: %.3f' % f1_score(y3_Otest, y3_predo2, average=\"weighted\"))"
      ],
      "execution_count": null,
      "outputs": [
        {
          "output_type": "stream",
          "name": "stdout",
          "text": [
            "Accuracy: 0.960\n",
            "Precision: 0.964\n",
            "Recall: 0.960\n",
            "F-measure: 0.960\n"
          ]
        }
      ]
    },
    {
      "cell_type": "markdown",
      "metadata": {
        "id": "Ncg-m5Y2iw5N"
      },
      "source": [
        "### 3.4.4 Gaussian Naive Bayes - Oversample Strategy"
      ]
    },
    {
      "cell_type": "code",
      "metadata": {
        "id": "tiVgxGH8iw5N",
        "colab": {
          "base_uri": "https://localhost:8080/"
        },
        "outputId": "860f9c91-a01a-4230-f883-6c4d962677ad"
      },
      "source": [
        "GNBio = GaussianNB()\n",
        "#fit the model\n",
        "GNBio.fit(X3_Otrain, y3_Otrain)"
      ],
      "execution_count": null,
      "outputs": [
        {
          "output_type": "execute_result",
          "data": {
            "text/plain": [
              "GaussianNB()"
            ]
          },
          "metadata": {},
          "execution_count": 157
        }
      ]
    },
    {
      "cell_type": "code",
      "metadata": {
        "id": "PecIi8tGiw5O",
        "colab": {
          "base_uri": "https://localhost:8080/"
        },
        "outputId": "a7f37471-54d0-4725-88a7-42f14beab49a"
      },
      "source": [
        "#predictions\n",
        "y3_predo3 = GNBio.predict(X3_Otest)\n",
        "#evaluate predictions\n",
        "print('Accuracy: %.3f' % accuracy_score(y3_Otest, y3_predo3))\n",
        "print('Precision: %.3f' % precision_score(y3_Otest, y3_predo3, average=\"weighted\"))\n",
        "print('Recall: %.3f' % recall_score(y3_Otest, y3_predo3, average=\"weighted\"))\n",
        "print('F-measure: %.3f' % f1_score(y3_Otest, y3_predo3, average=\"weighted\"))"
      ],
      "execution_count": null,
      "outputs": [
        {
          "output_type": "stream",
          "name": "stdout",
          "text": [
            "Accuracy: 0.960\n",
            "Precision: 0.960\n",
            "Recall: 0.960\n",
            "F-measure: 0.960\n"
          ]
        }
      ]
    },
    {
      "cell_type": "markdown",
      "metadata": {
        "id": "ac18DPgWiw5O"
      },
      "source": [
        "### 3.4.5 Random Forest - Oversample Strategy"
      ]
    },
    {
      "cell_type": "code",
      "metadata": {
        "id": "vYoBhkKFiw5O",
        "colab": {
          "base_uri": "https://localhost:8080/"
        },
        "outputId": "c8a68ad6-9705-4f33-da61-36a1c67f7a17"
      },
      "source": [
        "RFio = RandomForestClassifier(random_state=1, n_estimators=100)\n",
        "#fit the model\n",
        "RFio.fit(X3_Otrain, y3_Otrain)"
      ],
      "execution_count": null,
      "outputs": [
        {
          "output_type": "execute_result",
          "data": {
            "text/plain": [
              "RandomForestClassifier(random_state=1)"
            ]
          },
          "metadata": {},
          "execution_count": 160
        }
      ]
    },
    {
      "cell_type": "code",
      "metadata": {
        "id": "H_vCq9UGiw5O",
        "colab": {
          "base_uri": "https://localhost:8080/"
        },
        "outputId": "bf68c70f-9889-4c46-ca51-97341a09eede"
      },
      "source": [
        "#predictions\n",
        "y3_predo4 = RFio.predict(X3_Otest)\n",
        "#evaluate predictions\n",
        "print('Accuracy: %.3f' % accuracy_score(y3_Otest, y3_predo4))\n",
        "print('Precision: %.3f' % precision_score(y3_Otest, y3_predo4, average=\"weighted\"))\n",
        "print('Recall: %.3f' % recall_score(y3_Otest, y3_predo4, average=\"weighted\"))\n",
        "print('F-measure: %.3f' % f1_score(y3_Otest, y3_predo4, average=\"weighted\"))"
      ],
      "execution_count": null,
      "outputs": [
        {
          "output_type": "stream",
          "name": "stdout",
          "text": [
            "Accuracy: 0.987\n",
            "Precision: 0.987\n",
            "Recall: 0.987\n",
            "F-measure: 0.987\n"
          ]
        }
      ]
    },
    {
      "cell_type": "markdown",
      "metadata": {
        "id": "7Z0R2ycLeTmd"
      },
      "source": [
        "##**3.5 Penalise Algorithm**"
      ]
    },
    {
      "cell_type": "code",
      "metadata": {
        "id": "hDRAPf9Zhj71"
      },
      "source": [
        "# using original dataset\n",
        "X3_train, X3_test, y3_train, y3_test = train_test_split(X3, y3, test_size=0.5, stratify=y3)"
      ],
      "execution_count": null,
      "outputs": []
    },
    {
      "cell_type": "markdown",
      "metadata": {
        "id": "Izvn9fXKepP_"
      },
      "source": [
        "###3.5.1 Logistic Regression Penalise Algorithm"
      ]
    },
    {
      "cell_type": "code",
      "metadata": {
        "id": "KIB30s47julT"
      },
      "source": [
        "# define model\n",
        "modelip = LogisticRegression(solver='lbfgs', class_weight='balanced')\n",
        "modelip.fit(X3_train, y3_train)"
      ],
      "execution_count": null,
      "outputs": []
    },
    {
      "cell_type": "code",
      "metadata": {
        "colab": {
          "base_uri": "https://localhost:8080/"
        },
        "id": "rkyHMn_MiV1j",
        "outputId": "b81a0762-0e00-4266-9f40-51da86367d85"
      },
      "source": [
        "# predictions\n",
        "y3_predp1 = modelip.predict(X3_test)\n",
        "# evaluate predictions\n",
        "print('Accuracy: %.3f' % accuracy_score(y3_test, y3_predp1))\n",
        "print('Precision: %.3f' % precision_score(y3_test, y3_predp1, average=\"weighted\"))\n",
        "print('Recall: %.3f' % recall_score(y3_test, y3_predp1, average=\"weighted\"))\n",
        "print('F-measure: %.3f' % f1_score(y3_test, y3_predp1, average=\"weighted\"))"
      ],
      "execution_count": null,
      "outputs": [
        {
          "output_type": "stream",
          "name": "stdout",
          "text": [
            "Accuracy: 0.943\n",
            "Precision: 0.946\n",
            "Recall: 0.943\n",
            "F-measure: 0.944\n"
          ]
        }
      ]
    },
    {
      "cell_type": "markdown",
      "metadata": {
        "id": "P6gLl-6pjdgt"
      },
      "source": [
        "###3.5.2 Support Vector Machine Penalise Algorithm"
      ]
    },
    {
      "cell_type": "code",
      "metadata": {
        "id": "7UGscgmUhj71",
        "colab": {
          "base_uri": "https://localhost:8080/"
        },
        "outputId": "6cdc6f7f-93c5-461e-a2ca-1b580ffe6fa8"
      },
      "source": [
        "# Penalized-SVM\n",
        "svc_model = SVC(class_weight='balanced', probability=True)\n",
        "\n",
        "# fit model\n",
        "svc_model.fit(X3_train, y3_train)\n",
        "\n",
        "# predictions\n",
        "svc_predict = svc_model.predict(X3_test)\n",
        "print('Accuracy: %.3f' % accuracy_score(y3_test, y3_pred,))\n",
        "print('Precision: %.3f' % precision_score(y3_test, y3_pred, average='weighted'))\n",
        "print('Recall: %.3f' % recall_score(y3_test, y3_pred, average=\"weighted\"))\n",
        "print('F-measure: %.3f' % f1_score(y3_test, y3_pred, average=\"weighted\"))"
      ],
      "execution_count": null,
      "outputs": [
        {
          "output_type": "stream",
          "name": "stdout",
          "text": [
            "Accuracy: 0.415\n",
            "Precision: 0.414\n",
            "Recall: 0.415\n",
            "F-measure: 0.414\n"
          ]
        }
      ]
    },
    {
      "cell_type": "markdown",
      "metadata": {
        "id": "724XM-COfFyL"
      },
      "source": [
        "###3.5.3 Random Forest Penalise Algorithm"
      ]
    },
    {
      "cell_type": "code",
      "metadata": {
        "colab": {
          "base_uri": "https://localhost:8080/"
        },
        "id": "0auzQHGWiV1l",
        "outputId": "f34e34a6-d155-452e-a6e7-f37ab9278f46"
      },
      "source": [
        "RFip = RandomForestClassifier(random_state=1, n_estimators=100, class_weight='balanced')\n",
        "#fit the model\n",
        "RFip.fit(X3_train, y3_train)"
      ],
      "execution_count": null,
      "outputs": [
        {
          "output_type": "execute_result",
          "data": {
            "text/plain": [
              "RandomForestClassifier(class_weight='balanced', random_state=1)"
            ]
          },
          "metadata": {},
          "execution_count": 169
        }
      ]
    },
    {
      "cell_type": "code",
      "metadata": {
        "colab": {
          "base_uri": "https://localhost:8080/"
        },
        "id": "4iM5i-YaiV1l",
        "outputId": "c1a26684-3975-4424-cec0-e3d68be717c3"
      },
      "source": [
        "#predictions\n",
        "y3_predp3 = RFip.predict(X3_test)\n",
        "#evaluate predictions\n",
        "print('Accuracy: %.3f' % accuracy_score(y3_test, y3_predp3))\n",
        "print('Precision: %.3f' % precision_score(y3_test, y3_predp3, average='weighted'))\n",
        "print('Recall: %.3f' % recall_score(y3_test, y3_predp3, average='weighted'))\n",
        "print('F-measure: %.3f' % f1_score(y3_test, y3_predp3, average='weighted'))"
      ],
      "execution_count": null,
      "outputs": [
        {
          "output_type": "stream",
          "name": "stdout",
          "text": [
            "Accuracy: 0.981\n",
            "Precision: 0.982\n",
            "Recall: 0.981\n",
            "F-measure: 0.981\n"
          ]
        }
      ]
    },
    {
      "cell_type": "markdown",
      "metadata": {
        "id": "qCXupvbDqMr3"
      },
      "source": [
        "##**3.6 Tables of Results from Different Classifiers**"
      ]
    },
    {
      "cell_type": "markdown",
      "metadata": {
        "id": "9tvDfo0Dqzcw"
      },
      "source": [
        "### 4.5.1 Imbalanced Dataset"
      ]
    },
    {
      "cell_type": "code",
      "metadata": {
        "colab": {
          "base_uri": "https://localhost:8080/",
          "height": 218
        },
        "id": "l7xOHiM5qzcx",
        "outputId": "1c67ef3c-1996-4e21-f445-6ab4c51ef20a"
      },
      "source": [
        "model_names = ['XGBoost', 'LogReg', 'SVM', 'GNB', 'RF']\n",
        "\n",
        "acci= [0.981, 0.981, 0.981, 0.981, 0.981]\n",
        "preci= [0.987, 0.987, 0.987, 0.987, 0.987]\n",
        "reci= [0.967, 0.967, 0.967, 0.967, 0.967]\n",
        "fi= [0.976, 0.976, 0.976, 0.976, 0.976]\n",
        "\n",
        "dirisi = {'Model_Names': model_names, 'accuracy': acci, 'precision' : preci, 'recall' : reci, 'f_score' : fi}\n",
        "dfirisit = pd.DataFrame(data=dirisi)\n",
        "print('The table for the imbalanced data is:')\n",
        "dfirisit"
      ],
      "execution_count": null,
      "outputs": [
        {
          "output_type": "stream",
          "name": "stdout",
          "text": [
            "The table for the imbalanced data is:\n"
          ]
        },
        {
          "output_type": "execute_result",
          "data": {
            "text/html": [
              "<div>\n",
              "<style scoped>\n",
              "    .dataframe tbody tr th:only-of-type {\n",
              "        vertical-align: middle;\n",
              "    }\n",
              "\n",
              "    .dataframe tbody tr th {\n",
              "        vertical-align: top;\n",
              "    }\n",
              "\n",
              "    .dataframe thead th {\n",
              "        text-align: right;\n",
              "    }\n",
              "</style>\n",
              "<table border=\"1\" class=\"dataframe\">\n",
              "  <thead>\n",
              "    <tr style=\"text-align: right;\">\n",
              "      <th></th>\n",
              "      <th>Model_Names</th>\n",
              "      <th>accuracy</th>\n",
              "      <th>precision</th>\n",
              "      <th>recall</th>\n",
              "      <th>f_score</th>\n",
              "    </tr>\n",
              "  </thead>\n",
              "  <tbody>\n",
              "    <tr>\n",
              "      <th>0</th>\n",
              "      <td>XGBoost</td>\n",
              "      <td>0.981</td>\n",
              "      <td>0.987</td>\n",
              "      <td>0.967</td>\n",
              "      <td>0.976</td>\n",
              "    </tr>\n",
              "    <tr>\n",
              "      <th>1</th>\n",
              "      <td>LogReg</td>\n",
              "      <td>0.981</td>\n",
              "      <td>0.987</td>\n",
              "      <td>0.967</td>\n",
              "      <td>0.976</td>\n",
              "    </tr>\n",
              "    <tr>\n",
              "      <th>2</th>\n",
              "      <td>SVM</td>\n",
              "      <td>0.981</td>\n",
              "      <td>0.987</td>\n",
              "      <td>0.967</td>\n",
              "      <td>0.976</td>\n",
              "    </tr>\n",
              "    <tr>\n",
              "      <th>3</th>\n",
              "      <td>GNB</td>\n",
              "      <td>0.981</td>\n",
              "      <td>0.987</td>\n",
              "      <td>0.967</td>\n",
              "      <td>0.976</td>\n",
              "    </tr>\n",
              "    <tr>\n",
              "      <th>4</th>\n",
              "      <td>RF</td>\n",
              "      <td>0.981</td>\n",
              "      <td>0.987</td>\n",
              "      <td>0.967</td>\n",
              "      <td>0.976</td>\n",
              "    </tr>\n",
              "  </tbody>\n",
              "</table>\n",
              "</div>"
            ],
            "text/plain": [
              "  Model_Names  accuracy  precision  recall  f_score\n",
              "0     XGBoost     0.981      0.987   0.967    0.976\n",
              "1      LogReg     0.981      0.987   0.967    0.976\n",
              "2         SVM     0.981      0.987   0.967    0.976\n",
              "3         GNB     0.981      0.987   0.967    0.976\n",
              "4          RF     0.981      0.987   0.967    0.976"
            ]
          },
          "metadata": {},
          "execution_count": 220
        }
      ]
    },
    {
      "cell_type": "markdown",
      "metadata": {
        "id": "MAfdKAfrqzcx"
      },
      "source": [
        "### 4.5.2 Undersampling "
      ]
    },
    {
      "cell_type": "code",
      "metadata": {
        "colab": {
          "base_uri": "https://localhost:8080/",
          "height": 218
        },
        "id": "zXqVRZBZqzcx",
        "outputId": "7845e3b5-35f0-4907-b733-07011ab08c4c"
      },
      "source": [
        "accu= [0.9, 0.933, 1, 0.933, 0.933]\n",
        "precu= [0.923, 0.944, 1, 0.944, 0.944]\n",
        "recu= [0.9, 0.933, 1, 0.933, 0.933]\n",
        "fu= [0.898, 0.933, 1, 0.933, 0.933]\n",
        "\n",
        "dirisu = {'Model_Names': model_names, 'accuracy': accu, 'precision' : precu, 'recall' : recu, 'f_score' : fu}\n",
        "dfirisut = pd.DataFrame(data=dirisu)\n",
        "print('The table for the undersampled data is:')\n",
        "dfirisut"
      ],
      "execution_count": null,
      "outputs": [
        {
          "output_type": "stream",
          "name": "stdout",
          "text": [
            "The table for the undersampled data is:\n"
          ]
        },
        {
          "output_type": "execute_result",
          "data": {
            "text/html": [
              "<div>\n",
              "<style scoped>\n",
              "    .dataframe tbody tr th:only-of-type {\n",
              "        vertical-align: middle;\n",
              "    }\n",
              "\n",
              "    .dataframe tbody tr th {\n",
              "        vertical-align: top;\n",
              "    }\n",
              "\n",
              "    .dataframe thead th {\n",
              "        text-align: right;\n",
              "    }\n",
              "</style>\n",
              "<table border=\"1\" class=\"dataframe\">\n",
              "  <thead>\n",
              "    <tr style=\"text-align: right;\">\n",
              "      <th></th>\n",
              "      <th>Model_Names</th>\n",
              "      <th>accuracy</th>\n",
              "      <th>precision</th>\n",
              "      <th>recall</th>\n",
              "      <th>f_score</th>\n",
              "    </tr>\n",
              "  </thead>\n",
              "  <tbody>\n",
              "    <tr>\n",
              "      <th>0</th>\n",
              "      <td>XGBoost</td>\n",
              "      <td>0.900</td>\n",
              "      <td>0.923</td>\n",
              "      <td>0.900</td>\n",
              "      <td>0.898</td>\n",
              "    </tr>\n",
              "    <tr>\n",
              "      <th>1</th>\n",
              "      <td>LogReg</td>\n",
              "      <td>0.933</td>\n",
              "      <td>0.944</td>\n",
              "      <td>0.933</td>\n",
              "      <td>0.933</td>\n",
              "    </tr>\n",
              "    <tr>\n",
              "      <th>2</th>\n",
              "      <td>SVM</td>\n",
              "      <td>1.000</td>\n",
              "      <td>1.000</td>\n",
              "      <td>1.000</td>\n",
              "      <td>1.000</td>\n",
              "    </tr>\n",
              "    <tr>\n",
              "      <th>3</th>\n",
              "      <td>GNB</td>\n",
              "      <td>0.933</td>\n",
              "      <td>0.944</td>\n",
              "      <td>0.933</td>\n",
              "      <td>0.933</td>\n",
              "    </tr>\n",
              "    <tr>\n",
              "      <th>4</th>\n",
              "      <td>RF</td>\n",
              "      <td>0.933</td>\n",
              "      <td>0.944</td>\n",
              "      <td>0.933</td>\n",
              "      <td>0.933</td>\n",
              "    </tr>\n",
              "  </tbody>\n",
              "</table>\n",
              "</div>"
            ],
            "text/plain": [
              "  Model_Names  accuracy  precision  recall  f_score\n",
              "0     XGBoost     0.900      0.923   0.900    0.898\n",
              "1      LogReg     0.933      0.944   0.933    0.933\n",
              "2         SVM     1.000      1.000   1.000    1.000\n",
              "3         GNB     0.933      0.944   0.933    0.933\n",
              "4          RF     0.933      0.944   0.933    0.933"
            ]
          },
          "metadata": {},
          "execution_count": 225
        }
      ]
    },
    {
      "cell_type": "markdown",
      "metadata": {
        "id": "rG8x29-Gqzcx"
      },
      "source": [
        "### 4.5.3 Oversample"
      ]
    },
    {
      "cell_type": "code",
      "metadata": {
        "colab": {
          "base_uri": "https://localhost:8080/",
          "height": 218
        },
        "id": "ouvzJVygqzcy",
        "outputId": "0b5356bd-7830-4253-dd2f-e2862379a9d4"
      },
      "source": [
        "acco= [0.987, 0.907, 0.96, 0.96, 0.987]\n",
        "preco= [0.987, 0.917, 0.964, 0.96, 0.987]\n",
        "reco= [0.987, 0.907, 0.96, 0.96, 0.987]\n",
        "fo= [0.987, 0.906, 0.96, 0.96, 0.987]\n",
        "\n",
        "diriso = {'Model_Names': model_names, 'accuracy': acco, 'precision' : preco, 'recall' : reco, 'f_score' : fo}\n",
        "dfirisot = pd.DataFrame(data=diriso)\n",
        "print('The table for the oversampled data is:')\n",
        "dfirisot"
      ],
      "execution_count": null,
      "outputs": [
        {
          "output_type": "stream",
          "name": "stdout",
          "text": [
            "The table for the oversampled data is:\n"
          ]
        },
        {
          "output_type": "execute_result",
          "data": {
            "text/html": [
              "<div>\n",
              "<style scoped>\n",
              "    .dataframe tbody tr th:only-of-type {\n",
              "        vertical-align: middle;\n",
              "    }\n",
              "\n",
              "    .dataframe tbody tr th {\n",
              "        vertical-align: top;\n",
              "    }\n",
              "\n",
              "    .dataframe thead th {\n",
              "        text-align: right;\n",
              "    }\n",
              "</style>\n",
              "<table border=\"1\" class=\"dataframe\">\n",
              "  <thead>\n",
              "    <tr style=\"text-align: right;\">\n",
              "      <th></th>\n",
              "      <th>Model_Names</th>\n",
              "      <th>accuracy</th>\n",
              "      <th>precision</th>\n",
              "      <th>recall</th>\n",
              "      <th>f_score</th>\n",
              "    </tr>\n",
              "  </thead>\n",
              "  <tbody>\n",
              "    <tr>\n",
              "      <th>0</th>\n",
              "      <td>XGBoost</td>\n",
              "      <td>0.987</td>\n",
              "      <td>0.987</td>\n",
              "      <td>0.987</td>\n",
              "      <td>0.987</td>\n",
              "    </tr>\n",
              "    <tr>\n",
              "      <th>1</th>\n",
              "      <td>LogReg</td>\n",
              "      <td>0.907</td>\n",
              "      <td>0.917</td>\n",
              "      <td>0.907</td>\n",
              "      <td>0.906</td>\n",
              "    </tr>\n",
              "    <tr>\n",
              "      <th>2</th>\n",
              "      <td>SVM</td>\n",
              "      <td>0.960</td>\n",
              "      <td>0.964</td>\n",
              "      <td>0.960</td>\n",
              "      <td>0.960</td>\n",
              "    </tr>\n",
              "    <tr>\n",
              "      <th>3</th>\n",
              "      <td>GNB</td>\n",
              "      <td>0.960</td>\n",
              "      <td>0.960</td>\n",
              "      <td>0.960</td>\n",
              "      <td>0.960</td>\n",
              "    </tr>\n",
              "    <tr>\n",
              "      <th>4</th>\n",
              "      <td>RF</td>\n",
              "      <td>0.987</td>\n",
              "      <td>0.987</td>\n",
              "      <td>0.987</td>\n",
              "      <td>0.987</td>\n",
              "    </tr>\n",
              "  </tbody>\n",
              "</table>\n",
              "</div>"
            ],
            "text/plain": [
              "  Model_Names  accuracy  precision  recall  f_score\n",
              "0     XGBoost     0.987      0.987   0.987    0.987\n",
              "1      LogReg     0.907      0.917   0.907    0.906\n",
              "2         SVM     0.960      0.964   0.960    0.960\n",
              "3         GNB     0.960      0.960   0.960    0.960\n",
              "4          RF     0.987      0.987   0.987    0.987"
            ]
          },
          "metadata": {},
          "execution_count": 226
        }
      ]
    },
    {
      "cell_type": "markdown",
      "metadata": {
        "id": "7DbdEvuZqzcy"
      },
      "source": [
        "### 4.5.4 Penalise Algorithm"
      ]
    },
    {
      "cell_type": "code",
      "metadata": {
        "colab": {
          "base_uri": "https://localhost:8080/",
          "height": 157
        },
        "id": "ENVXwLF-qzcy",
        "outputId": "0f9522bd-3875-4dbd-ea7a-c350ed2c5456"
      },
      "source": [
        "model_names1 = [ 'LogReg', 'SVM',  'RF']\n",
        "accp= [0.943, 0.415, 0.981]\n",
        "precp= [0.946, 0.414, 0.982]\n",
        "recp= [0.943, 0.415, 0.981]\n",
        "fp= [0.944, 0.414, 0.981]\n",
        "\n",
        "dirisp = {'Model_Names': model_names1, 'accuracy': accp, 'precision' : precp, 'recall' : recp, 'f_score' : fp}\n",
        "dfirispt = pd.DataFrame(data=dirisp)\n",
        "print('The table for the imbalanced data is:')\n",
        "dfirispt"
      ],
      "execution_count": null,
      "outputs": [
        {
          "output_type": "stream",
          "name": "stdout",
          "text": [
            "The table for the imbalanced data is:\n"
          ]
        },
        {
          "output_type": "execute_result",
          "data": {
            "text/html": [
              "<div>\n",
              "<style scoped>\n",
              "    .dataframe tbody tr th:only-of-type {\n",
              "        vertical-align: middle;\n",
              "    }\n",
              "\n",
              "    .dataframe tbody tr th {\n",
              "        vertical-align: top;\n",
              "    }\n",
              "\n",
              "    .dataframe thead th {\n",
              "        text-align: right;\n",
              "    }\n",
              "</style>\n",
              "<table border=\"1\" class=\"dataframe\">\n",
              "  <thead>\n",
              "    <tr style=\"text-align: right;\">\n",
              "      <th></th>\n",
              "      <th>Model_Names</th>\n",
              "      <th>accuracy</th>\n",
              "      <th>precision</th>\n",
              "      <th>recall</th>\n",
              "      <th>f_score</th>\n",
              "    </tr>\n",
              "  </thead>\n",
              "  <tbody>\n",
              "    <tr>\n",
              "      <th>0</th>\n",
              "      <td>LogReg</td>\n",
              "      <td>0.943</td>\n",
              "      <td>0.946</td>\n",
              "      <td>0.943</td>\n",
              "      <td>0.944</td>\n",
              "    </tr>\n",
              "    <tr>\n",
              "      <th>1</th>\n",
              "      <td>SVM</td>\n",
              "      <td>0.415</td>\n",
              "      <td>0.414</td>\n",
              "      <td>0.415</td>\n",
              "      <td>0.414</td>\n",
              "    </tr>\n",
              "    <tr>\n",
              "      <th>2</th>\n",
              "      <td>RF</td>\n",
              "      <td>0.981</td>\n",
              "      <td>0.982</td>\n",
              "      <td>0.981</td>\n",
              "      <td>0.981</td>\n",
              "    </tr>\n",
              "  </tbody>\n",
              "</table>\n",
              "</div>"
            ],
            "text/plain": [
              "  Model_Names  accuracy  precision  recall  f_score\n",
              "0      LogReg     0.943      0.946   0.943    0.944\n",
              "1         SVM     0.415      0.414   0.415    0.414\n",
              "2          RF     0.981      0.982   0.981    0.981"
            ]
          },
          "metadata": {},
          "execution_count": 228
        }
      ]
    },
    {
      "cell_type": "markdown",
      "metadata": {
        "id": "sC1_cffEaaWD"
      },
      "source": [
        "# **4. Imbalanced Credit Card Dataset**"
      ]
    },
    {
      "cell_type": "markdown",
      "metadata": {
        "id": "DhEwXHpo9HRD"
      },
      "source": [
        "**Credit card fraud detection**\n",
        "\n",
        "The task is to predict whether the credit card transaction was fraudulent or not.\n",
        "\n",
        "* Generally, the fraud transaction is about 6% of the total credit card transactions.\n",
        "\n",
        "* If you use the dataset as it is, you could get about 94% accuracy, but as you surely guess, this accuracy is misleading."
      ]
    },
    {
      "cell_type": "markdown",
      "metadata": {
        "id": "JVUBshXIaaWD"
      },
      "source": [
        "## **4.1 Data Preperation**"
      ]
    },
    {
      "cell_type": "markdown",
      "metadata": {
        "id": "NC4I0FEzCGvE"
      },
      "source": [
        "### Load credit card dataset\n"
      ]
    },
    {
      "cell_type": "markdown",
      "metadata": {
        "id": "GFuhnCJWC9Es"
      },
      "source": [
        "Download the dataset from [GitHub](https://github.com/UL-CS6134/CS6134_SEM1_2021-2/tree/main/Week-5).\n",
        "\n",
        "Note: files are zipped."
      ]
    },
    {
      "cell_type": "code",
      "metadata": {
        "id": "N707hL2s743S"
      },
      "source": [
        "# add the path to the dataset, either from your local or cloud drive\n",
        "path = '/content/data/'"
      ],
      "execution_count": null,
      "outputs": []
    },
    {
      "cell_type": "code",
      "metadata": {
        "id": "JI2XS8Ld8UuY"
      },
      "source": [
        "# load the dataset\n",
        "filename = 'creditcard.csv'\n",
        "dfcc = pd.read_csv(path+filename)"
      ],
      "execution_count": null,
      "outputs": []
    },
    {
      "cell_type": "code",
      "metadata": {
        "colab": {
          "base_uri": "https://localhost:8080/",
          "height": 223
        },
        "id": "xzkBv_i-81-Q",
        "outputId": "98ace619-a9d5-4332-c753-62ae10d48739"
      },
      "source": [
        "# show first rows\n",
        "dfcc.head()"
      ],
      "execution_count": null,
      "outputs": [
        {
          "output_type": "execute_result",
          "data": {
            "text/html": [
              "<div>\n",
              "<style scoped>\n",
              "    .dataframe tbody tr th:only-of-type {\n",
              "        vertical-align: middle;\n",
              "    }\n",
              "\n",
              "    .dataframe tbody tr th {\n",
              "        vertical-align: top;\n",
              "    }\n",
              "\n",
              "    .dataframe thead th {\n",
              "        text-align: right;\n",
              "    }\n",
              "</style>\n",
              "<table border=\"1\" class=\"dataframe\">\n",
              "  <thead>\n",
              "    <tr style=\"text-align: right;\">\n",
              "      <th></th>\n",
              "      <th>Time</th>\n",
              "      <th>V1</th>\n",
              "      <th>V2</th>\n",
              "      <th>V3</th>\n",
              "      <th>V4</th>\n",
              "      <th>V5</th>\n",
              "      <th>V6</th>\n",
              "      <th>V7</th>\n",
              "      <th>V8</th>\n",
              "      <th>V9</th>\n",
              "      <th>V10</th>\n",
              "      <th>V11</th>\n",
              "      <th>V12</th>\n",
              "      <th>V13</th>\n",
              "      <th>V14</th>\n",
              "      <th>V15</th>\n",
              "      <th>V16</th>\n",
              "      <th>V17</th>\n",
              "      <th>V18</th>\n",
              "      <th>V19</th>\n",
              "      <th>V20</th>\n",
              "      <th>V21</th>\n",
              "      <th>V22</th>\n",
              "      <th>V23</th>\n",
              "      <th>V24</th>\n",
              "      <th>V25</th>\n",
              "      <th>V26</th>\n",
              "      <th>V27</th>\n",
              "      <th>V28</th>\n",
              "      <th>Amount</th>\n",
              "      <th>Class</th>\n",
              "    </tr>\n",
              "  </thead>\n",
              "  <tbody>\n",
              "    <tr>\n",
              "      <th>0</th>\n",
              "      <td>0</td>\n",
              "      <td>-1.359807</td>\n",
              "      <td>-0.072781</td>\n",
              "      <td>2.536347</td>\n",
              "      <td>1.378155</td>\n",
              "      <td>-0.338321</td>\n",
              "      <td>0.462388</td>\n",
              "      <td>0.239599</td>\n",
              "      <td>0.098698</td>\n",
              "      <td>0.363787</td>\n",
              "      <td>0.090794</td>\n",
              "      <td>-0.551600</td>\n",
              "      <td>-0.617801</td>\n",
              "      <td>-0.991390</td>\n",
              "      <td>-0.311169</td>\n",
              "      <td>1.468177</td>\n",
              "      <td>-0.470401</td>\n",
              "      <td>0.207971</td>\n",
              "      <td>0.025791</td>\n",
              "      <td>0.403993</td>\n",
              "      <td>0.251412</td>\n",
              "      <td>-0.018307</td>\n",
              "      <td>0.277838</td>\n",
              "      <td>-0.110474</td>\n",
              "      <td>0.066928</td>\n",
              "      <td>0.128539</td>\n",
              "      <td>-0.189115</td>\n",
              "      <td>0.133558</td>\n",
              "      <td>-0.021053</td>\n",
              "      <td>149.62</td>\n",
              "      <td>0.0</td>\n",
              "    </tr>\n",
              "    <tr>\n",
              "      <th>1</th>\n",
              "      <td>0</td>\n",
              "      <td>1.191857</td>\n",
              "      <td>0.266151</td>\n",
              "      <td>0.166480</td>\n",
              "      <td>0.448154</td>\n",
              "      <td>0.060018</td>\n",
              "      <td>-0.082361</td>\n",
              "      <td>-0.078803</td>\n",
              "      <td>0.085102</td>\n",
              "      <td>-0.255425</td>\n",
              "      <td>-0.166974</td>\n",
              "      <td>1.612727</td>\n",
              "      <td>1.065235</td>\n",
              "      <td>0.489095</td>\n",
              "      <td>-0.143772</td>\n",
              "      <td>0.635558</td>\n",
              "      <td>0.463917</td>\n",
              "      <td>-0.114805</td>\n",
              "      <td>-0.183361</td>\n",
              "      <td>-0.145783</td>\n",
              "      <td>-0.069083</td>\n",
              "      <td>-0.225775</td>\n",
              "      <td>-0.638672</td>\n",
              "      <td>0.101288</td>\n",
              "      <td>-0.339846</td>\n",
              "      <td>0.167170</td>\n",
              "      <td>0.125895</td>\n",
              "      <td>-0.008983</td>\n",
              "      <td>0.014724</td>\n",
              "      <td>2.69</td>\n",
              "      <td>0.0</td>\n",
              "    </tr>\n",
              "    <tr>\n",
              "      <th>2</th>\n",
              "      <td>1</td>\n",
              "      <td>-1.358354</td>\n",
              "      <td>-1.340163</td>\n",
              "      <td>1.773209</td>\n",
              "      <td>0.379780</td>\n",
              "      <td>-0.503198</td>\n",
              "      <td>1.800499</td>\n",
              "      <td>0.791461</td>\n",
              "      <td>0.247676</td>\n",
              "      <td>-1.514654</td>\n",
              "      <td>0.207643</td>\n",
              "      <td>0.624501</td>\n",
              "      <td>0.066084</td>\n",
              "      <td>0.717293</td>\n",
              "      <td>-0.165946</td>\n",
              "      <td>2.345865</td>\n",
              "      <td>-2.890083</td>\n",
              "      <td>1.109969</td>\n",
              "      <td>-0.121359</td>\n",
              "      <td>-2.261857</td>\n",
              "      <td>0.524980</td>\n",
              "      <td>0.247998</td>\n",
              "      <td>0.771679</td>\n",
              "      <td>0.909412</td>\n",
              "      <td>-0.689281</td>\n",
              "      <td>-0.327642</td>\n",
              "      <td>-0.139097</td>\n",
              "      <td>-0.055353</td>\n",
              "      <td>-0.059752</td>\n",
              "      <td>378.66</td>\n",
              "      <td>0.0</td>\n",
              "    </tr>\n",
              "    <tr>\n",
              "      <th>3</th>\n",
              "      <td>1</td>\n",
              "      <td>-0.966272</td>\n",
              "      <td>-0.185226</td>\n",
              "      <td>1.792993</td>\n",
              "      <td>-0.863291</td>\n",
              "      <td>-0.010309</td>\n",
              "      <td>1.247203</td>\n",
              "      <td>0.237609</td>\n",
              "      <td>0.377436</td>\n",
              "      <td>-1.387024</td>\n",
              "      <td>-0.054952</td>\n",
              "      <td>-0.226487</td>\n",
              "      <td>0.178228</td>\n",
              "      <td>0.507757</td>\n",
              "      <td>-0.287924</td>\n",
              "      <td>-0.631418</td>\n",
              "      <td>-1.059647</td>\n",
              "      <td>-0.684093</td>\n",
              "      <td>1.965775</td>\n",
              "      <td>-1.232622</td>\n",
              "      <td>-0.208038</td>\n",
              "      <td>-0.108300</td>\n",
              "      <td>0.005274</td>\n",
              "      <td>-0.190321</td>\n",
              "      <td>-1.175575</td>\n",
              "      <td>0.647376</td>\n",
              "      <td>-0.221929</td>\n",
              "      <td>0.062723</td>\n",
              "      <td>0.061458</td>\n",
              "      <td>123.50</td>\n",
              "      <td>0.0</td>\n",
              "    </tr>\n",
              "    <tr>\n",
              "      <th>4</th>\n",
              "      <td>2</td>\n",
              "      <td>-1.158233</td>\n",
              "      <td>0.877737</td>\n",
              "      <td>1.548718</td>\n",
              "      <td>0.403034</td>\n",
              "      <td>-0.407193</td>\n",
              "      <td>0.095921</td>\n",
              "      <td>0.592941</td>\n",
              "      <td>-0.270533</td>\n",
              "      <td>0.817739</td>\n",
              "      <td>0.753074</td>\n",
              "      <td>-0.822843</td>\n",
              "      <td>0.538196</td>\n",
              "      <td>1.345852</td>\n",
              "      <td>-1.119670</td>\n",
              "      <td>0.175121</td>\n",
              "      <td>-0.451449</td>\n",
              "      <td>-0.237033</td>\n",
              "      <td>-0.038195</td>\n",
              "      <td>0.803487</td>\n",
              "      <td>0.408542</td>\n",
              "      <td>-0.009431</td>\n",
              "      <td>0.798278</td>\n",
              "      <td>-0.137458</td>\n",
              "      <td>0.141267</td>\n",
              "      <td>-0.206010</td>\n",
              "      <td>0.502292</td>\n",
              "      <td>0.219422</td>\n",
              "      <td>0.215153</td>\n",
              "      <td>69.99</td>\n",
              "      <td>0.0</td>\n",
              "    </tr>\n",
              "  </tbody>\n",
              "</table>\n",
              "</div>"
            ],
            "text/plain": [
              "   Time        V1        V2        V3  ...       V27       V28  Amount  Class\n",
              "0     0 -1.359807 -0.072781  2.536347  ...  0.133558 -0.021053  149.62    0.0\n",
              "1     0  1.191857  0.266151  0.166480  ... -0.008983  0.014724    2.69    0.0\n",
              "2     1 -1.358354 -1.340163  1.773209  ... -0.055353 -0.059752  378.66    0.0\n",
              "3     1 -0.966272 -0.185226  1.792993  ...  0.062723  0.061458  123.50    0.0\n",
              "4     2 -1.158233  0.877737  1.548718  ...  0.219422  0.215153   69.99    0.0\n",
              "\n",
              "[5 rows x 31 columns]"
            ]
          },
          "metadata": {},
          "execution_count": 7
        }
      ]
    },
    {
      "cell_type": "code",
      "metadata": {
        "colab": {
          "base_uri": "https://localhost:8080/"
        },
        "id": "JTztm5j44BZ8",
        "outputId": "ecec22d5-681f-4552-ea5a-f35203b84286"
      },
      "source": [
        "# check null values\n",
        "dfcc.isnull().sum().max()\n",
        "\n",
        "print(len(dfcc))\n",
        "\n",
        "# 1 null row, must remove\n",
        "df1cc = dfcc.dropna()\n",
        "print(len(df1cc))\n",
        "\n",
        "# null row removed"
      ],
      "execution_count": null,
      "outputs": [
        {
          "output_type": "stream",
          "name": "stdout",
          "text": [
            "86745\n",
            "86744\n"
          ]
        }
      ]
    },
    {
      "cell_type": "code",
      "metadata": {
        "colab": {
          "base_uri": "https://localhost:8080/",
          "height": 333
        },
        "id": "3n7_jKHR4HPh",
        "outputId": "2f5816fd-b059-4a34-eb12-bed9ba80fa9c"
      },
      "source": [
        "#visualising target variable\n",
        "P = sns.countplot(df1cc['Class'])\n",
        "P.set_xticklabels(['No Fraud','Fraud'])\n",
        "plt.show()"
      ],
      "execution_count": null,
      "outputs": [
        {
          "name": "stderr",
          "output_type": "stream",
          "text": [
            "/usr/local/lib/python3.7/dist-packages/seaborn/_decorators.py:43: FutureWarning: Pass the following variable as a keyword arg: x. From version 0.12, the only valid positional argument will be `data`, and passing other arguments without an explicit keyword will result in an error or misinterpretation.\n",
            "  FutureWarning\n"
          ]
        },
        {
          "data": {
            "image/png": "[encoded data removed]",
            "text/plain": [
              "<Figure size 432x288 with 1 Axes>"
            ]
          },
          "metadata": {},
          "output_type": "display_data"
        }
      ]
    },
    {
      "cell_type": "code",
      "metadata": {
        "colab": {
          "base_uri": "https://localhost:8080/"
        },
        "id": "mpnA3rj44QJS",
        "outputId": "80b8a145-e2e5-442b-8a60-9659767b55ce"
      },
      "source": [
        "# percentage of samples in both classes\n",
        "# print imbalanced dataset information\n",
        "print('No Fraud', round(df1cc['Class'].value_counts()[0]/len(df1cc) * 100,2), '% of total samples')\n",
        "print('Fraud', round(df1cc['Class'].value_counts()[1]/len(df1cc) * 100,2), '% of total samples')"
      ],
      "execution_count": null,
      "outputs": [
        {
          "name": "stdout",
          "output_type": "stream",
          "text": [
            "No Fraud 99.76 % of total samples\n",
            "Fraud 0.24 % of total samples\n"
          ]
        }
      ]
    },
    {
      "cell_type": "code",
      "metadata": {
        "colab": {
          "base_uri": "https://localhost:8080/",
          "height": 315
        },
        "id": "Q8PH2rOx4Z6b",
        "outputId": "35f3f194-4c9c-4c71-e2e9-7dfd2b427df4"
      },
      "source": [
        "# descriptive statistics\n",
        "df1cc.describe()\n",
        "\n",
        "# most of the data is scaled apart from amount and time"
      ],
      "execution_count": null,
      "outputs": [
        {
          "data": {
            "text/html": [
              "<div>\n",
              "<style scoped>\n",
              "    .dataframe tbody tr th:only-of-type {\n",
              "        vertical-align: middle;\n",
              "    }\n",
              "\n",
              "    .dataframe tbody tr th {\n",
              "        vertical-align: top;\n",
              "    }\n",
              "\n",
              "    .dataframe thead th {\n",
              "        text-align: right;\n",
              "    }\n",
              "</style>\n",
              "<table border=\"1\" class=\"dataframe\">\n",
              "  <thead>\n",
              "    <tr style=\"text-align: right;\">\n",
              "      <th></th>\n",
              "      <th>Time</th>\n",
              "      <th>V1</th>\n",
              "      <th>V2</th>\n",
              "      <th>V3</th>\n",
              "      <th>V4</th>\n",
              "      <th>V5</th>\n",
              "      <th>V6</th>\n",
              "      <th>V7</th>\n",
              "      <th>V8</th>\n",
              "      <th>V9</th>\n",
              "      <th>V10</th>\n",
              "      <th>V11</th>\n",
              "      <th>V12</th>\n",
              "      <th>V13</th>\n",
              "      <th>V14</th>\n",
              "      <th>V15</th>\n",
              "      <th>V16</th>\n",
              "      <th>V17</th>\n",
              "      <th>V18</th>\n",
              "      <th>V19</th>\n",
              "      <th>V20</th>\n",
              "      <th>V21</th>\n",
              "      <th>V22</th>\n",
              "      <th>V23</th>\n",
              "      <th>V24</th>\n",
              "      <th>V25</th>\n",
              "      <th>V26</th>\n",
              "      <th>V27</th>\n",
              "      <th>V28</th>\n",
              "      <th>Amount</th>\n",
              "      <th>Class</th>\n",
              "    </tr>\n",
              "  </thead>\n",
              "  <tbody>\n",
              "    <tr>\n",
              "      <th>count</th>\n",
              "      <td>86744.000000</td>\n",
              "      <td>86744.000000</td>\n",
              "      <td>86744.000000</td>\n",
              "      <td>86744.000000</td>\n",
              "      <td>86744.000000</td>\n",
              "      <td>86744.000000</td>\n",
              "      <td>86744.000000</td>\n",
              "      <td>86744.000000</td>\n",
              "      <td>86744.000000</td>\n",
              "      <td>86744.000000</td>\n",
              "      <td>86744.000000</td>\n",
              "      <td>86744.000000</td>\n",
              "      <td>86744.000000</td>\n",
              "      <td>86744.000000</td>\n",
              "      <td>86744.000000</td>\n",
              "      <td>86744.000000</td>\n",
              "      <td>86744.000000</td>\n",
              "      <td>86744.000000</td>\n",
              "      <td>86744.000000</td>\n",
              "      <td>86744.000000</td>\n",
              "      <td>86744.000000</td>\n",
              "      <td>86744.000000</td>\n",
              "      <td>86744.000000</td>\n",
              "      <td>86744.000000</td>\n",
              "      <td>86744.000000</td>\n",
              "      <td>86744.000000</td>\n",
              "      <td>86744.000000</td>\n",
              "      <td>86744.000000</td>\n",
              "      <td>86744.000000</td>\n",
              "      <td>86744.000000</td>\n",
              "      <td>86744.000000</td>\n",
              "    </tr>\n",
              "    <tr>\n",
              "      <th>mean</th>\n",
              "      <td>39080.909757</td>\n",
              "      <td>-0.264394</td>\n",
              "      <td>-0.039395</td>\n",
              "      <td>0.679476</td>\n",
              "      <td>0.163191</td>\n",
              "      <td>-0.277579</td>\n",
              "      <td>0.094432</td>\n",
              "      <td>-0.110504</td>\n",
              "      <td>0.054038</td>\n",
              "      <td>-0.024221</td>\n",
              "      <td>-0.030677</td>\n",
              "      <td>0.268429</td>\n",
              "      <td>-0.110345</td>\n",
              "      <td>0.029272</td>\n",
              "      <td>0.075711</td>\n",
              "      <td>0.177367</td>\n",
              "      <td>-0.007561</td>\n",
              "      <td>0.067895</td>\n",
              "      <td>-0.096510</td>\n",
              "      <td>-0.023421</td>\n",
              "      <td>0.041844</td>\n",
              "      <td>-0.029359</td>\n",
              "      <td>-0.105765</td>\n",
              "      <td>-0.037336</td>\n",
              "      <td>0.009544</td>\n",
              "      <td>0.132807</td>\n",
              "      <td>0.026706</td>\n",
              "      <td>0.000936</td>\n",
              "      <td>0.002139</td>\n",
              "      <td>98.388368</td>\n",
              "      <td>0.002363</td>\n",
              "    </tr>\n",
              "    <tr>\n",
              "      <th>std</th>\n",
              "      <td>15801.511779</td>\n",
              "      <td>1.878162</td>\n",
              "      <td>1.668334</td>\n",
              "      <td>1.361668</td>\n",
              "      <td>1.361492</td>\n",
              "      <td>1.372615</td>\n",
              "      <td>1.302712</td>\n",
              "      <td>1.234742</td>\n",
              "      <td>1.219015</td>\n",
              "      <td>1.132859</td>\n",
              "      <td>1.068995</td>\n",
              "      <td>1.075499</td>\n",
              "      <td>1.155714</td>\n",
              "      <td>1.052991</td>\n",
              "      <td>0.991417</td>\n",
              "      <td>0.933677</td>\n",
              "      <td>0.909212</td>\n",
              "      <td>0.973257</td>\n",
              "      <td>0.853595</td>\n",
              "      <td>0.819713</td>\n",
              "      <td>0.767930</td>\n",
              "      <td>0.730129</td>\n",
              "      <td>0.635299</td>\n",
              "      <td>0.624832</td>\n",
              "      <td>0.594799</td>\n",
              "      <td>0.441286</td>\n",
              "      <td>0.496947</td>\n",
              "      <td>0.390614</td>\n",
              "      <td>0.328321</td>\n",
              "      <td>267.643590</td>\n",
              "      <td>0.048556</td>\n",
              "    </tr>\n",
              "    <tr>\n",
              "      <th>min</th>\n",
              "      <td>0.000000</td>\n",
              "      <td>-56.407510</td>\n",
              "      <td>-72.715728</td>\n",
              "      <td>-33.680984</td>\n",
              "      <td>-5.172595</td>\n",
              "      <td>-42.147898</td>\n",
              "      <td>-26.160506</td>\n",
              "      <td>-31.764946</td>\n",
              "      <td>-73.216718</td>\n",
              "      <td>-9.283925</td>\n",
              "      <td>-18.271168</td>\n",
              "      <td>-4.049895</td>\n",
              "      <td>-17.769143</td>\n",
              "      <td>-5.791881</td>\n",
              "      <td>-19.214325</td>\n",
              "      <td>-4.152532</td>\n",
              "      <td>-13.563273</td>\n",
              "      <td>-25.162799</td>\n",
              "      <td>-9.498746</td>\n",
              "      <td>-7.213527</td>\n",
              "      <td>-19.902611</td>\n",
              "      <td>-34.830382</td>\n",
              "      <td>-10.933144</td>\n",
              "      <td>-26.751119</td>\n",
              "      <td>-2.836627</td>\n",
              "      <td>-7.495741</td>\n",
              "      <td>-2.534330</td>\n",
              "      <td>-9.390980</td>\n",
              "      <td>-9.617915</td>\n",
              "      <td>0.000000</td>\n",
              "      <td>0.000000</td>\n",
              "    </tr>\n",
              "    <tr>\n",
              "      <th>25%</th>\n",
              "      <td>31805.750000</td>\n",
              "      <td>-1.027862</td>\n",
              "      <td>-0.602920</td>\n",
              "      <td>0.184456</td>\n",
              "      <td>-0.720535</td>\n",
              "      <td>-0.897257</td>\n",
              "      <td>-0.645231</td>\n",
              "      <td>-0.602851</td>\n",
              "      <td>-0.140669</td>\n",
              "      <td>-0.691649</td>\n",
              "      <td>-0.503096</td>\n",
              "      <td>-0.511577</td>\n",
              "      <td>-0.540976</td>\n",
              "      <td>-0.666077</td>\n",
              "      <td>-0.329077</td>\n",
              "      <td>-0.378137</td>\n",
              "      <td>-0.483953</td>\n",
              "      <td>-0.395038</td>\n",
              "      <td>-0.569891</td>\n",
              "      <td>-0.518663</td>\n",
              "      <td>-0.170007</td>\n",
              "      <td>-0.223675</td>\n",
              "      <td>-0.525249</td>\n",
              "      <td>-0.178041</td>\n",
              "      <td>-0.321918</td>\n",
              "      <td>-0.131657</td>\n",
              "      <td>-0.326138</td>\n",
              "      <td>-0.063557</td>\n",
              "      <td>-0.005892</td>\n",
              "      <td>7.680000</td>\n",
              "      <td>0.000000</td>\n",
              "    </tr>\n",
              "    <tr>\n",
              "      <th>50%</th>\n",
              "      <td>41480.000000</td>\n",
              "      <td>-0.260719</td>\n",
              "      <td>0.070409</td>\n",
              "      <td>0.762704</td>\n",
              "      <td>0.186133</td>\n",
              "      <td>-0.312091</td>\n",
              "      <td>-0.155367</td>\n",
              "      <td>-0.072132</td>\n",
              "      <td>0.070501</td>\n",
              "      <td>-0.099699</td>\n",
              "      <td>-0.095234</td>\n",
              "      <td>0.201379</td>\n",
              "      <td>0.088870</td>\n",
              "      <td>0.007634</td>\n",
              "      <td>0.086472</td>\n",
              "      <td>0.282169</td>\n",
              "      <td>0.064893</td>\n",
              "      <td>0.008861</td>\n",
              "      <td>-0.087972</td>\n",
              "      <td>-0.027577</td>\n",
              "      <td>-0.025207</td>\n",
              "      <td>-0.057631</td>\n",
              "      <td>-0.081393</td>\n",
              "      <td>-0.049836</td>\n",
              "      <td>0.065004</td>\n",
              "      <td>0.171228</td>\n",
              "      <td>-0.071984</td>\n",
              "      <td>0.009355</td>\n",
              "      <td>0.023013</td>\n",
              "      <td>26.990000</td>\n",
              "      <td>0.000000</td>\n",
              "    </tr>\n",
              "    <tr>\n",
              "      <th>75%</th>\n",
              "      <td>51412.000000</td>\n",
              "      <td>1.152668</td>\n",
              "      <td>0.726129</td>\n",
              "      <td>1.389882</td>\n",
              "      <td>1.040338</td>\n",
              "      <td>0.257044</td>\n",
              "      <td>0.488732</td>\n",
              "      <td>0.417938</td>\n",
              "      <td>0.353062</td>\n",
              "      <td>0.597347</td>\n",
              "      <td>0.442022</td>\n",
              "      <td>1.080235</td>\n",
              "      <td>0.609943</td>\n",
              "      <td>0.712386</td>\n",
              "      <td>0.510552</td>\n",
              "      <td>0.850734</td>\n",
              "      <td>0.542372</td>\n",
              "      <td>0.472401</td>\n",
              "      <td>0.389721</td>\n",
              "      <td>0.481177</td>\n",
              "      <td>0.170806</td>\n",
              "      <td>0.118668</td>\n",
              "      <td>0.309845</td>\n",
              "      <td>0.080863</td>\n",
              "      <td>0.406048</td>\n",
              "      <td>0.420572</td>\n",
              "      <td>0.306638</td>\n",
              "      <td>0.082666</td>\n",
              "      <td>0.076182</td>\n",
              "      <td>89.900000</td>\n",
              "      <td>0.000000</td>\n",
              "    </tr>\n",
              "    <tr>\n",
              "      <th>max</th>\n",
              "      <td>61374.000000</td>\n",
              "      <td>1.960497</td>\n",
              "      <td>18.902453</td>\n",
              "      <td>4.226108</td>\n",
              "      <td>16.715537</td>\n",
              "      <td>34.801666</td>\n",
              "      <td>22.529298</td>\n",
              "      <td>36.677268</td>\n",
              "      <td>20.007208</td>\n",
              "      <td>10.392889</td>\n",
              "      <td>13.198226</td>\n",
              "      <td>12.018913</td>\n",
              "      <td>7.848392</td>\n",
              "      <td>4.465413</td>\n",
              "      <td>10.526766</td>\n",
              "      <td>5.784514</td>\n",
              "      <td>6.098529</td>\n",
              "      <td>9.253526</td>\n",
              "      <td>5.041069</td>\n",
              "      <td>5.228342</td>\n",
              "      <td>39.420904</td>\n",
              "      <td>22.614889</td>\n",
              "      <td>10.503090</td>\n",
              "      <td>18.946734</td>\n",
              "      <td>4.014444</td>\n",
              "      <td>5.525093</td>\n",
              "      <td>3.517346</td>\n",
              "      <td>12.152401</td>\n",
              "      <td>33.847808</td>\n",
              "      <td>19656.530000</td>\n",
              "      <td>1.000000</td>\n",
              "    </tr>\n",
              "  </tbody>\n",
              "</table>\n",
              "</div>"
            ],
            "text/plain": [
              "               Time            V1  ...        Amount         Class\n",
              "count  86744.000000  86744.000000  ...  86744.000000  86744.000000\n",
              "mean   39080.909757     -0.264394  ...     98.388368      0.002363\n",
              "std    15801.511779      1.878162  ...    267.643590      0.048556\n",
              "min        0.000000    -56.407510  ...      0.000000      0.000000\n",
              "25%    31805.750000     -1.027862  ...      7.680000      0.000000\n",
              "50%    41480.000000     -0.260719  ...     26.990000      0.000000\n",
              "75%    51412.000000      1.152668  ...     89.900000      0.000000\n",
              "max    61374.000000      1.960497  ...  19656.530000      1.000000\n",
              "\n",
              "[8 rows x 31 columns]"
            ]
          },
          "execution_count": 9,
          "metadata": {},
          "output_type": "execute_result"
        }
      ]
    },
    {
      "cell_type": "code",
      "metadata": {
        "colab": {
          "base_uri": "https://localhost:8080/",
          "height": 370
        },
        "id": "I5aYoXDz4fys",
        "outputId": "477b76be-7b54-4110-87bb-4bc2463047f6"
      },
      "source": [
        "# distributions of time and amount\n",
        "\n",
        "fig, ax = plt.subplots(1, 2, figsize=(12,4))\n",
        "\n",
        "time_feature = df1cc['Time'].values\n",
        "amount_feature = df1cc['Amount'].values\n",
        "\n",
        "sns.distplot(time_feature, ax=ax[0], color='b')\n",
        "ax[0].set_title('Transaction Time Distribution', fontsize=14)\n",
        "ax[0].set_xlim([min(time_feature), max(time_feature)])\n",
        "\n",
        "sns.distplot(amount_feature, ax=ax[1], color='r')\n",
        "ax[1].set_title('Transaction Amount Distribution', fontsize=14)\n",
        "ax[1].set_xlim([min(amount_feature), max(amount_feature)])\n",
        "\n",
        "plt.show()"
      ],
      "execution_count": null,
      "outputs": [
        {
          "name": "stderr",
          "output_type": "stream",
          "text": [
            "/usr/local/lib/python3.7/dist-packages/seaborn/distributions.py:2619: FutureWarning: `distplot` is a deprecated function and will be removed in a future version. Please adapt your code to use either `displot` (a figure-level function with similar flexibility) or `histplot` (an axes-level function for histograms).\n",
            "  warnings.warn(msg, FutureWarning)\n",
            "/usr/local/lib/python3.7/dist-packages/seaborn/distributions.py:2619: FutureWarning: `distplot` is a deprecated function and will be removed in a future version. Please adapt your code to use either `displot` (a figure-level function with similar flexibility) or `histplot` (an axes-level function for histograms).\n",
            "  warnings.warn(msg, FutureWarning)\n"
          ]
        },
        {
          "data": {
            "image/png": "[encoded data removed]",
            "text/plain": [
              "<Figure size 864x288 with 2 Axes>"
            ]
          },
          "metadata": {},
          "output_type": "display_data"
        }
      ]
    },
    {
      "cell_type": "code",
      "metadata": {
        "colab": {
          "base_uri": "https://localhost:8080/"
        },
        "id": "eMxR9qnJGfPf",
        "outputId": "858f6d43-72c1-4802-9235-9eb21322cd3d"
      },
      "source": [
        "df1cc['Class'].value_counts()"
      ],
      "execution_count": null,
      "outputs": [
        {
          "output_type": "execute_result",
          "data": {
            "text/plain": [
              "0.0    86539\n",
              "1.0      205\n",
              "Name: Class, dtype: int64"
            ]
          },
          "metadata": {},
          "execution_count": 9
        }
      ]
    },
    {
      "cell_type": "code",
      "metadata": {
        "id": "OZLG8tj0MWHj"
      },
      "source": [
        "X4 = df1cc.copy()\n",
        "\n",
        "X4.drop(['Class'], axis=1, inplace=True) \n",
        "\n",
        "y4 = df1cc['Class']"
      ],
      "execution_count": null,
      "outputs": []
    },
    {
      "cell_type": "code",
      "metadata": {
        "id": "L9GIchFlLP-o"
      },
      "source": [
        "#train and test sets\n",
        "#test size factor\n",
        "TS4 = 0.50\n",
        "X4_train, X4_test, y4_train, y4_test = train_test_split(X4, y4, test_size=TS4, stratify=y4)"
      ],
      "execution_count": null,
      "outputs": []
    },
    {
      "cell_type": "markdown",
      "metadata": {
        "id": "VpSR7i1KOjMF"
      },
      "source": [
        "### 4.1.1 XGBoost"
      ]
    },
    {
      "cell_type": "code",
      "metadata": {
        "colab": {
          "base_uri": "https://localhost:8080/"
        },
        "id": "VWFZBbc0BKdc",
        "outputId": "c0ad8bdd-d83b-4c56-f8ae-009773a0e145"
      },
      "source": [
        "#create model\n",
        "from xgboost import XGBClassifier\n",
        "\n",
        "#fit the model\n",
        "XGB4 = XGBClassifier()\n",
        "XGB4.fit(X4_train, y4_train)"
      ],
      "execution_count": null,
      "outputs": [
        {
          "output_type": "execute_result",
          "data": {
            "text/plain": [
              "XGBClassifier(base_score=0.5, booster='gbtree', colsample_bylevel=1,\n",
              "              colsample_bynode=1, colsample_bytree=1, gamma=0,\n",
              "              learning_rate=0.1, max_delta_step=0, max_depth=3,\n",
              "              min_child_weight=1, missing=None, n_estimators=100, n_jobs=1,\n",
              "              nthread=None, objective='binary:logistic', random_state=0,\n",
              "              reg_alpha=0, reg_lambda=1, scale_pos_weight=1, seed=None,\n",
              "              silent=None, subsample=1, verbosity=1)"
            ]
          },
          "metadata": {},
          "execution_count": 37
        }
      ]
    },
    {
      "cell_type": "code",
      "metadata": {
        "colab": {
          "base_uri": "https://localhost:8080/"
        },
        "id": "GWiymqamBLC9",
        "outputId": "8908248b-c555-43ed-db48-6d2d9cdc5048"
      },
      "source": [
        "# Predictions\n",
        "y4_pred5 = XGB4.predict(X4_test)\n",
        "#evaulate predictions\n",
        "print('Accuracy: %.3f' % accuracy_score(y4_test, y4_pred5))\n",
        "print('Precision: %.3f' % precision_score(y4_test, y4_pred5))\n",
        "print('Recall: %.3f' % recall_score(y4_test, y4_pred5))\n",
        "print('F-measure: %.3f' % f1_score(y4_test, y4_pred5))"
      ],
      "execution_count": null,
      "outputs": [
        {
          "name": "stdout",
          "output_type": "stream",
          "text": [
            "Accuracy: 1.000\n",
            "Precision: 0.929\n",
            "Recall: 0.902\n",
            "F-measure: 0.915\n"
          ]
        }
      ]
    },
    {
      "cell_type": "markdown",
      "metadata": {
        "id": "Ij8MiXcfByzB"
      },
      "source": [
        "### 4.1.2 Logistic Regression"
      ]
    },
    {
      "cell_type": "code",
      "metadata": {
        "colab": {
          "base_uri": "https://localhost:8080/"
        },
        "id": "bYTaryN1Ktl4",
        "outputId": "4f74056c-0365-4e18-d0ce-2a965d893800"
      },
      "source": [
        "LRcci = LogisticRegression(solver='liblinear')\n",
        "# fit model\n",
        "LRcci.fit(X4_train, y4_train)"
      ],
      "execution_count": null,
      "outputs": [
        {
          "data": {
            "text/plain": [
              "LogisticRegression(C=1.0, class_weight=None, dual=False, fit_intercept=True,\n",
              "                   intercept_scaling=1, l1_ratio=None, max_iter=100,\n",
              "                   multi_class='auto', n_jobs=None, penalty='l2',\n",
              "                   random_state=None, solver='liblinear', tol=0.0001, verbose=0,\n",
              "                   warm_start=False)"
            ]
          },
          "execution_count": 18,
          "metadata": {},
          "output_type": "execute_result"
        }
      ]
    },
    {
      "cell_type": "code",
      "metadata": {
        "colab": {
          "base_uri": "https://localhost:8080/"
        },
        "id": "IF7Ks6asOyN_",
        "outputId": "c55e9f2a-4db3-41d8-f832-fde57b5eedc4"
      },
      "source": [
        "# predictions\n",
        "y4_pred = LRcci.predict(X4_test)\n",
        "# evaluate predictions\n",
        "print('Accuracy: %.3f' % accuracy_score(y4_test, y4_pred))\n",
        "print('Precision: %.3f' % precision_score(y4_test, y4_pred))\n",
        "print('Recall: %.3f' % recall_score(y4_test, y4_pred))\n",
        "print('F-measure: %.3f' % f1_score(y4_test, y4_pred))"
      ],
      "execution_count": null,
      "outputs": [
        {
          "name": "stdout",
          "output_type": "stream",
          "text": [
            "Accuracy: 0.999\n",
            "Precision: 0.793\n",
            "Recall: 0.637\n",
            "F-measure: 0.707\n"
          ]
        }
      ]
    },
    {
      "cell_type": "markdown",
      "metadata": {
        "id": "BRp6at4dWELk"
      },
      "source": [
        "### 4.1.3 Support Vector Machine"
      ]
    },
    {
      "cell_type": "code",
      "metadata": {
        "colab": {
          "base_uri": "https://localhost:8080/"
        },
        "id": "fq9ymoTVWNZE",
        "outputId": "a57214f4-12a9-4882-b598-690340ec4d81"
      },
      "source": [
        "from sklearn.svm import SVC\n",
        "\n",
        "svmcc = SVC(C=0.5, kernel='linear')\n",
        "#fit the model \n",
        "svmcc.fit(X4_train, y4_train)"
      ],
      "execution_count": null,
      "outputs": [
        {
          "data": {
            "text/plain": [
              "SVC(C=0.5, break_ties=False, cache_size=200, class_weight=None, coef0=0.0,\n",
              "    decision_function_shape='ovr', degree=3, gamma='scale', kernel='linear',\n",
              "    max_iter=-1, probability=False, random_state=None, shrinking=True,\n",
              "    tol=0.001, verbose=False)"
            ]
          },
          "execution_count": 32,
          "metadata": {},
          "output_type": "execute_result"
        }
      ]
    },
    {
      "cell_type": "code",
      "metadata": {
        "colab": {
          "base_uri": "https://localhost:8080/"
        },
        "id": "IgbatmxhOieR",
        "outputId": "3afe5eab-81b2-45b4-cade-51eee95f1a09"
      },
      "source": [
        "#predictions\n",
        "y4_pred2 = svmcc.predict(X4_test)\n",
        "#evaluate predictions\n",
        "print('Accuracy: %.3f' % accuracy_score(y4_test, y4_pred2))\n",
        "print('Precision: %.3f' % precision_score(y4_test, y4_pred2))\n",
        "print('Recall: %.3f' % recall_score(y4_test, y4_pred2))\n",
        "print('F-measure: %.3f' % f1_score(y4_test, y4_pred2))"
      ],
      "execution_count": null,
      "outputs": [
        {
          "name": "stdout",
          "output_type": "stream",
          "text": [
            "Accuracy: 0.998\n",
            "Precision: 0.727\n",
            "Recall: 0.471\n",
            "F-measure: 0.571\n"
          ]
        }
      ]
    },
    {
      "cell_type": "markdown",
      "metadata": {
        "id": "f5sINDNxW7l3"
      },
      "source": [
        "### 4.1.4 Gaussian Naive Bayes"
      ]
    },
    {
      "cell_type": "code",
      "metadata": {
        "colab": {
          "base_uri": "https://localhost:8080/"
        },
        "id": "vqmOh8CEW6nK",
        "outputId": "c500f883-564a-4d5a-b1f0-54abb2175261"
      },
      "source": [
        "from sklearn.naive_bayes import GaussianNB\n",
        "\n",
        "GNBcc = GaussianNB()\n",
        "#fit the model\n",
        "GNBcc.fit(X4_train, y4_train)"
      ],
      "execution_count": null,
      "outputs": [
        {
          "output_type": "execute_result",
          "data": {
            "text/plain": [
              "GaussianNB(priors=None, var_smoothing=1e-09)"
            ]
          },
          "metadata": {},
          "execution_count": 21
        }
      ]
    },
    {
      "cell_type": "code",
      "metadata": {
        "colab": {
          "base_uri": "https://localhost:8080/"
        },
        "id": "vDI3KrQCXOU6",
        "outputId": "9b5249e8-5658-4e77-eb2e-5ce7e54632f3"
      },
      "source": [
        "#predictions\n",
        "y4_pred3 = GNBcc.predict(X4_test)\n",
        "#evaluate predictions\n",
        "print('Accuracy: %.3f' % accuracy_score(y4_test, y4_pred3))\n",
        "print('Precision: %.3f' % precision_score(y4_test, y4_pred3))\n",
        "print('Recall: %.3f' % recall_score(y4_test, y4_pred3))\n",
        "print('F-measure: %.3f' % f1_score(y4_test, y4_pred3))"
      ],
      "execution_count": null,
      "outputs": [
        {
          "name": "stdout",
          "output_type": "stream",
          "text": [
            "Accuracy: 0.984\n",
            "Precision: 0.118\n",
            "Recall: 0.902\n",
            "F-measure: 0.209\n"
          ]
        }
      ]
    },
    {
      "cell_type": "markdown",
      "metadata": {
        "id": "pEI8BlpkXkFT"
      },
      "source": [
        "### 4.1.5 Random Forest"
      ]
    },
    {
      "cell_type": "code",
      "metadata": {
        "colab": {
          "base_uri": "https://localhost:8080/"
        },
        "id": "XPVInwnrX3HV",
        "outputId": "84113d3d-1782-407a-af60-913b51b41575"
      },
      "source": [
        "from sklearn.ensemble import RandomForestClassifier\n",
        "\n",
        "RFcc = RandomForestClassifier(random_state=1, n_estimators=100)\n",
        "#fit the model\n",
        "RFcc.fit(X4_train, y4_train)"
      ],
      "execution_count": null,
      "outputs": [
        {
          "output_type": "execute_result",
          "data": {
            "text/plain": [
              "RandomForestClassifier(bootstrap=True, ccp_alpha=0.0, class_weight=None,\n",
              "                       criterion='gini', max_depth=None, max_features='auto',\n",
              "                       max_leaf_nodes=None, max_samples=None,\n",
              "                       min_impurity_decrease=0.0, min_impurity_split=None,\n",
              "                       min_samples_leaf=1, min_samples_split=2,\n",
              "                       min_weight_fraction_leaf=0.0, n_estimators=100,\n",
              "                       n_jobs=None, oob_score=False, random_state=1, verbose=0,\n",
              "                       warm_start=False)"
            ]
          },
          "metadata": {},
          "execution_count": 25
        }
      ]
    },
    {
      "cell_type": "code",
      "metadata": {
        "colab": {
          "base_uri": "https://localhost:8080/"
        },
        "id": "KtoihMfXX8ul",
        "outputId": "13287fce-adc0-4ef4-c96f-8122bb888689"
      },
      "source": [
        "#predictions\n",
        "y4_pred4 = RFcc.predict(X4_test)\n",
        "#evaluate predictions\n",
        "print('Accuracy: %.3f' % accuracy_score(y4_test, y4_pred4))\n",
        "print('Precision: %.3f' % precision_score(y4_test, y4_pred4))\n",
        "print('Recall: %.3f' % recall_score(y4_test, y4_pred4))\n",
        "print('F-measure: %.3f' % f1_score(y4_test, y4_pred4))"
      ],
      "execution_count": null,
      "outputs": [
        {
          "name": "stdout",
          "output_type": "stream",
          "text": [
            "Accuracy: 1.000\n",
            "Precision: 0.938\n",
            "Recall: 0.892\n",
            "F-measure: 0.915\n"
          ]
        }
      ]
    },
    {
      "cell_type": "markdown",
      "metadata": {
        "id": "SRhjYM4EaaWE"
      },
      "source": [
        "## **4.2 Undersampling**"
      ]
    },
    {
      "cell_type": "code",
      "metadata": {
        "colab": {
          "base_uri": "https://localhost:8080/"
        },
        "id": "nL-9G13q7Mui",
        "outputId": "d111eae3-5d48-4eeb-f06d-07992db669ce"
      },
      "source": [
        "## undersample strategy\n",
        "\n",
        "# undersample larger class\n",
        "factorcc1 = 0.5\n",
        "undersample = RandomUnderSampler(sampling_strategy=factorcc1)\n",
        "# fit and apply the transform\n",
        "X4_under, y4_under = undersample.fit_resample(X4, y4)\n",
        "# verify class distribution\n",
        "print(Counter(y4_under))"
      ],
      "execution_count": null,
      "outputs": [
        {
          "output_type": "stream",
          "name": "stdout",
          "text": [
            "Counter({0.0: 410, 1.0: 205})\n"
          ]
        },
        {
          "output_type": "stream",
          "name": "stderr",
          "text": [
            "/usr/local/lib/python3.7/dist-packages/sklearn/utils/deprecation.py:87: FutureWarning: Function safe_indexing is deprecated; safe_indexing is deprecated in version 0.22 and will be removed in version 0.24.\n",
            "  warnings.warn(msg, category=FutureWarning)\n"
          ]
        }
      ]
    },
    {
      "cell_type": "code",
      "metadata": {
        "colab": {
          "base_uri": "https://localhost:8080/",
          "height": 335
        },
        "id": "ussCn9VLP4B6",
        "outputId": "1e5e81e5-7a60-450d-9da5-87840c98bfa1"
      },
      "source": [
        "\n",
        "\n",
        "\n",
        "# histogram\n",
        "sns.countplot(y4_under)"
      ],
      "execution_count": null,
      "outputs": [
        {
          "name": "stderr",
          "output_type": "stream",
          "text": [
            "/usr/local/lib/python3.7/dist-packages/seaborn/_decorators.py:43: FutureWarning: Pass the following variable as a keyword arg: x. From version 0.12, the only valid positional argument will be `data`, and passing other arguments without an explicit keyword will result in an error or misinterpretation.\n",
            "  FutureWarning\n"
          ]
        },
        {
          "data": {
            "text/plain": [
              "<matplotlib.axes._subplots.AxesSubplot at 0x7faf888dae50>"
            ]
          },
          "execution_count": 24,
          "metadata": {},
          "output_type": "execute_result"
        },
        {
          "data": {
            "image/png": "[encoded data removed]",
            "text/plain": [
              "<Figure size 432x288 with 1 Axes>"
            ]
          },
          "metadata": {},
          "output_type": "display_data"
        }
      ]
    },
    {
      "cell_type": "code",
      "metadata": {
        "id": "8XhEenwrP7NE"
      },
      "source": [
        "# train and test sets\n",
        "# test size factor\n",
        "TS = 0.50\n",
        "X4_Utrain, X4_Utest, y4_Utrain, y4_Utest = train_test_split(X4_under, y4_under, test_size=TS, stratify=y4_under)"
      ],
      "execution_count": null,
      "outputs": []
    },
    {
      "cell_type": "markdown",
      "metadata": {
        "id": "932968hpC3Mj"
      },
      "source": [
        "### 4.2.1 XGBoost Undersampling"
      ]
    },
    {
      "cell_type": "code",
      "metadata": {
        "colab": {
          "base_uri": "https://localhost:8080/"
        },
        "id": "3oQmH8HiCyoh",
        "outputId": "bd6d9e5b-b8a3-423b-d9c1-193154934b7c"
      },
      "source": [
        "#fit the model\n",
        "XGB4u = XGBClassifier()\n",
        "XGB4u.fit(X4_Utrain, y4_Utrain)"
      ],
      "execution_count": null,
      "outputs": [
        {
          "data": {
            "text/plain": [
              "XGBClassifier(base_score=0.5, booster='gbtree', colsample_bylevel=1,\n",
              "              colsample_bynode=1, colsample_bytree=1, gamma=0,\n",
              "              learning_rate=0.1, max_delta_step=0, max_depth=3,\n",
              "              min_child_weight=1, missing=None, n_estimators=100, n_jobs=1,\n",
              "              nthread=None, objective='binary:logistic', random_state=0,\n",
              "              reg_alpha=0, reg_lambda=1, scale_pos_weight=1, seed=None,\n",
              "              silent=None, subsample=1, verbosity=1)"
            ]
          },
          "execution_count": 27,
          "metadata": {},
          "output_type": "execute_result"
        }
      ]
    },
    {
      "cell_type": "code",
      "metadata": {
        "colab": {
          "base_uri": "https://localhost:8080/"
        },
        "id": "UEAT_ERkCyZI",
        "outputId": "e1d713d9-7f3b-4b47-d11e-865b06f66e69"
      },
      "source": [
        "# Predictions\n",
        "y4_predu5 = XGB4u.predict(X4_Utest)\n",
        "#evaulate predictions\n",
        "print('Accuracy: %.3f' % accuracy_score(y4_Utest, y4_predu5))\n",
        "print('Precision: %.3f' % precision_score(y4_Utest, y4_predu5))\n",
        "print('Recall: %.3f' % recall_score(y4_Utest, y4_predu5))\n",
        "print('F-measure: %.3f' % f1_score(y4_Utest, y4_predu5))"
      ],
      "execution_count": null,
      "outputs": [
        {
          "name": "stdout",
          "output_type": "stream",
          "text": [
            "Accuracy: 0.961\n",
            "Precision: 0.979\n",
            "Recall: 0.903\n",
            "F-measure: 0.939\n"
          ]
        }
      ]
    },
    {
      "cell_type": "markdown",
      "metadata": {
        "id": "s9piFqPyQNyr"
      },
      "source": [
        "### 4.2.2 Logistic Regression Undersampling"
      ]
    },
    {
      "cell_type": "code",
      "metadata": {
        "colab": {
          "base_uri": "https://localhost:8080/"
        },
        "id": "1eNBEGqEQMr7",
        "outputId": "5853a156-2887-463f-aa4f-a2b2211c9d57"
      },
      "source": [
        "# create model\n",
        "LRccu = LogisticRegression(solver='liblinear')\n",
        "# fit model\n",
        "LRccu.fit(X4_Utrain, y4_Utrain)"
      ],
      "execution_count": null,
      "outputs": [
        {
          "data": {
            "text/plain": [
              "LogisticRegression(C=1.0, class_weight=None, dual=False, fit_intercept=True,\n",
              "                   intercept_scaling=1, l1_ratio=None, max_iter=100,\n",
              "                   multi_class='auto', n_jobs=None, penalty='l2',\n",
              "                   random_state=None, solver='liblinear', tol=0.0001, verbose=0,\n",
              "                   warm_start=False)"
            ]
          },
          "execution_count": 29,
          "metadata": {},
          "output_type": "execute_result"
        }
      ]
    },
    {
      "cell_type": "code",
      "metadata": {
        "colab": {
          "base_uri": "https://localhost:8080/"
        },
        "id": "XETWVt4iQiD6",
        "outputId": "de8fe2f0-15d3-4c44-ba51-3ec9e61f1fca"
      },
      "source": [
        "# predictions\n",
        "y4_predu1= LRccu.predict(X4_Utest)\n",
        "# evaluate predictions\n",
        "print('Accuracy: %.3f' % accuracy_score(y4_Utest, y4_predu1))\n",
        "print('Precision: %.3f' % precision_score(y4_Utest, y4_predu1))\n",
        "print('Recall: %.3f' % recall_score(y4_Utest, y4_predu1))\n",
        "print('F-measure: %.3f' % f1_score(y4_Utest, y4_predu1))"
      ],
      "execution_count": null,
      "outputs": [
        {
          "name": "stdout",
          "output_type": "stream",
          "text": [
            "Accuracy: 0.958\n",
            "Precision: 1.000\n",
            "Recall: 0.874\n",
            "F-measure: 0.933\n"
          ]
        }
      ]
    },
    {
      "cell_type": "markdown",
      "metadata": {
        "id": "GRiOuv4yZ09N"
      },
      "source": [
        "### 4.2.3 Support Vector Machine Undersampling\n",
        "\n",
        "\n"
      ]
    },
    {
      "cell_type": "code",
      "metadata": {
        "colab": {
          "base_uri": "https://localhost:8080/"
        },
        "id": "Ji_Pbo4fZ6Ku",
        "outputId": "e03eda89-bf46-438a-a50e-58fbf21c35d7"
      },
      "source": [
        "svmccu = SVC(C=0.5, kernel='linear')\n",
        "#fit the model \n",
        "svmccu.fit(X4_Utrain, y4_Utrain)"
      ],
      "execution_count": null,
      "outputs": [
        {
          "data": {
            "text/plain": [
              "SVC(C=0.5, break_ties=False, cache_size=200, class_weight=None, coef0=0.0,\n",
              "    decision_function_shape='ovr', degree=3, gamma='scale', kernel='linear',\n",
              "    max_iter=-1, probability=False, random_state=None, shrinking=True,\n",
              "    tol=0.001, verbose=False)"
            ]
          },
          "execution_count": 36,
          "metadata": {},
          "output_type": "execute_result"
        }
      ]
    },
    {
      "cell_type": "code",
      "metadata": {
        "colab": {
          "base_uri": "https://localhost:8080/"
        },
        "id": "Z8kaZ5z6coge",
        "outputId": "8338fcb3-8104-4086-e167-d22e3db8abc6"
      },
      "source": [
        "#predictions\n",
        "y4_predu2 = svmccu.predict(X4_Utest)\n",
        "#evaluate predictions\n",
        "print('Accuracy: %.3f' % accuracy_score(y4_Utest, y4_predu2))\n",
        "print('Precision: %.3f' % precision_score(y4_Utest, y4_predu2))\n",
        "print('Recall: %.3f' % recall_score(y4_Utest, y4_predu2))\n",
        "print('F-measure: %.3f' % f1_score(y4_Utest, y4_predu2))"
      ],
      "execution_count": null,
      "outputs": [
        {
          "name": "stdout",
          "output_type": "stream",
          "text": [
            "Accuracy: 0.938\n",
            "Precision: 0.988\n",
            "Recall: 0.825\n",
            "F-measure: 0.899\n"
          ]
        }
      ]
    },
    {
      "cell_type": "markdown",
      "metadata": {
        "id": "2sRbRkyadPGi"
      },
      "source": [
        "### 4.2.4 Gaussian Naive Bayes Undersampling\n",
        "\n",
        "\n"
      ]
    },
    {
      "cell_type": "code",
      "metadata": {
        "colab": {
          "base_uri": "https://localhost:8080/"
        },
        "id": "NAdLwNOtdWGo",
        "outputId": "b33ec3b4-2a8a-4ab5-b5a9-2b91a92607d7"
      },
      "source": [
        "GNBccu = GaussianNB()\n",
        "#fit the model\n",
        "GNBccu.fit(X4_Utrain, y4_Utrain)"
      ],
      "execution_count": null,
      "outputs": [
        {
          "data": {
            "text/plain": [
              "GaussianNB(priors=None, var_smoothing=1e-09)"
            ]
          },
          "execution_count": 38,
          "metadata": {},
          "output_type": "execute_result"
        }
      ]
    },
    {
      "cell_type": "code",
      "metadata": {
        "colab": {
          "base_uri": "https://localhost:8080/"
        },
        "id": "J6QR4nl1dghC",
        "outputId": "aed8e57c-580e-4257-8615-919364428dee"
      },
      "source": [
        "#predictions\n",
        "y4_predu3 = GNBccu.predict(X4_Utest)\n",
        "#evaluate predictions\n",
        "print('Accuracy: %.3f' % accuracy_score(y4_Utest, y4_predu3))\n",
        "print('Precision: %.3f' % precision_score(y4_Utest, y4_predu3))\n",
        "print('Recall: %.3f' % recall_score(y4_Utest, y4_predu3))\n",
        "print('F-measure: %.3f' % f1_score(y4_Utest, y4_predu3))"
      ],
      "execution_count": null,
      "outputs": [
        {
          "name": "stdout",
          "output_type": "stream",
          "text": [
            "Accuracy: 0.938\n",
            "Precision: 0.967\n",
            "Recall: 0.845\n",
            "F-measure: 0.902\n"
          ]
        }
      ]
    },
    {
      "cell_type": "markdown",
      "metadata": {
        "id": "23ZLjjhMd8jN"
      },
      "source": [
        "### 4.2.5 Random Forest Undersampling\n"
      ]
    },
    {
      "cell_type": "code",
      "metadata": {
        "colab": {
          "base_uri": "https://localhost:8080/"
        },
        "id": "_FqxcoxxeD_E",
        "outputId": "d7f3a3ca-4b3b-44f0-987d-350373969ba8"
      },
      "source": [
        "RFccu = RandomForestClassifier(random_state=1, n_estimators=100)\n",
        "#fit the model\n",
        "RFccu.fit(X4_Utrain, y4_Utrain)"
      ],
      "execution_count": null,
      "outputs": [
        {
          "data": {
            "text/plain": [
              "RandomForestClassifier(bootstrap=True, ccp_alpha=0.0, class_weight=None,\n",
              "                       criterion='gini', max_depth=None, max_features='auto',\n",
              "                       max_leaf_nodes=None, max_samples=None,\n",
              "                       min_impurity_decrease=0.0, min_impurity_split=None,\n",
              "                       min_samples_leaf=1, min_samples_split=2,\n",
              "                       min_weight_fraction_leaf=0.0, n_estimators=100,\n",
              "                       n_jobs=None, oob_score=False, random_state=1, verbose=0,\n",
              "                       warm_start=False)"
            ]
          },
          "execution_count": 40,
          "metadata": {},
          "output_type": "execute_result"
        }
      ]
    },
    {
      "cell_type": "code",
      "metadata": {
        "colab": {
          "base_uri": "https://localhost:8080/"
        },
        "id": "0kic5luueWqu",
        "outputId": "3490e0e4-28c4-4e5a-ec28-d7f4e4c6eeff"
      },
      "source": [
        "#predictions\n",
        "y4_predu4 = RFccu.predict(X4_Utest)\n",
        "#evaluate predictions\n",
        "print('Accuracy: %.3f' % accuracy_score(y4_Utest, y4_predu4))\n",
        "print('Precision: %.3f' % precision_score(y4_Utest, y4_predu4))\n",
        "print('Recall: %.3f' % recall_score(y4_Utest, y4_predu4))\n",
        "print('F-measure: %.3f' % f1_score(y4_Utest, y4_predu4))"
      ],
      "execution_count": null,
      "outputs": [
        {
          "name": "stdout",
          "output_type": "stream",
          "text": [
            "Accuracy: 0.958\n",
            "Precision: 1.000\n",
            "Recall: 0.874\n",
            "F-measure: 0.933\n"
          ]
        }
      ]
    },
    {
      "cell_type": "markdown",
      "metadata": {
        "id": "m2eRT4jaaaWE"
      },
      "source": [
        "## **4.3 Oversampling**"
      ]
    },
    {
      "cell_type": "code",
      "metadata": {
        "id": "9KldqgWEQ0n_",
        "colab": {
          "base_uri": "https://localhost:8080/"
        },
        "outputId": "2c5b656c-d8cd-44e2-9523-1ed324170780"
      },
      "source": [
        "## oversample strategy\n",
        "\n",
        "# oversample shorter class\n",
        "factorcc2 = 0.5\n",
        "oversample = SMOTE(sampling_strategy=factorcc2)\n",
        "# fit and apply the transform\n",
        "X4_over, y4_over = oversample.fit_resample(X4, y4)\n",
        "# verify class distribution\n",
        "print(Counter(y4_over))"
      ],
      "execution_count": null,
      "outputs": [
        {
          "output_type": "stream",
          "name": "stderr",
          "text": [
            "/usr/local/lib/python3.7/dist-packages/sklearn/utils/deprecation.py:87: FutureWarning: Function safe_indexing is deprecated; safe_indexing is deprecated in version 0.22 and will be removed in version 0.24.\n",
            "  warnings.warn(msg, category=FutureWarning)\n"
          ]
        },
        {
          "output_type": "stream",
          "name": "stdout",
          "text": [
            "Counter({0.0: 86539, 1.0: 43269})\n"
          ]
        }
      ]
    },
    {
      "cell_type": "code",
      "metadata": {
        "colab": {
          "base_uri": "https://localhost:8080/",
          "height": 335
        },
        "id": "gUR454uTRf3d",
        "outputId": "81b884be-a4a3-4e36-d298-ec14e054a49a"
      },
      "source": [
        "\n",
        "\n",
        "\n",
        "\n",
        "# histogram\n",
        "sns.countplot(y4_over)"
      ],
      "execution_count": null,
      "outputs": [
        {
          "name": "stderr",
          "output_type": "stream",
          "text": [
            "/usr/local/lib/python3.7/dist-packages/seaborn/_decorators.py:43: FutureWarning: Pass the following variable as a keyword arg: x. From version 0.12, the only valid positional argument will be `data`, and passing other arguments without an explicit keyword will result in an error or misinterpretation.\n",
            "  FutureWarning\n"
          ]
        },
        {
          "data": {
            "text/plain": [
              "<matplotlib.axes._subplots.AxesSubplot at 0x7faf7fca27d0>"
            ]
          },
          "execution_count": 43,
          "metadata": {},
          "output_type": "execute_result"
        },
        {
          "data": {
            "image/png": "[encoded data removed]",
            "text/plain": [
              "<Figure size 432x288 with 1 Axes>"
            ]
          },
          "metadata": {},
          "output_type": "display_data"
        }
      ]
    },
    {
      "cell_type": "code",
      "metadata": {
        "id": "iq0OJmWYRnT7"
      },
      "source": [
        "# train and test sets\n",
        "# test size factor\n",
        "TS = 0.50\n",
        "X4_Otrain, X4_Otest, y4_Otrain, y4_Otest = train_test_split(X4_over, y4_over, test_size=TS, stratify=y4_over)"
      ],
      "execution_count": null,
      "outputs": []
    },
    {
      "cell_type": "markdown",
      "metadata": {
        "id": "5mbxI6vZCrSR"
      },
      "source": [
        "### 4.3.1 XGBoost Oversampling"
      ]
    },
    {
      "cell_type": "code",
      "metadata": {
        "colab": {
          "base_uri": "https://localhost:8080/"
        },
        "id": "9T1GrxSNCqct",
        "outputId": "eed00d0d-4ba2-492e-c503-8c95a4037806"
      },
      "source": [
        "#fit the model\n",
        "XGB4o = XGBClassifier()\n",
        "XGB4o.fit(X4_Otrain, y4_Otrain)"
      ],
      "execution_count": null,
      "outputs": [
        {
          "data": {
            "text/plain": [
              "XGBClassifier(base_score=0.5, booster='gbtree', colsample_bylevel=1,\n",
              "              colsample_bynode=1, colsample_bytree=1, gamma=0,\n",
              "              learning_rate=0.1, max_delta_step=0, max_depth=3,\n",
              "              min_child_weight=1, missing=None, n_estimators=100, n_jobs=1,\n",
              "              nthread=None, objective='binary:logistic', random_state=0,\n",
              "              reg_alpha=0, reg_lambda=1, scale_pos_weight=1, seed=None,\n",
              "              silent=None, subsample=1, verbosity=1)"
            ]
          },
          "execution_count": 46,
          "metadata": {},
          "output_type": "execute_result"
        }
      ]
    },
    {
      "cell_type": "code",
      "metadata": {
        "colab": {
          "base_uri": "https://localhost:8080/"
        },
        "id": "yxCdHJrsCqKR",
        "outputId": "7a5d8ed1-6ccf-4017-ea80-e9ee4cb87c24"
      },
      "source": [
        "# Predictions\n",
        "y4_predo5 = XGB4o.predict(X4_Otest)\n",
        "#evaulate predictions\n",
        "print('Accuracy: %.3f' % accuracy_score(y4_Otest, y4_predo5))\n",
        "print('Precision: %.3f' % precision_score(y4_Otest, y4_predo5))\n",
        "print('Recall: %.3f' % recall_score(y4_Otest, y4_predo5))\n",
        "print('F-measure: %.3f' % f1_score(y4_Otest, y4_predo5))"
      ],
      "execution_count": null,
      "outputs": [
        {
          "name": "stdout",
          "output_type": "stream",
          "text": [
            "Accuracy: 0.997\n",
            "Precision: 0.998\n",
            "Recall: 0.992\n",
            "F-measure: 0.995\n"
          ]
        }
      ]
    },
    {
      "cell_type": "markdown",
      "metadata": {
        "id": "K9Q_lOvIRxx_"
      },
      "source": [
        "### 4.3.2 Logistic Regression Oversampling"
      ]
    },
    {
      "cell_type": "code",
      "metadata": {
        "colab": {
          "base_uri": "https://localhost:8080/"
        },
        "id": "iZDrxxeGR9uC",
        "outputId": "8560c70c-ea14-4882-bf47-b2ea24f9c27f"
      },
      "source": [
        "# create model\n",
        "LRcco = LogisticRegression(solver='liblinear')\n",
        "# fit model\n",
        "LRcco.fit(X4_Otrain, y4_Otrain)"
      ],
      "execution_count": null,
      "outputs": [
        {
          "data": {
            "text/plain": [
              "LogisticRegression(C=1.0, class_weight=None, dual=False, fit_intercept=True,\n",
              "                   intercept_scaling=1, l1_ratio=None, max_iter=100,\n",
              "                   multi_class='auto', n_jobs=None, penalty='l2',\n",
              "                   random_state=None, solver='liblinear', tol=0.0001, verbose=0,\n",
              "                   warm_start=False)"
            ]
          },
          "execution_count": 48,
          "metadata": {},
          "output_type": "execute_result"
        }
      ]
    },
    {
      "cell_type": "code",
      "metadata": {
        "colab": {
          "base_uri": "https://localhost:8080/"
        },
        "id": "tBHjB7g4SDy1",
        "outputId": "68dca608-37fa-4268-f878-d7bb96d5bd5c"
      },
      "source": [
        "# predictions\n",
        "y4_predo1 = LRcco.predict(X4_Otest)\n",
        "# evaluate predictions\n",
        "print('Accuracy: %.3f' % accuracy_score(y4_Otest, y4_predo1))\n",
        "print('Precision: %.3f' % precision_score(y4_Otest, y4_predo1))\n",
        "print('Recall: %.3f' % recall_score(y4_Otest, y4_predo1))\n",
        "print('F-measure: %.3f' % f1_score(y4_Otest, y4_predo1))"
      ],
      "execution_count": null,
      "outputs": [
        {
          "name": "stdout",
          "output_type": "stream",
          "text": [
            "Accuracy: 0.963\n",
            "Precision: 0.989\n",
            "Recall: 0.898\n",
            "F-measure: 0.941\n"
          ]
        }
      ]
    },
    {
      "cell_type": "markdown",
      "metadata": {
        "id": "FsOoJ5PRfD3R"
      },
      "source": [
        "### 4.3.3 Support Vector Machine Oversampling"
      ]
    },
    {
      "cell_type": "code",
      "metadata": {
        "colab": {
          "base_uri": "https://localhost:8080/"
        },
        "id": "KULYKIvHfX6H",
        "outputId": "b7f97c3d-60bf-4df2-b07e-7b3c03323700"
      },
      "source": [
        "from sklearn.svm import SVC\n",
        "svmcco = SVC(C=0.5, kernel='linear')\n",
        "#fit the model \n",
        "svmcco.fit(X4_Otrain, y4_Otrain)"
      ],
      "execution_count": null,
      "outputs": [
        {
          "output_type": "execute_result",
          "data": {
            "text/plain": [
              "SVC(C=0.5, break_ties=False, cache_size=200, class_weight=None, coef0=0.0,\n",
              "    decision_function_shape='ovr', degree=3, gamma='scale', kernel='linear',\n",
              "    max_iter=-1, probability=False, random_state=None, shrinking=True,\n",
              "    tol=0.001, verbose=False)"
            ]
          },
          "metadata": {},
          "execution_count": 18
        }
      ]
    },
    {
      "cell_type": "code",
      "metadata": {
        "id": "w-ei2L-sflaH",
        "colab": {
          "base_uri": "https://localhost:8080/"
        },
        "outputId": "23b081fe-6756-45f5-a8cb-98823c055765"
      },
      "source": [
        "#predictions\n",
        "y4_predo2 = svmcco.predict(X4_Otest)\n",
        "#evaluate predictions\n",
        "print('Accuracy: %.3f' % accuracy_score(y4_Otest, y4_predo2))\n",
        "print('Precision: %.3f' % precision_score(y4_Otest, y4_predo2))\n",
        "print('Recall: %.3f' % recall_score(y4_Otest, y4_predo2))\n",
        "print('F-measure: %.3f' % f1_score(y4_Otest, y4_predo2))"
      ],
      "execution_count": null,
      "outputs": [
        {
          "output_type": "stream",
          "name": "stdout",
          "text": [
            "Accuracy: 0.974\n",
            "Precision: 0.995\n",
            "Recall: 0.925\n",
            "F-measure: 0.959\n"
          ]
        }
      ]
    },
    {
      "cell_type": "markdown",
      "metadata": {
        "id": "MqFn4RRrgI9a"
      },
      "source": [
        "### 4.3.4 Gaussian Naive Bayes Oversampling"
      ]
    },
    {
      "cell_type": "code",
      "metadata": {
        "id": "kGb8dMAGgRPV",
        "colab": {
          "base_uri": "https://localhost:8080/"
        },
        "outputId": "3b6bb3da-031c-4242-c0d9-49ffd171c6f4"
      },
      "source": [
        "GNBcco = GaussianNB()\n",
        "#fit the model\n",
        "GNBcco.fit(X4_Otrain, y4_Otrain)"
      ],
      "execution_count": null,
      "outputs": [
        {
          "output_type": "execute_result",
          "data": {
            "text/plain": [
              "GaussianNB(priors=None, var_smoothing=1e-09)"
            ]
          },
          "metadata": {},
          "execution_count": 22
        }
      ]
    },
    {
      "cell_type": "code",
      "metadata": {
        "id": "EPz0pOEUgbZy",
        "colab": {
          "base_uri": "https://localhost:8080/"
        },
        "outputId": "4392e769-cd72-4ea4-8d6e-a94f20da5213"
      },
      "source": [
        "#predictions\n",
        "y4_predo3 = GNBcco.predict(X4_Otest)\n",
        "#evaluate predictions\n",
        "print('Accuracy: %.3f' % accuracy_score(y4_Otest, y4_predo3))\n",
        "print('Precision: %.3f' % precision_score(y4_Otest, y4_predo3))\n",
        "print('Recall: %.3f' % recall_score(y4_Otest, y4_predo3))\n",
        "print('F-measure: %.3f' % f1_score(y4_Otest, y4_predo3))"
      ],
      "execution_count": null,
      "outputs": [
        {
          "output_type": "stream",
          "name": "stdout",
          "text": [
            "Accuracy: 0.955\n",
            "Precision: 0.971\n",
            "Recall: 0.891\n",
            "F-measure: 0.929\n"
          ]
        }
      ]
    },
    {
      "cell_type": "markdown",
      "metadata": {
        "id": "sBIMlStjcRhf"
      },
      "source": [
        "### 4.3.5 Random Forest Oversampling"
      ]
    },
    {
      "cell_type": "code",
      "metadata": {
        "id": "jOPagWaKg2qW",
        "colab": {
          "base_uri": "https://localhost:8080/"
        },
        "outputId": "9ffd8cc1-d399-4ee5-fac5-1028572e565e"
      },
      "source": [
        "RFcco = RandomForestClassifier(random_state=1, n_estimators=100)\n",
        "#fit the model\n",
        "RFcco.fit(X4_Otrain, y4_Otrain)"
      ],
      "execution_count": null,
      "outputs": [
        {
          "output_type": "execute_result",
          "data": {
            "text/plain": [
              "RandomForestClassifier(bootstrap=True, ccp_alpha=0.0, class_weight=None,\n",
              "                       criterion='gini', max_depth=None, max_features='auto',\n",
              "                       max_leaf_nodes=None, max_samples=None,\n",
              "                       min_impurity_decrease=0.0, min_impurity_split=None,\n",
              "                       min_samples_leaf=1, min_samples_split=2,\n",
              "                       min_weight_fraction_leaf=0.0, n_estimators=100,\n",
              "                       n_jobs=None, oob_score=False, random_state=1, verbose=0,\n",
              "                       warm_start=False)"
            ]
          },
          "metadata": {},
          "execution_count": 26
        }
      ]
    },
    {
      "cell_type": "code",
      "metadata": {
        "id": "AukobT_ag_aC",
        "colab": {
          "base_uri": "https://localhost:8080/"
        },
        "outputId": "7bdd34f8-31e1-4ef8-e665-fc3f4b6be4b4"
      },
      "source": [
        "#predictions\n",
        "y4_predo4 = RFcco.predict(X4_Otest)\n",
        "#evaluate predictions\n",
        "print('Accuracy: %.3f' % accuracy_score(y4_Otest, y4_predo4))\n",
        "print('Precision: %.3f' % precision_score(y4_Otest, y4_predo4))\n",
        "print('Recall: %.3f' % recall_score(y4_Otest, y4_predo4))\n",
        "print('F-measure: %.3f' % f1_score(y4_Otest, y4_predo4))"
      ],
      "execution_count": null,
      "outputs": [
        {
          "output_type": "stream",
          "name": "stdout",
          "text": [
            "Accuracy: 1.000\n",
            "Precision: 0.999\n",
            "Recall: 1.000\n",
            "F-measure: 0.999\n"
          ]
        }
      ]
    },
    {
      "cell_type": "markdown",
      "metadata": {
        "id": "2RaHVd4xCGvG"
      },
      "source": [
        "## **4.4 Penalise Algorithm**"
      ]
    },
    {
      "cell_type": "markdown",
      "metadata": {
        "id": "D9_u_yBdsJIY"
      },
      "source": [
        "### 4.4.1 Logistic Regression Penalise Algorithm"
      ]
    },
    {
      "cell_type": "code",
      "metadata": {
        "id": "trt6RIlSsb-j",
        "colab": {
          "base_uri": "https://localhost:8080/"
        },
        "outputId": "40bfde65-e28f-483b-f56e-deef86730eab"
      },
      "source": [
        "# define model\n",
        "\n",
        "modelccp = LogisticRegression(solver='lbfgs', class_weight='balanced')\n",
        "\n",
        "modelccp.fit(X4_train, y4_train)"
      ],
      "execution_count": null,
      "outputs": [
        {
          "output_type": "stream",
          "name": "stderr",
          "text": [
            "/usr/local/lib/python3.7/dist-packages/sklearn/linear_model/_logistic.py:940: ConvergenceWarning: lbfgs failed to converge (status=1):\n",
            "STOP: TOTAL NO. of ITERATIONS REACHED LIMIT.\n",
            "\n",
            "Increase the number of iterations (max_iter) or scale the data as shown in:\n",
            "    https://scikit-learn.org/stable/modules/preprocessing.html\n",
            "Please also refer to the documentation for alternative solver options:\n",
            "    https://scikit-learn.org/stable/modules/linear_model.html#logistic-regression\n",
            "  extra_warning_msg=_LOGISTIC_SOLVER_CONVERGENCE_MSG)\n"
          ]
        },
        {
          "output_type": "execute_result",
          "data": {
            "text/plain": [
              "LogisticRegression(C=1.0, class_weight='weights', dual=False,\n",
              "                   fit_intercept=True, intercept_scaling=1, l1_ratio=None,\n",
              "                   max_iter=100, multi_class='auto', n_jobs=None, penalty='l2',\n",
              "                   random_state=None, solver='lbfgs', tol=0.0001, verbose=0,\n",
              "                   warm_start=False)"
            ]
          },
          "metadata": {},
          "execution_count": 28
        }
      ]
    },
    {
      "cell_type": "code",
      "metadata": {
        "id": "m_udflRtvEn7",
        "colab": {
          "base_uri": "https://localhost:8080/"
        },
        "outputId": "cd3e12fa-2be4-4cc3-e96c-c091a55014ed"
      },
      "source": [
        "# predictions\n",
        "y4_predp1 = modelccp.predict(X4_test)\n",
        "# evaluate predictions\n",
        "print('Accuracy: %.3f' % accuracy_score(y4_test, y4_predp1))\n",
        "print('Precision: %.3f' % precision_score(y4_test, y4_predp1))\n",
        "print('Recall: %.3f' % recall_score(y4_test, y4_predp1))\n",
        "print('F-measure: %.3f' % f1_score(y4_test, y4_predp1))\n",
        "\n"
      ],
      "execution_count": null,
      "outputs": [
        {
          "output_type": "stream",
          "name": "stdout",
          "text": [
            "Accuracy: 0.999\n",
            "Precision: 0.735\n",
            "Recall: 0.699\n",
            "F-measure: 0.716\n"
          ]
        }
      ]
    },
    {
      "cell_type": "markdown",
      "metadata": {
        "id": "Nl16sf0Slztb"
      },
      "source": [
        "### 4.4.2 Support Vector Machine Penalise Algorithm"
      ]
    },
    {
      "cell_type": "code",
      "metadata": {
        "colab": {
          "base_uri": "https://localhost:8080/"
        },
        "id": "UtF6qMYQl8CR",
        "outputId": "656d898d-6403-40fe-df9e-af022558b8e4"
      },
      "source": [
        "# Train model\n",
        "svmccp = SVC(class_weight='balanced', probability=True)\n",
        " \n",
        "svmccp.fit(X4_train, y4_train)"
      ],
      "execution_count": null,
      "outputs": [
        {
          "output_type": "execute_result",
          "data": {
            "text/plain": [
              "SVC(C=1.0, break_ties=False, cache_size=200, class_weight='balanced', coef0=0.0,\n",
              "    decision_function_shape='ovr', degree=3, gamma='scale', kernel='rbf',\n",
              "    max_iter=-1, probability=True, random_state=None, shrinking=True, tol=0.001,\n",
              "    verbose=False)"
            ]
          },
          "metadata": {},
          "execution_count": 32
        }
      ]
    },
    {
      "cell_type": "code",
      "metadata": {
        "id": "q_ZGXrUgCGvG",
        "colab": {
          "base_uri": "https://localhost:8080/"
        },
        "outputId": "99696ab8-1130-45b7-cc2a-c423fbfcba6f"
      },
      "source": [
        "#predictions\n",
        "y4_predp2 = svmccp.predict(X4_test)\n",
        "#evaluate predictions\n",
        "print('Accuracy: %.3f' % accuracy_score(y4_test, y4_predp2))\n",
        "print('Precision: %.3f' % precision_score(y4_test, y4_predp2))\n",
        "print('Recall: %.3f' % recall_score(y4_test, y4_predp2))\n",
        "print('F-measure: %.3f' % f1_score(y4_test, y4_predp2))"
      ],
      "execution_count": null,
      "outputs": [
        {
          "output_type": "stream",
          "name": "stdout",
          "text": [
            "Accuracy: 0.858\n",
            "Precision: 0.007\n",
            "Recall: 0.388\n",
            "F-measure: 0.013\n"
          ]
        }
      ]
    },
    {
      "cell_type": "markdown",
      "metadata": {
        "id": "BReT9H2syEn2"
      },
      "source": [
        "### 4.4.3 Random Forest Penalise Algorithm "
      ]
    },
    {
      "cell_type": "code",
      "metadata": {
        "colab": {
          "base_uri": "https://localhost:8080/"
        },
        "id": "B9QSatb8yaSN",
        "outputId": "dc0a5175-9aea-4165-d143-e70871989080"
      },
      "source": [
        "RFccp = RandomForestClassifier(random_state=1, n_estimators=100, class_weight='balanced')\n",
        "#fit the model\n",
        "RFccp.fit(X4_train, y4_train)"
      ],
      "execution_count": null,
      "outputs": [
        {
          "output_type": "execute_result",
          "data": {
            "text/plain": [
              "RandomForestClassifier(bootstrap=True, ccp_alpha=0.0, class_weight='balanced',\n",
              "                       criterion='gini', max_depth=None, max_features='auto',\n",
              "                       max_leaf_nodes=None, max_samples=None,\n",
              "                       min_impurity_decrease=0.0, min_impurity_split=None,\n",
              "                       min_samples_leaf=1, min_samples_split=2,\n",
              "                       min_weight_fraction_leaf=0.0, n_estimators=100,\n",
              "                       n_jobs=None, oob_score=False, random_state=1, verbose=0,\n",
              "                       warm_start=False)"
            ]
          },
          "metadata": {},
          "execution_count": 34
        }
      ]
    },
    {
      "cell_type": "code",
      "metadata": {
        "colab": {
          "base_uri": "https://localhost:8080/"
        },
        "id": "dH24bRXWya6L",
        "outputId": "7b356133-9400-4a55-cfe9-2df97ef5821f"
      },
      "source": [
        "#predictions\n",
        "y4_predp3 = RFccp.predict(X4_test)\n",
        "#evaluate predictions\n",
        "print('Accuracy: %.3f' % accuracy_score(y4_test, y4_predp3))\n",
        "print('Precision: %.3f' % precision_score(y4_test, y4_predp3))\n",
        "print('Recall: %.3f' % recall_score(y4_test, y4_predp3))\n",
        "print('F-measure: %.3f' % f1_score(y4_test, y4_predp3))"
      ],
      "execution_count": null,
      "outputs": [
        {
          "output_type": "stream",
          "name": "stdout",
          "text": [
            "Accuracy: 1.000\n",
            "Precision: 0.977\n",
            "Recall: 0.816\n",
            "F-measure: 0.889\n"
          ]
        }
      ]
    },
    {
      "cell_type": "markdown",
      "metadata": {
        "id": "gEcYTVC_9EUR"
      },
      "source": [
        "## **4.5 Tables of model scores**"
      ]
    },
    {
      "cell_type": "markdown",
      "metadata": {
        "id": "5sqNQ57s9J5W"
      },
      "source": [
        "### 4.5.1 Imbalanced Data set"
      ]
    },
    {
      "cell_type": "code",
      "metadata": {
        "id": "RD2YfHJj9PD-",
        "colab": {
          "base_uri": "https://localhost:8080/",
          "height": 220
        },
        "outputId": "404e63b4-95a3-48e7-bfc4-fe108f7f0cf3"
      },
      "source": [
        "model_names = ['XGBoost', 'LogReg', 'SVM', 'GNB', 'RF']\n",
        "\n",
        "acci= [1,0.999,0.998,0.984,1]\n",
        "preci=[0.929,0.793,0.727,0.118,0.938]\n",
        "reci=[0.902,0.637,0.471,0.902,0.892]\n",
        "fi=[0.915,0.707,0.571,0.209,0.915]\n",
        "\n",
        "dcci = {'Model_Names': model_names, 'accuracy': acci, 'precision' : preci, 'recall' : reci, 'f_score' : fi}\n",
        "dfccit = pd.DataFrame(data=dcci)\n",
        "print('The table for the imbalanced data is:')\n",
        "dfccit\n"
      ],
      "execution_count": null,
      "outputs": [
        {
          "output_type": "stream",
          "name": "stdout",
          "text": [
            "The table for the imbalanced data is:\n"
          ]
        },
        {
          "output_type": "execute_result",
          "data": {
            "text/html": [
              "<div>\n",
              "<style scoped>\n",
              "    .dataframe tbody tr th:only-of-type {\n",
              "        vertical-align: middle;\n",
              "    }\n",
              "\n",
              "    .dataframe tbody tr th {\n",
              "        vertical-align: top;\n",
              "    }\n",
              "\n",
              "    .dataframe thead th {\n",
              "        text-align: right;\n",
              "    }\n",
              "</style>\n",
              "<table border=\"1\" class=\"dataframe\">\n",
              "  <thead>\n",
              "    <tr style=\"text-align: right;\">\n",
              "      <th></th>\n",
              "      <th>Model_Names</th>\n",
              "      <th>accuracy</th>\n",
              "      <th>precision</th>\n",
              "      <th>recall</th>\n",
              "      <th>f_score</th>\n",
              "    </tr>\n",
              "  </thead>\n",
              "  <tbody>\n",
              "    <tr>\n",
              "      <th>0</th>\n",
              "      <td>XGBoost</td>\n",
              "      <td>1.000</td>\n",
              "      <td>0.929</td>\n",
              "      <td>0.902</td>\n",
              "      <td>0.915</td>\n",
              "    </tr>\n",
              "    <tr>\n",
              "      <th>1</th>\n",
              "      <td>LogReg</td>\n",
              "      <td>0.999</td>\n",
              "      <td>0.793</td>\n",
              "      <td>0.637</td>\n",
              "      <td>0.707</td>\n",
              "    </tr>\n",
              "    <tr>\n",
              "      <th>2</th>\n",
              "      <td>SVM</td>\n",
              "      <td>0.998</td>\n",
              "      <td>0.727</td>\n",
              "      <td>0.471</td>\n",
              "      <td>0.571</td>\n",
              "    </tr>\n",
              "    <tr>\n",
              "      <th>3</th>\n",
              "      <td>GNB</td>\n",
              "      <td>0.984</td>\n",
              "      <td>0.118</td>\n",
              "      <td>0.902</td>\n",
              "      <td>0.209</td>\n",
              "    </tr>\n",
              "    <tr>\n",
              "      <th>4</th>\n",
              "      <td>RF</td>\n",
              "      <td>1.000</td>\n",
              "      <td>0.938</td>\n",
              "      <td>0.892</td>\n",
              "      <td>0.915</td>\n",
              "    </tr>\n",
              "  </tbody>\n",
              "</table>\n",
              "</div>"
            ],
            "text/plain": [
              "  Model_Names  accuracy  precision  recall  f_score\n",
              "0     XGBoost     1.000      0.929   0.902    0.915\n",
              "1      LogReg     0.999      0.793   0.637    0.707\n",
              "2         SVM     0.998      0.727   0.471    0.571\n",
              "3         GNB     0.984      0.118   0.902    0.209\n",
              "4          RF     1.000      0.938   0.892    0.915"
            ]
          },
          "metadata": {},
          "execution_count": 6
        }
      ]
    },
    {
      "cell_type": "markdown",
      "metadata": {
        "id": "SjmB2_u9mSd8"
      },
      "source": [
        "### 4.5.2 Undersampling "
      ]
    },
    {
      "cell_type": "code",
      "metadata": {
        "colab": {
          "base_uri": "https://localhost:8080/",
          "height": 220
        },
        "id": "vatBHGr-ma-P",
        "outputId": "6e14f7bd-dd3c-43c0-d20b-1d3c18e1e6cc"
      },
      "source": [
        "accu= [0.961,0.958,0.938,0.938,0.958]\n",
        "precu=[0.979,1,0.988,0.697,1]\n",
        "recu=[0.903,0.874,0.825,0.845,0.874]\n",
        "fu=[0.939,0.933,0.899,0.902,0.933]\n",
        "\n",
        "dccu = {'Model_Names': model_names, 'accuracy': accu, 'precision' : precu, 'recall' : recu, 'f_score' : fu}\n",
        "dfccut = pd.DataFrame(data=dccu)\n",
        "print('The table for the undersample data is:')\n",
        "dfccut"
      ],
      "execution_count": null,
      "outputs": [
        {
          "output_type": "stream",
          "name": "stdout",
          "text": [
            "The table for the undersample data is:\n"
          ]
        },
        {
          "output_type": "execute_result",
          "data": {
            "text/html": [
              "<div>\n",
              "<style scoped>\n",
              "    .dataframe tbody tr th:only-of-type {\n",
              "        vertical-align: middle;\n",
              "    }\n",
              "\n",
              "    .dataframe tbody tr th {\n",
              "        vertical-align: top;\n",
              "    }\n",
              "\n",
              "    .dataframe thead th {\n",
              "        text-align: right;\n",
              "    }\n",
              "</style>\n",
              "<table border=\"1\" class=\"dataframe\">\n",
              "  <thead>\n",
              "    <tr style=\"text-align: right;\">\n",
              "      <th></th>\n",
              "      <th>Model_Names</th>\n",
              "      <th>accuracy</th>\n",
              "      <th>precision</th>\n",
              "      <th>recall</th>\n",
              "      <th>f_score</th>\n",
              "    </tr>\n",
              "  </thead>\n",
              "  <tbody>\n",
              "    <tr>\n",
              "      <th>0</th>\n",
              "      <td>XGBoost</td>\n",
              "      <td>0.961</td>\n",
              "      <td>0.979</td>\n",
              "      <td>0.903</td>\n",
              "      <td>0.939</td>\n",
              "    </tr>\n",
              "    <tr>\n",
              "      <th>1</th>\n",
              "      <td>LogReg</td>\n",
              "      <td>0.958</td>\n",
              "      <td>1.000</td>\n",
              "      <td>0.874</td>\n",
              "      <td>0.933</td>\n",
              "    </tr>\n",
              "    <tr>\n",
              "      <th>2</th>\n",
              "      <td>SVM</td>\n",
              "      <td>0.938</td>\n",
              "      <td>0.988</td>\n",
              "      <td>0.825</td>\n",
              "      <td>0.899</td>\n",
              "    </tr>\n",
              "    <tr>\n",
              "      <th>3</th>\n",
              "      <td>GNB</td>\n",
              "      <td>0.938</td>\n",
              "      <td>0.697</td>\n",
              "      <td>0.845</td>\n",
              "      <td>0.902</td>\n",
              "    </tr>\n",
              "    <tr>\n",
              "      <th>4</th>\n",
              "      <td>RF</td>\n",
              "      <td>0.958</td>\n",
              "      <td>1.000</td>\n",
              "      <td>0.874</td>\n",
              "      <td>0.933</td>\n",
              "    </tr>\n",
              "  </tbody>\n",
              "</table>\n",
              "</div>"
            ],
            "text/plain": [
              "  Model_Names  accuracy  precision  recall  f_score\n",
              "0     XGBoost     0.961      0.979   0.903    0.939\n",
              "1      LogReg     0.958      1.000   0.874    0.933\n",
              "2         SVM     0.938      0.988   0.825    0.899\n",
              "3         GNB     0.938      0.697   0.845    0.902\n",
              "4          RF     0.958      1.000   0.874    0.933"
            ]
          },
          "metadata": {},
          "execution_count": 8
        }
      ]
    },
    {
      "cell_type": "markdown",
      "metadata": {
        "id": "q4UM4OiEnNyq"
      },
      "source": [
        "### 4.5.3 Oversample"
      ]
    },
    {
      "cell_type": "code",
      "metadata": {
        "colab": {
          "base_uri": "https://localhost:8080/",
          "height": 220
        },
        "id": "_6-0eBDhnRTv",
        "outputId": "2aa9b3a7-0a1e-4286-9268-d0977d6c7e68"
      },
      "source": [
        "acco= [0.997,0.963,0.974,0.955,1]\n",
        "preco=[0.998,0.989,0.995,0.971,0.999]\n",
        "reco=[0.992,0.898,0.925,0.891,1]\n",
        "fo=[0.995,0.941,0.959,0.929,0.999]\n",
        "\n",
        "dcco = {'Model_Names': model_names, 'accuracy': acco, 'precision' : preco, 'recall' : reco, 'f_score' : fo}\n",
        "dfccot = pd.DataFrame(data=dcco)\n",
        "print('The table for the oversample data is:')\n",
        "dfccot"
      ],
      "execution_count": null,
      "outputs": [
        {
          "output_type": "stream",
          "name": "stdout",
          "text": [
            "The table for the oversample data is:\n"
          ]
        },
        {
          "output_type": "execute_result",
          "data": {
            "text/html": [
              "<div>\n",
              "<style scoped>\n",
              "    .dataframe tbody tr th:only-of-type {\n",
              "        vertical-align: middle;\n",
              "    }\n",
              "\n",
              "    .dataframe tbody tr th {\n",
              "        vertical-align: top;\n",
              "    }\n",
              "\n",
              "    .dataframe thead th {\n",
              "        text-align: right;\n",
              "    }\n",
              "</style>\n",
              "<table border=\"1\" class=\"dataframe\">\n",
              "  <thead>\n",
              "    <tr style=\"text-align: right;\">\n",
              "      <th></th>\n",
              "      <th>Model_Names</th>\n",
              "      <th>accuracy</th>\n",
              "      <th>precision</th>\n",
              "      <th>recall</th>\n",
              "      <th>f_score</th>\n",
              "    </tr>\n",
              "  </thead>\n",
              "  <tbody>\n",
              "    <tr>\n",
              "      <th>0</th>\n",
              "      <td>XGBoost</td>\n",
              "      <td>0.997</td>\n",
              "      <td>0.998</td>\n",
              "      <td>0.992</td>\n",
              "      <td>0.995</td>\n",
              "    </tr>\n",
              "    <tr>\n",
              "      <th>1</th>\n",
              "      <td>LogReg</td>\n",
              "      <td>0.963</td>\n",
              "      <td>0.989</td>\n",
              "      <td>0.898</td>\n",
              "      <td>0.941</td>\n",
              "    </tr>\n",
              "    <tr>\n",
              "      <th>2</th>\n",
              "      <td>SVM</td>\n",
              "      <td>0.974</td>\n",
              "      <td>0.995</td>\n",
              "      <td>0.925</td>\n",
              "      <td>0.959</td>\n",
              "    </tr>\n",
              "    <tr>\n",
              "      <th>3</th>\n",
              "      <td>GNB</td>\n",
              "      <td>0.955</td>\n",
              "      <td>0.971</td>\n",
              "      <td>0.891</td>\n",
              "      <td>0.929</td>\n",
              "    </tr>\n",
              "    <tr>\n",
              "      <th>4</th>\n",
              "      <td>RF</td>\n",
              "      <td>1.000</td>\n",
              "      <td>0.999</td>\n",
              "      <td>1.000</td>\n",
              "      <td>0.999</td>\n",
              "    </tr>\n",
              "  </tbody>\n",
              "</table>\n",
              "</div>"
            ],
            "text/plain": [
              "  Model_Names  accuracy  precision  recall  f_score\n",
              "0     XGBoost     0.997      0.998   0.992    0.995\n",
              "1      LogReg     0.963      0.989   0.898    0.941\n",
              "2         SVM     0.974      0.995   0.925    0.959\n",
              "3         GNB     0.955      0.971   0.891    0.929\n",
              "4          RF     1.000      0.999   1.000    0.999"
            ]
          },
          "metadata": {},
          "execution_count": 10
        }
      ]
    },
    {
      "cell_type": "markdown",
      "metadata": {
        "id": "1xZs-gzvoEPc"
      },
      "source": [
        "### 4.5.4 Penalise Algorithm"
      ]
    },
    {
      "cell_type": "code",
      "metadata": {
        "colab": {
          "base_uri": "https://localhost:8080/",
          "height": 158
        },
        "id": "yEhHhpA4oMWW",
        "outputId": "6412a605-2fa7-4cc7-91dc-3a95237159de"
      },
      "source": [
        "model_names1 = [ 'LogReg', 'SVM',  'RF']\n",
        "accp= [0.999,0.858,1]\n",
        "precp=[0.735, 0.007,0.977]\n",
        "recp=[0.699,0.388,0.816]\n",
        "fp=[0.716,0.013,0.889]\n",
        "\n",
        "dccp = {'Model_Names': model_names1, 'accuracy': accp, 'precision' : precp, 'recall' : recp, 'f_score' : fp}\n",
        "dfccpt = pd.DataFrame(data=dccp)\n",
        "print('The table for the oversample data is:')\n",
        "dfccpt\n"
      ],
      "execution_count": null,
      "outputs": [
        {
          "output_type": "stream",
          "name": "stdout",
          "text": [
            "The table for the oversample data is:\n"
          ]
        },
        {
          "output_type": "execute_result",
          "data": {
            "text/html": [
              "<div>\n",
              "<style scoped>\n",
              "    .dataframe tbody tr th:only-of-type {\n",
              "        vertical-align: middle;\n",
              "    }\n",
              "\n",
              "    .dataframe tbody tr th {\n",
              "        vertical-align: top;\n",
              "    }\n",
              "\n",
              "    .dataframe thead th {\n",
              "        text-align: right;\n",
              "    }\n",
              "</style>\n",
              "<table border=\"1\" class=\"dataframe\">\n",
              "  <thead>\n",
              "    <tr style=\"text-align: right;\">\n",
              "      <th></th>\n",
              "      <th>Model_Names</th>\n",
              "      <th>accuracy</th>\n",
              "      <th>precision</th>\n",
              "      <th>recall</th>\n",
              "      <th>f_score</th>\n",
              "    </tr>\n",
              "  </thead>\n",
              "  <tbody>\n",
              "    <tr>\n",
              "      <th>0</th>\n",
              "      <td>LogReg</td>\n",
              "      <td>0.999</td>\n",
              "      <td>0.735</td>\n",
              "      <td>0.699</td>\n",
              "      <td>0.716</td>\n",
              "    </tr>\n",
              "    <tr>\n",
              "      <th>1</th>\n",
              "      <td>SVM</td>\n",
              "      <td>0.858</td>\n",
              "      <td>0.007</td>\n",
              "      <td>0.388</td>\n",
              "      <td>0.013</td>\n",
              "    </tr>\n",
              "    <tr>\n",
              "      <th>2</th>\n",
              "      <td>RF</td>\n",
              "      <td>1.000</td>\n",
              "      <td>0.977</td>\n",
              "      <td>0.816</td>\n",
              "      <td>0.889</td>\n",
              "    </tr>\n",
              "  </tbody>\n",
              "</table>\n",
              "</div>"
            ],
            "text/plain": [
              "  Model_Names  accuracy  precision  recall  f_score\n",
              "0      LogReg     0.999      0.735   0.699    0.716\n",
              "1         SVM     0.858      0.007   0.388    0.013\n",
              "2          RF     1.000      0.977   0.816    0.889"
            ]
          },
          "metadata": {},
          "execution_count": 11
        }
      ]
    },
    {
      "cell_type": "markdown",
      "metadata": {
        "id": "eZTjIC5xJjxw"
      },
      "source": [
        "#**5. Summary**"
      ]
    },
    {
      "cell_type": "markdown",
      "metadata": {
        "id": "yE4743lVAtFm"
      },
      "source": [
        "##5.1 Theory"
      ]
    },
    {
      "cell_type": "markdown",
      "metadata": {
        "id": "Et2tuHvo_D--"
      },
      "source": [
        "XGBoost, co-created by Tianqi Chen has grown to be one of the most efficient machine learning algorithms available. In 2016 he rendered it 10 times faster than other machine learning solutions and many this credited it due to its simplicity, robustness, scalability and consistency (Sundaram, 2021). \n",
        "\n",
        "Often, we see in real world data that they are split unevenly i.e., the data is imbalanced. This can be seen in the credit card fraud detection dataset whereby the majority of the observations are classified as ‘authorised transactions’ and a small percentage is classified as ‘fraud’. Running predictions form this point would be hardly different to just random guessing due to this imbalance.  Therefore, we use boosting as a method to covert these weak learners in classifying observations as ‘fraud’ to strong learners by combining the weighted averages. This is generally explained in three steps:\n",
        "\n",
        "**Step 1.** The base learner (initial model) assigns equal weight to each observation by taking all the distributions.\n",
        "\n",
        "**Step 2.** If there are any residuals i.e., difference between predicted and true values, a second base learner is applied.\n",
        "\n",
        "**Step 3.** Repeat Step 2 until the maximum number of trees have been reached (default of 100 in this paper) or if optimized accuracy is achieved. \n",
        "\n",
        "Boosting primarily focuses more on observations that are mis-classified or have high residuals (Ray, 2015). XGBoost is quite like Random Forest as they both employ tree ensemble techniques. However, key differences exist which give XGBoost the widespread fame and recognition it has today (Gupta, 2021). XGB prunes the trees if minimal gain is derived from them which prevents overfitting compared to RF which continues to create newer models. XGB favors unbalanced datasets as it gives extra weight to the minority (combines weak learners to create a strong learner), a process that is not guaranteed in RF. XGB requires only a low number of initial hyperparameters compared to RF which favors test data with high variations. Higher preference may be given to classes with more participation within categorical variables with RF compared to XGB which can lead to less accurate predictions especially in unbalanced datasets. "
      ]
    },
    {
      "cell_type": "markdown",
      "metadata": {
        "id": "eIpXrGnvAzL7"
      },
      "source": [
        "##5.2 Pros & Cons of Datasets"
      ]
    },
    {
      "cell_type": "markdown",
      "metadata": {
        "id": "7yCE3Q-3F1OF"
      },
      "source": [
        "The iris dataset isn't all that suited to showing how to deal with imbalanced datasets, as it's naturally a balanced, small dataset. By manipulating the data, one could really distory the results. \n",
        "\n",
        "The credit card dataset was significantly imbalanced with 99.76% of the data in the authorised transactions class and 0.24% in the fraudulent transactions class. Therefore the imbalanced techniques needed to be used to improve the models performance. The large number of predictor variables meant that predictions were more accurate, however, this lead to a long training time particularly for the penalied support vector machine."
      ]
    },
    {
      "cell_type": "markdown",
      "metadata": {
        "id": "SLuKCGdIA5aD"
      },
      "source": [
        "##5.3 Findings & Conclusions"
      ]
    },
    {
      "cell_type": "markdown",
      "metadata": {
        "id": "gu5qS1NYZfgf"
      },
      "source": [
        "###5.3.1 Synthetic Dataset\n",
        "Accuracy is high in imbalanced set: However, using accuracy as a performance measure for highly imbalanced datasets may not be a good idea. For example, if 90% points belong to the true class in a binary classification problem, a default prediction of true for all data points leads to a classifier which is 90% accurate, even though the classifier has not learnt anything about the classification problem at hand.\n",
        "\n",
        "The undersample dataset seems to perform worse overall than the oversample dataset. This could be due to the fact that we are disregarding a lot of samples by undersampling and therefore do not have enough data to train a good classifier.\n",
        "\n",
        "XGBoost performs very well for the imbalanced dataset because in XGBoost when it misclassifies a sample it puts more importance on it in further iterations which helps the model classify samples in the smaller class.\n",
        "\n",
        "XGBoost does not perform as well as some of the other models such as LogReg and SVM in the undersample dataset. \n",
        "\n",
        "XGBoost and Random Forest both perform really well for the oversample dataset. This could be because they are both tree-based models. Both XGBoost and Random Forest are popular for classification problems due to the high levels of accuracy they can attain.\n",
        "\n"
      ]
    },
    {
      "cell_type": "markdown",
      "metadata": {
        "id": "nKfJwTiL4NGs"
      },
      "source": [
        "###5.3.2 Iris Dataset\n",
        "The iris dataset is an intriguing investigation here as it's 3 classed with only 150 samples. Furthermore, it's the only dataset in this paper which is naturally balanced, and had to be synthetically imbalanced for the purpose of comparison. Due to it's low sample size, making it imbalanced can particularly sway your results. \n",
        "\n",
        "When analysing the imbalanced results (pre any technique), the scores are relatively high, but unanimous across all 5 techniques. It's interesting how XGBoost, which is widely considered the best machine learning algorithm, appears to make the same pitfalls as the other 4. While results are high in all categories, precision is highest at .987 while recall is lowest at .967.\n",
        "\n",
        "For undersampling, we can see the limitation of XGBoost. With less data, XGBoost performed the worst of all 3 metrics with an accuracy score of .9 and an F1 score of .898. SVM performed perfectly for undersampling, with a score of 1 in all 4 metrics.\n",
        "\n",
        "For oversampling, XGBoost shines alongside Random Forests. Both techniques recored .987 in all 4 metrics"
      ]
    },
    {
      "cell_type": "markdown",
      "metadata": {
        "id": "pwP9nannDgCq"
      },
      "source": [
        "### 5.3.3 Credit card dataset\n",
        "When analysing the scores for the credit card dataset, it is important to put more weight on precision as this measures the proportion of transactions predicted as fraudulent and were correctly identified as fraudulent. Recall is also important as this measures the proportion of transactions that were fraudulent that were correctly identified by the model. For the imbalanced dataset, the XGBoost and Random Forest (RF) models performed the best. Both models had an accuracy of 1 and an F-score of 0.915. The XGBoost had a marginally higher recall rate while the RF had a marginally higher precision which indicates that the RF is a slightly better model. The Gaussian Naïve Bayes (GNB) model was the worst performing model on this data.\n",
        "\n",
        "After the undersampling technique was applied to the dataset, the XGBoost, logistic regression (LR) and RF models all performed well. The LR and RF models had a perfect precision score of 1, meaning that all predicted fraudulent transactions were correct and there were no false positives. The XGBoost model had the highest F-score, which is the harmonic mean of the precision and recall. The support vector machine (SVM) and GNB models were the poorest performing models as they had the lowest recall and precision respectively.\n",
        "\n",
        "After the oversampling technique had been applied, the scores indicated that the RF model was the best performing model, slightly outperforming the XGBoost model. Both models had very high scores. The RF model had a near perfect score in all categories. The GNB was the worst performing model, having the lowest score in all categories. \n",
        "\n",
        "After the penalise algorithm was applied to the RF, SVM and LR models, it was clear that the RF was the best performing model as it had the highest scores in all categories. The SVM was the worst performing model and seemed to be negatively affected by the penalise algorithm.\n",
        "\n",
        "Overall, the best performing model was the oversample RF model which had an accuracy rate of 1, precision rate of 0.999, recall rate of 1 and an F-Score of 0.999."
      ]
    },
    {
      "cell_type": "markdown",
      "metadata": {
        "id": "i9ODxhDrA9az"
      },
      "source": [
        "##5.4 Hints & Tips"
      ]
    },
    {
      "cell_type": "markdown",
      "metadata": {
        "id": "PJ4HyRLJErhz"
      },
      "source": [
        "When dealing with the newly imbalanced iris dataset, it was hugely beneficial to use ***sampling_strategy='not minority'*** for the undersampling. This qucikly reduced all other classes to the minority class count. Similarly, ***sampling_strategy='not majority'*** allowed us to raise the class count for the other two classes to match the majority count. \n",
        "\n",
        "A null row needed to be removed from the Credit card dataset in order to train the models and perform the data split. The function ***isnull().sum().max()*** was used to detect the null row and then the function ***.dropna()*** was used to remove this row.\n",
        "\n"
      ]
    },
    {
      "cell_type": "markdown",
      "metadata": {
        "id": "yOqpziwZ-czm"
      },
      "source": [
        "#**6. Bibliography**"
      ]
    },
    {
      "cell_type": "markdown",
      "metadata": {
        "id": "pDEJHqmx-sIG"
      },
      "source": [
        "Albon, C. (2018) *Machine Learning with Python cookbook: practical solutions from preprocessing to deep learning*. First edition. Sebastopol, CA: O’Reilly Media. [accessed 11 Oct 2021].\n",
        "\n",
        "Brownlee, J. (2021) *How to Combine Oversampling and Undersampling for Imbalanced Classification*, Machine Learning Mastery, available: https://machinelearningmastery.com/combine-oversampling-and-undersampling-for-imbalanced-classification/ [accessed 13 Oct 2021].\n",
        "\n",
        "Brownlee, J. (2021) *Random Oversampling and Undersampling for Imbalanced Classification*, Machine Learning Mastery, available: https://machinelearningmastery.com/random-oversampling-and-undersampling-for-imbalanced-classification/ [accessed 12 Oct 2021].\n",
        "\n",
        "Brownlee, J. (2021) *Undersampling Algorithms for Imbalanced Classification*, Machine Learning Mastery, available: https://machinelearningmastery.com/undersampling-algorithms-for-imbalanced-classification/ [accessed 12 Oct 2021].\n",
        "\n",
        "Chen, T. and Guestrin, C., 2016. XGBoost: A Scalable Tree Boosting System. KDD, [online] Available at: <https://www.kdd.org/kdd2016/papers/files/rfp0697-chenAemb.pdf> [Accessed 16 October 2021].\n",
        "\n",
        "Gupta, A. (n.d.) *XGBoost versus Random Forest*, Geek Culture, available: https://medium.com/geekculture/xgboost-versus-random-forest-898e42870f30 [accessed 15 Oct 2021].\n",
        "\n",
        "Madhukar, B. (2020) *Using Near-Miss Algorithm For Imbalanced Datasets*, Analytics India Magazine, available: https://analyticsindiamag.com/using-near-miss-algorithm-for-imbalanced-datasets/ [accessed 13 Oct 2021].\n",
        "\n",
        "Muller, A.C., and Guid, S. (2016) *Introduction to Machine Learning with Python: A Guide For Data Scientists*, First edition., Sebastopol, CA: O’Reilly Media. [accessed 08 Oct 2021].\n",
        "\n",
        "Ray, S., 2015. Quick Introduction to Boosting Algorithms in Machine Learning. [Blog] Analytics Vidhya, Available at: <https://www.analyticsvidhya.com/blog/2015/11/quick-introduction-boosting-algorithms-machine-learning/> [Accessed 16 October 2021].\n",
        "\n",
        "Sundaram, R., 2021. An End-to-End Guide to Understand the Math behind XGBoost. [Blog] Analytics Vidhya, Available at: <https://www.analyticsvidhya.com/blog/2018/09/an-end-to-end-guide-to-understand-the-math-behind-xgboost/> "
      ]
    }
  ]
}